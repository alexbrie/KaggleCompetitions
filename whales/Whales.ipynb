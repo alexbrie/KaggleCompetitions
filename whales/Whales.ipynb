{
 "cells": [
  {
   "cell_type": "code",
   "execution_count": 1,
   "metadata": {},
   "outputs": [
    {
     "name": "stderr",
     "output_type": "stream",
     "text": [
      "/home/ubuntu/src/anaconda3/envs/fastai/lib/python3.6/site-packages/sklearn/ensemble/weight_boosting.py:29: DeprecationWarning: numpy.core.umath_tests is an internal NumPy module and should not be imported. It will be removed in a future NumPy release.\n",
      "  from numpy.core.umath_tests import inner1d\n"
     ]
    }
   ],
   "source": [
    "from fastai.conv_learner import *\n",
    "from fastai.dataset import *\n",
    "from tqdm import tqdm\n",
    "import pandas as pd\n",
    "import numpy as np\n",
    "import os\n",
    "from sklearn.model_selection import train_test_split, StratifiedShuffleSplit\n",
    "import matplotlib.pyplot as plt\n",
    "import math"
   ]
  },
  {
   "cell_type": "code",
   "execution_count": 35,
   "metadata": {},
   "outputs": [],
   "source": [
    "#MODEL_PATH = 'Resnet18_v1'\n",
    "TRAIN = './input/train/'\n",
    "TEST = './input/test/'\n",
    "LABELS = './input/train.csv'\n",
    "SAMPLE_SUB = './input/sample_submission.csv'\n",
    "\n",
    "#MODEL_PATH = 'Resnet18_v1'\n",
    "TRAIN_SRC = './input/train/'\n",
    "TEST_SRC = './input/test/'\n",
    "LABELS = './input/train.csv'\n",
    "SAMPLE_SUB = './input/sample_submission.csv'\n",
    "#TRAIN = \"./input/tmp/train/\"\n",
    "#TEST = \"./input/tmp/test/\"\n",
    "TRAIN1 = \"./input/tmp1/train/\"\n",
    "TEST1 = \"./input/tmp1/test/\"\n",
    "\n",
    "\n"
   ]
  },
  {
   "cell_type": "code",
   "execution_count": 3,
   "metadata": {},
   "outputs": [],
   "source": [
    "arch = resnet18\n",
    "nw = 8"
   ]
  },
  {
   "cell_type": "code",
   "execution_count": 4,
   "metadata": {},
   "outputs": [
    {
     "name": "stdout",
     "output_type": "stream",
     "text": [
      "Number of classes: 5005\n"
     ]
    }
   ],
   "source": [
    "train_df = pd.read_csv(LABELS).set_index('Image')\n",
    "unique_labels = np.unique(train_df.Id.values)\n",
    "labels_dict = dict()\n",
    "labels_list = []\n",
    "for i in range(len(unique_labels)):\n",
    "    labels_dict[unique_labels[i]] = i\n",
    "    labels_list.append(unique_labels[i])\n",
    "print(\"Number of classes: {}\".format(len(unique_labels)))\n",
    "train_names = train_df.index.values\n",
    "train_df.Id = train_df.Id.apply(lambda x: labels_dict[x])\n",
    "train_labels = np.asarray(train_df.Id.values)\n",
    "test_names = [f for f in os.listdir(TEST)]"
   ]
  },
  {
   "cell_type": "code",
   "execution_count": 5,
   "metadata": {},
   "outputs": [],
   "source": [
    "labels_count = train_df.Id.value_counts()\n",
    "dup = []\n",
    "for idx,row in train_df.iterrows():\n",
    "    if labels_count[row['Id']] < 5:\n",
    "        dup.extend([idx]*math.ceil((5 - labels_count[row['Id']])/labels_count[row['Id']]))\n",
    "train_names = np.concatenate([train_names, dup])\n",
    "train_names = train_names[np.random.RandomState(seed=42).permutation(train_names.shape[0])]\n"
   ]
  },
  {
   "cell_type": "markdown",
   "metadata": {},
   "source": [
    "## Data analysis"
   ]
  },
  {
   "cell_type": "markdown",
   "metadata": {},
   "source": [
    "So most of the classes have only one or two sample(s), making train_test_split directly on the data impossible. We'll try a simple fix by duplicating the minor classes so that each class have a minimum of 5 samples."
   ]
  },
  {
   "cell_type": "code",
   "execution_count": 6,
   "metadata": {},
   "outputs": [
    {
     "name": "stdout",
     "output_type": "stream",
     "text": [
      "Count for class new_whale: 9664\n",
      "41589\n",
      "41589\n"
     ]
    },
    {
     "data": {
      "image/png": "[encoded data removed]",
      "text/plain": [
       "<Figure size 432x288 with 1 Axes>"
      ]
     },
     "metadata": {
      "needs_background": "light"
     },
     "output_type": "display_data"
    }
   ],
   "source": [
    "plt.hist(labels_count[1:],bins=100)\n",
    "print(\"Count for class new_whale: {}\".format(labels_count[0]))\n",
    "print(len(train_names))\n",
    "print(len(train_names))"
   ]
  },
  {
   "cell_type": "markdown",
   "metadata": {},
   "source": [
    "## Data prepare"
   ]
  },
  {
   "cell_type": "code",
   "execution_count": 7,
   "metadata": {},
   "outputs": [],
   "source": [
    "sss = StratifiedShuffleSplit(n_splits=1, test_size=0.2, random_state=42069)"
   ]
  },
  {
   "cell_type": "code",
   "execution_count": 8,
   "metadata": {},
   "outputs": [],
   "source": [
    "split = sss.split(train_names, np.zeros(train_names.shape))\n",
    "train_indexes = []\n",
    "val_indexes = []\n",
    "for train_idx, val_idx in sss.split(train_names, np.zeros(train_names.shape)):\n",
    "    train_indexes = train_idx\n",
    "    val_indexes = val_idx"
   ]
  },
  {
   "cell_type": "code",
   "execution_count": 9,
   "metadata": {},
   "outputs": [
    {
     "name": "stdout",
     "output_type": "stream",
     "text": [
      "33271 8318\n"
     ]
    }
   ],
   "source": [
    "print(len(train_indexes), len(val_indexes))"
   ]
  },
  {
   "cell_type": "code",
   "execution_count": 10,
   "metadata": {},
   "outputs": [],
   "source": [
    "tr_n = [train_names[i] for i in train_indexes]\n",
    "val_n = [train_names[i] for i in val_indexes]"
   ]
  },
  {
   "cell_type": "code",
   "execution_count": 11,
   "metadata": {},
   "outputs": [
    {
     "name": "stdout",
     "output_type": "stream",
     "text": [
      "33271 8318\n"
     ]
    }
   ],
   "source": [
    "print(len(tr_n), len(val_n))"
   ]
  },
  {
   "cell_type": "code",
   "execution_count": 12,
   "metadata": {},
   "outputs": [],
   "source": [
    "#labels = pd.read_csv(LABELS)\n",
    "#labels[\"Id\"]"
   ]
  },
  {
   "cell_type": "code",
   "execution_count": 20,
   "metadata": {},
   "outputs": [
    {
     "name": "stdout",
     "output_type": "stream",
     "text": [
      "992 512\n"
     ]
    }
   ],
   "source": [
    "avg_width = 0\n",
    "avg_height = 0\n",
    "images_widths = []\n",
    "images_heights = []\n",
    "for fn in os.listdir(TRAIN)[:1000]:\n",
    "    img = cv2.imread(os.path.join(TRAIN,fn))\n",
    "    images_widths.append(img.shape[1])\n",
    "    images_heights.append(img.shape[0])\n",
    "avg_width = int(np.mean(images_widths))\n",
    "avg_height = int(np.mean(images_heights))\n",
    "print(avg_width, avg_height)"
   ]
  },
  {
   "cell_type": "code",
   "execution_count": 14,
   "metadata": {},
   "outputs": [],
   "source": [
    "#val_n[:100]"
   ]
  },
  {
   "cell_type": "code",
   "execution_count": 13,
   "metadata": {},
   "outputs": [],
   "source": [
    "class HWIDataset(FilesDataset):\n",
    "    def __init__(self, fnames, path, transform):\n",
    "        self.train_df = train_df\n",
    "        super().__init__(fnames, transform, path)\n",
    "\n",
    "    def get_x(self, i):\n",
    "        img = open_image(os.path.join(self.path, self.fnames[i]))\n",
    "        # We crop the center of the original image for faster training time\n",
    "        img = cv2.resize(img, (self.sz, self.sz))\n",
    "        return img\n",
    "\n",
    "    def get_y(self, i):\n",
    "        if (self.path == TEST or self.path == TEST1 or self.path == TEST_SRC): return 0\n",
    "        return self.train_df.loc[self.fnames[i]]['Id']\n",
    "\n",
    "\n",
    "    def get_c(self):\n",
    "        return len(unique_labels)"
   ]
  },
  {
   "cell_type": "code",
   "execution_count": 27,
   "metadata": {},
   "outputs": [],
   "source": [
    "def get_data(sz, bs):\n",
    "    aug_tfms = [RandomRotateZoom(deg=20, zoom=2, stretch=1),\n",
    "                RandomLighting(0.05, 0.05),\n",
    "                RandomCrop(sz),\n",
    "                RandomBlur(blur_strengths=3),\n",
    "                RandomFlip()]\n",
    "    tfms = tfms_from_model(arch, sz, crop_type=CropType.NO, aug_tfms=aug_tfms)\n",
    "    ds = ImageData.get_ds(HWIDataset, (tr_n[:-(len(tr_n) % bs)], TRAIN),\n",
    "                          (val_n, TRAIN), tfms, test=(test_names, TEST))\n",
    "    md = ImageData(\"./\", ds, bs, num_workers=nw, classes=None)\n",
    "    return md"
   ]
  },
  {
   "cell_type": "markdown",
   "metadata": {},
   "source": [
    "## Learner"
   ]
  },
  {
   "cell_type": "code",
   "execution_count": 28,
   "metadata": {},
   "outputs": [],
   "source": [
    "batch_size = 64\n",
    "md = get_data(avg_width//4, batch_size)"
   ]
  },
  {
   "cell_type": "code",
   "execution_count": 29,
   "metadata": {},
   "outputs": [],
   "source": [
    "learn = ConvLearner.pretrained(arch, md, ps=0.5) \n",
    "learn.opt_fn = optim.Adam"
   ]
  },
  {
   "cell_type": "markdown",
   "metadata": {
    "heading_collapsed": true
   },
   "source": [
    "### Find Lr"
   ]
  },
  {
   "cell_type": "code",
   "execution_count": null,
   "metadata": {
    "hidden": true
   },
   "outputs": [],
   "source": [
    "learn.lr_find()\n",
    "learn.sched.plot()"
   ]
  },
  {
   "cell_type": "code",
   "execution_count": null,
   "metadata": {
    "hidden": true
   },
   "outputs": [],
   "source": [
    "lr = 5e-2"
   ]
  },
  {
   "cell_type": "code",
   "execution_count": null,
   "metadata": {
    "hidden": true
   },
   "outputs": [],
   "source": [
    "learn.fit(lr, 1, cycle_len=2)"
   ]
  },
  {
   "cell_type": "code",
   "execution_count": null,
   "metadata": {
    "hidden": true
   },
   "outputs": [],
   "source": [
    "learn.save(\"first_trainings\")"
   ]
  },
  {
   "cell_type": "markdown",
   "metadata": {},
   "source": [
    "### Load and start"
   ]
  },
  {
   "cell_type": "code",
   "execution_count": 21,
   "metadata": {},
   "outputs": [],
   "source": [
    "#learn.load(\"resnet19_im_4_20_16_cyc_1\")\n",
    "#learn.load(\"resnet19_1_20_16\")"
   ]
  },
  {
   "cell_type": "code",
   "execution_count": 19,
   "metadata": {},
   "outputs": [
    {
     "ename": "NameError",
     "evalue": "name 'learn' is not defined",
     "output_type": "error",
     "traceback": [
      "\u001b[0;31m---------------------------------------------------------------------------\u001b[0m",
      "\u001b[0;31mNameError\u001b[0m                                 Traceback (most recent call last)",
      "\u001b[0;32m<ipython-input-19-e9ed8beef70a>\u001b[0m in \u001b[0;36m<module>\u001b[0;34m\u001b[0m\n\u001b[0;32m----> 1\u001b[0;31m \u001b[0mlearn\u001b[0m\u001b[0;34m.\u001b[0m\u001b[0munfreeze\u001b[0m\u001b[0;34m(\u001b[0m\u001b[0;34m)\u001b[0m\u001b[0;34m\u001b[0m\u001b[0m\n\u001b[0m",
      "\u001b[0;31mNameError\u001b[0m: name 'learn' is not defined"
     ]
    }
   ],
   "source": [
    "learn.unfreeze()"
   ]
  },
  {
   "cell_type": "code",
   "execution_count": null,
   "metadata": {},
   "outputs": [],
   "source": [
    "lrs = np.array([lr/10, lr/20, lr/40])"
   ]
  },
  {
   "cell_type": "code",
   "execution_count": null,
   "metadata": {},
   "outputs": [],
   "source": [
    "learn.fit(lrs, 1, cycle_len=4, use_clr=(20, 16))"
   ]
  },
  {
   "cell_type": "code",
   "execution_count": null,
   "metadata": {},
   "outputs": [],
   "source": [
    "learn.save(\"resnet19_1_20_16\")"
   ]
  },
  {
   "cell_type": "markdown",
   "metadata": {},
   "source": [
    "### Day 1 - get to 0.30 acc"
   ]
  },
  {
   "cell_type": "code",
   "execution_count": 22,
   "metadata": {},
   "outputs": [],
   "source": [
    "learn.load(\"acc_0_30_tta_subm1\")"
   ]
  },
  {
   "cell_type": "code",
   "execution_count": null,
   "metadata": {},
   "outputs": [],
   "source": []
  },
  {
   "cell_type": "code",
   "execution_count": null,
   "metadata": {},
   "outputs": [],
   "source": [
    "learn.fit(lrs, 2, cycle_len=4, use_clr=(20, 16), cycle_save_name=\"resnet19_im_4_20_16\")"
   ]
  },
  {
   "cell_type": "code",
   "execution_count": null,
   "metadata": {},
   "outputs": [],
   "source": [
    "learn.save(\"acc_0_30_tta_subm1\")"
   ]
  },
  {
   "cell_type": "code",
   "execution_count": null,
   "metadata": {},
   "outputs": [],
   "source": [
    "def predict_and_save(pred_file) :\n",
    "    preds_t,y_t = learn.TTA(is_test=True,n_aug=8)\n",
    "    preds_t = np.stack(preds_t, axis=-1)\n",
    "    preds_t = np.exp(preds_t)\n",
    "    preds_t = preds_t.mean(axis=-1)\n",
    "    sample_df = pd.read_csv(SAMPLE_SUB)\n",
    "    sample_list = list(sample_df.Image)\n",
    "    pred_list = [[labels_list[i] for i in p.argsort()[-5:][::-1]] for p in preds_t]\n",
    "    pred_dic = dict((key, value) for (key, value) in zip(learn.data.test_ds.fnames,pred_list))\n",
    "    pred_list_cor = [' '.join(pred_dic[id]) for id in sample_list]\n",
    "    df = pd.DataFrame({'Image':sample_list,'Id': pred_list_cor})\n",
    "    df.to_csv(pred_file, header=True, index=False)\n",
    "    return df\n",
    "\n",
    "def submit_to_kaggle(pred_file, message):\n",
    "    !kaggle competitions submit -c humpback-whale-identification -f {pred_file} -m \\\"{message}\\\""
   ]
  },
  {
   "cell_type": "code",
   "execution_count": null,
   "metadata": {},
   "outputs": [],
   "source": [
    "df = predict_and_save(\"submission.csv\")\n",
    "df.head()"
   ]
  },
  {
   "cell_type": "code",
   "execution_count": null,
   "metadata": {},
   "outputs": [],
   "source": [
    "submit_to_kaggle(\"submission.csv\", \"1st\")"
   ]
  },
  {
   "cell_type": "markdown",
   "metadata": {},
   "source": [
    "### Day 2 - aim for 0.38 acc"
   ]
  },
  {
   "cell_type": "code",
   "execution_count": 28,
   "metadata": {},
   "outputs": [],
   "source": [
    "learn.load(\"acc_0_30_tta_subm1\")\n",
    "learn.unfreeze()"
   ]
  },
  {
   "cell_type": "code",
   "execution_count": 23,
   "metadata": {},
   "outputs": [
    {
     "data": {
      "application/vnd.jupyter.widget-view+json": {
       "model_id": "dace291a33b045c0949d3fae01c105b5",
       "version_major": 2,
       "version_minor": 0
      },
      "text/plain": [
       "HBox(children=(IntProgress(value=0, description='Epoch', max=1, style=ProgressStyle(description_width='initial…"
      ]
     },
     "metadata": {},
     "output_type": "display_data"
    },
    {
     "name": "stdout",
     "output_type": "stream",
     "text": [
      " 74%|███████▎  | 382/519 [03:16<00:50,  2.71it/s, loss=19.8]"
     ]
    },
    {
     "data": {
      "image/png": "[encoded data removed]",
      "text/plain": [
       "<Figure size 432x288 with 1 Axes>"
      ]
     },
     "metadata": {
      "needs_background": "light"
     },
     "output_type": "display_data"
    }
   ],
   "source": [
    "learn.lr_find()"
   ]
  },
  {
   "cell_type": "code",
   "execution_count": 27,
   "metadata": {},
   "outputs": [
    {
     "data": {
      "image/png": "[encoded data removed]",
      "text/plain": [
       "<Figure size 432x288 with 1 Axes>"
      ]
     },
     "metadata": {
      "needs_background": "light"
     },
     "output_type": "display_data"
    }
   ],
   "source": [
    "learn.sched.plot(n_skip_end=55)"
   ]
  },
  {
   "cell_type": "code",
   "execution_count": 31,
   "metadata": {},
   "outputs": [],
   "source": [
    "lr = 5e-4\n",
    "lrs = np.array([lr/50, lr/5, lr])"
   ]
  },
  {
   "cell_type": "code",
   "execution_count": 32,
   "metadata": {},
   "outputs": [
    {
     "data": {
      "application/vnd.jupyter.widget-view+json": {
       "model_id": "2ffe4ee25aec4274a1432d9ef155369c",
       "version_major": 2,
       "version_minor": 0
      },
      "text/plain": [
       "HBox(children=(IntProgress(value=0, description='Epoch', max=1, style=ProgressStyle(description_width='initial…"
      ]
     },
     "metadata": {},
     "output_type": "display_data"
    },
    {
     "name": "stdout",
     "output_type": "stream",
     "text": [
      "epoch      trn_loss   val_loss   accuracy                    \n",
      "    0      5.299536   7.42933    0.297788  \n"
     ]
    },
    {
     "data": {
      "text/plain": [
       "[7.4293297906138624, 0.2977879297048262]"
      ]
     },
     "execution_count": 32,
     "metadata": {},
     "output_type": "execute_result"
    }
   ],
   "source": [
    "learn.fit(lrs, 1, cycle_len=1, use_clr=(20, 10), cycle_save_name=\"3_resnet19_im_4_20_10\")"
   ]
  },
  {
   "cell_type": "code",
   "execution_count": 33,
   "metadata": {},
   "outputs": [
    {
     "data": {
      "application/vnd.jupyter.widget-view+json": {
       "model_id": "03a0fbecab4c43cf871d900f04dae9e8",
       "version_major": 2,
       "version_minor": 0
      },
      "text/plain": [
       "HBox(children=(IntProgress(value=0, description='Epoch', max=2, style=ProgressStyle(description_width='initial…"
      ]
     },
     "metadata": {},
     "output_type": "display_data"
    },
    {
     "name": "stdout",
     "output_type": "stream",
     "text": [
      "epoch      trn_loss   val_loss   accuracy                    \n",
      "    0      5.210281   7.348099   0.303078  \n",
      "    1      5.055032   7.265598   0.307285                    \n"
     ]
    },
    {
     "data": {
      "text/plain": [
       "[7.265598006705935, 0.3072854051741306]"
      ]
     },
     "execution_count": 33,
     "metadata": {},
     "output_type": "execute_result"
    }
   ],
   "source": [
    "learn.fit(lrs, 1, cycle_len=2, use_clr=(10, 5), cycle_save_name=\"4_resnet19_im_4_20_10\")"
   ]
  },
  {
   "cell_type": "code",
   "execution_count": 35,
   "metadata": {},
   "outputs": [],
   "source": [
    "data = get_data(400,32)"
   ]
  },
  {
   "cell_type": "code",
   "execution_count": 36,
   "metadata": {},
   "outputs": [],
   "source": [
    "learn.set_data(data)"
   ]
  },
  {
   "cell_type": "code",
   "execution_count": 37,
   "metadata": {},
   "outputs": [],
   "source": [
    "learn.unfreeze()"
   ]
  },
  {
   "cell_type": "code",
   "execution_count": 39,
   "metadata": {},
   "outputs": [],
   "source": [
    "learn.freeze_to(-1)"
   ]
  },
  {
   "cell_type": "code",
   "execution_count": 40,
   "metadata": {},
   "outputs": [
    {
     "data": {
      "application/vnd.jupyter.widget-view+json": {
       "model_id": "1c150c24727a4b0cb80a8d1bd54d8209",
       "version_major": 2,
       "version_minor": 0
      },
      "text/plain": [
       "HBox(children=(IntProgress(value=0, description='Epoch', max=2, style=ProgressStyle(description_width='initial…"
      ]
     },
     "metadata": {},
     "output_type": "display_data"
    },
    {
     "name": "stdout",
     "output_type": "stream",
     "text": [
      "epoch      trn_loss   val_loss   accuracy                     \n",
      "    0      5.896492   5.873581   0.254749  \n",
      "    1      5.78574    6.070103   0.255951                     \n"
     ]
    },
    {
     "data": {
      "text/plain": [
       "[6.070102691191783, 0.2559509498048614]"
      ]
     },
     "execution_count": 40,
     "metadata": {},
     "output_type": "execute_result"
    }
   ],
   "source": [
    "learn.fit(lrs, 1, cycle_len=2, use_clr=(10, 5), cycle_save_name=\"5_resnet19_im_4_20_10\")"
   ]
  },
  {
   "cell_type": "code",
   "execution_count": 41,
   "metadata": {},
   "outputs": [],
   "source": [
    "learn.unfreeze()\n",
    "learn.freeze_to(2)"
   ]
  },
  {
   "cell_type": "code",
   "execution_count": 42,
   "metadata": {},
   "outputs": [
    {
     "data": {
      "application/vnd.jupyter.widget-view+json": {
       "model_id": "846d65ffbe6f4564afd5c33b033976f2",
       "version_major": 2,
       "version_minor": 0
      },
      "text/plain": [
       "HBox(children=(IntProgress(value=0, description='Epoch', max=2, style=ProgressStyle(description_width='initial…"
      ]
     },
     "metadata": {},
     "output_type": "display_data"
    },
    {
     "name": "stdout",
     "output_type": "stream",
     "text": [
      "epoch      trn_loss   val_loss   accuracy                     \n",
      "    0      5.831699   7.142227   0.261     \n",
      "    1      4.831007   4.803642   0.305963                     \n"
     ]
    },
    {
     "data": {
      "text/plain": [
       "[4.803641574375329, 0.3059629719183978]"
      ]
     },
     "execution_count": 42,
     "metadata": {},
     "output_type": "execute_result"
    }
   ],
   "source": [
    "lr = 5e-3\n",
    "lrs = np.array([lr/50, lr/5, lr])\n",
    "learn.fit(lrs, 1, cycle_len=2, use_clr=(10, 5), cycle_save_name=\"6_resnet19_im_4_20_10\")"
   ]
  },
  {
   "cell_type": "code",
   "execution_count": 43,
   "metadata": {},
   "outputs": [
    {
     "data": {
      "application/vnd.jupyter.widget-view+json": {
       "model_id": "9192328afbc44b4c93dc3d0d9ce0bc2d",
       "version_major": 2,
       "version_minor": 0
      },
      "text/plain": [
       "HBox(children=(IntProgress(value=0, description='Epoch', max=2, style=ProgressStyle(description_width='initial…"
      ]
     },
     "metadata": {},
     "output_type": "display_data"
    },
    {
     "name": "stdout",
     "output_type": "stream",
     "text": [
      "epoch      trn_loss   val_loss   accuracy                     \n",
      "    0      5.13169    5.375348   0.295744  \n",
      "    1      4.129445   4.271421   0.363429                     \n"
     ]
    },
    {
     "data": {
      "text/plain": [
       "[4.271421332747984, 0.3634287088528996]"
      ]
     },
     "execution_count": 43,
     "metadata": {},
     "output_type": "execute_result"
    }
   ],
   "source": [
    "learn.fit(lrs, 1, cycle_len=2, use_clr=(10, 5), cycle_save_name=\"7_resnet19_im_4_20_10\")"
   ]
  },
  {
   "cell_type": "code",
   "execution_count": 45,
   "metadata": {},
   "outputs": [],
   "source": [
    "lr = 5e-4\n",
    "lrs = np.array([lr/50, lr/5, lr])"
   ]
  },
  {
   "cell_type": "code",
   "execution_count": 46,
   "metadata": {},
   "outputs": [
    {
     "data": {
      "application/vnd.jupyter.widget-view+json": {
       "model_id": "467d6978d2514c7b9caac00bb4d3f659",
       "version_major": 2,
       "version_minor": 0
      },
      "text/plain": [
       "HBox(children=(IntProgress(value=0, description='Epoch', max=2, style=ProgressStyle(description_width='initial…"
      ]
     },
     "metadata": {},
     "output_type": "display_data"
    },
    {
     "name": "stdout",
     "output_type": "stream",
     "text": [
      "epoch      trn_loss   val_loss   accuracy                     \n",
      "    0      4.589053   4.982277   0.306203  \n",
      "    1      4.392792   5.085818   0.311373                     \n"
     ]
    },
    {
     "data": {
      "text/plain": [
       "[5.085817570352703, 0.31137292621284185]"
      ]
     },
     "execution_count": 46,
     "metadata": {},
     "output_type": "execute_result"
    }
   ],
   "source": [
    "learn.fit(lrs, 1, cycle_len=2, use_clr=(10, 5), cycle_save_name=\"8_resnet19_im_4_20_10\")"
   ]
  },
  {
   "cell_type": "code",
   "execution_count": 20,
   "metadata": {},
   "outputs": [],
   "source": [
    "learn.load(\"8_resnet19_im_4_20_10_cyc_0\")\n",
    "learn.unfreeze()"
   ]
  },
  {
   "cell_type": "code",
   "execution_count": 21,
   "metadata": {},
   "outputs": [],
   "source": [
    "lr = 5e-5\n",
    "lrs = np.array([lr/100, lr/10, lr])"
   ]
  },
  {
   "cell_type": "code",
   "execution_count": 22,
   "metadata": {},
   "outputs": [
    {
     "data": {
      "application/vnd.jupyter.widget-view+json": {
       "model_id": "e96edb658b4b487f833b5afa1f26292b",
       "version_major": 2,
       "version_minor": 0
      },
      "text/plain": [
       "HBox(children=(IntProgress(value=0, description='Epoch', max=2, style=ProgressStyle(description_width='initial…"
      ]
     },
     "metadata": {},
     "output_type": "display_data"
    },
    {
     "name": "stdout",
     "output_type": "stream",
     "text": [
      "epoch      trn_loss   val_loss   accuracy                    \n",
      "    0      4.49616    5.440004   0.315581  \n",
      "    1      4.324825   5.977707   0.319788                    \n",
      "\n"
     ]
    },
    {
     "data": {
      "text/plain": [
       "[5.977706729978803, 0.3197884105824885]"
      ]
     },
     "execution_count": 22,
     "metadata": {},
     "output_type": "execute_result"
    }
   ],
   "source": [
    "learn.fit(lrs, 1, cycle_len=2, use_clr=(20, 10), cycle_save_name=\"9_resnet19_im_4_20_10\")"
   ]
  },
  {
   "cell_type": "code",
   "execution_count": 23,
   "metadata": {},
   "outputs": [],
   "source": [
    "data = get_data(400,32)\n",
    "learn.set_data(data)"
   ]
  },
  {
   "cell_type": "code",
   "execution_count": 25,
   "metadata": {},
   "outputs": [
    {
     "data": {
      "application/vnd.jupyter.widget-view+json": {
       "model_id": "a712935f574843e58b16e1b121ba7cbc",
       "version_major": 2,
       "version_minor": 0
      },
      "text/plain": [
       "HBox(children=(IntProgress(value=0, description='Epoch', max=2, style=ProgressStyle(description_width='initial…"
      ]
     },
     "metadata": {},
     "output_type": "display_data"
    },
    {
     "name": "stdout",
     "output_type": "stream",
     "text": [
      "epoch      trn_loss   val_loss   accuracy                     \n",
      "    0      4.643831   5.147662   0.303198  \n",
      "    1      4.514487   4.855715   0.313296                     \n",
      "\n"
     ]
    },
    {
     "data": {
      "text/plain": [
       "[4.855714789030786, 0.31329646552517654]"
      ]
     },
     "execution_count": 25,
     "metadata": {},
     "output_type": "execute_result"
    }
   ],
   "source": [
    "lr = 5e-4\n",
    "lrs = np.array([lr/100, lr/10, lr])\n",
    "learn.fit(lrs, 1, cycle_len=2, use_clr=(20, 10), cycle_save_name=\"10_resnet19_im_4_20_10\")"
   ]
  },
  {
   "cell_type": "code",
   "execution_count": 84,
   "metadata": {},
   "outputs": [],
   "source": [
    "learn.load(\"7_resnet19_im_4_20_10_cyc_0\")"
   ]
  },
  {
   "cell_type": "code",
   "execution_count": 85,
   "metadata": {},
   "outputs": [],
   "source": [
    "data = get_data_aug(500,32)\n",
    "learn.set_data(data)"
   ]
  },
  {
   "cell_type": "code",
   "execution_count": 29,
   "metadata": {},
   "outputs": [],
   "source": [
    "lr = 5e-3\n",
    "lrs = np.array([lr/50, lr/5, lr])"
   ]
  },
  {
   "cell_type": "code",
   "execution_count": 31,
   "metadata": {},
   "outputs": [],
   "source": [
    "data = get_data(400,32)\n",
    "learn.set_data(data)"
   ]
  },
  {
   "cell_type": "code",
   "execution_count": 32,
   "metadata": {},
   "outputs": [],
   "source": [
    "def predict_and_save(pred_file) :\n",
    "    preds_t,y_t = learn.TTA(is_test=True,n_aug=8)\n",
    "    preds_t = np.stack(preds_t, axis=-1)\n",
    "    preds_t = np.exp(preds_t)\n",
    "    preds_t = preds_t.mean(axis=-1)\n",
    "    sample_df = pd.read_csv(SAMPLE_SUB)\n",
    "    sample_list = list(sample_df.Image)\n",
    "    pred_list = [[labels_list[i] for i in p.argsort()[-5:][::-1]] for p in preds_t]\n",
    "    pred_dic = dict((key, value) for (key, value) in zip(learn.data.test_ds.fnames,pred_list))\n",
    "    pred_list_cor = [' '.join(pred_dic[id]) for id in sample_list]\n",
    "    df = pd.DataFrame({'Image':sample_list,'Id': pred_list_cor})\n",
    "    df.to_csv(pred_file, header=True, index=False)\n",
    "    return df\n",
    "\n",
    "def submit_to_kaggle(pred_file, message):\n",
    "\n",
    "    !kaggle competitions submit -c humpback-whale-identification -f {pred_file} -m \"{message}\""
   ]
  },
  {
   "cell_type": "code",
   "execution_count": 34,
   "metadata": {},
   "outputs": [
    {
     "name": "stdout",
     "output_type": "stream",
     "text": [
      "                                              \r"
     ]
    },
    {
     "data": {
      "text/html": [
       "<div>\n",
       "<style scoped>\n",
       "    .dataframe tbody tr th:only-of-type {\n",
       "        vertical-align: middle;\n",
       "    }\n",
       "\n",
       "    .dataframe tbody tr th {\n",
       "        vertical-align: top;\n",
       "    }\n",
       "\n",
       "    .dataframe thead th {\n",
       "        text-align: right;\n",
       "    }\n",
       "</style>\n",
       "<table border=\"1\" class=\"dataframe\">\n",
       "  <thead>\n",
       "    <tr style=\"text-align: right;\">\n",
       "      <th></th>\n",
       "      <th>Image</th>\n",
       "      <th>Id</th>\n",
       "    </tr>\n",
       "  </thead>\n",
       "  <tbody>\n",
       "    <tr>\n",
       "      <th>0</th>\n",
       "      <td>00028a005.jpg</td>\n",
       "      <td>new_whale w_778e474 w_5a2634c w_5e8e218 w_dec7ffd</td>\n",
       "    </tr>\n",
       "    <tr>\n",
       "      <th>1</th>\n",
       "      <td>000dcf7d8.jpg</td>\n",
       "      <td>new_whale w_dec7ffd w_7b989fb w_c875e45 w_596c806</td>\n",
       "    </tr>\n",
       "    <tr>\n",
       "      <th>2</th>\n",
       "      <td>000e7c7df.jpg</td>\n",
       "      <td>new_whale w_2f5caa9 w_dee1053 w_4689352 w_c6c60c8</td>\n",
       "    </tr>\n",
       "    <tr>\n",
       "      <th>3</th>\n",
       "      <td>0019c34f4.jpg</td>\n",
       "      <td>new_whale w_9c506f6 w_59052ad w_08630fd w_0135f5f</td>\n",
       "    </tr>\n",
       "    <tr>\n",
       "      <th>4</th>\n",
       "      <td>001a4d292.jpg</td>\n",
       "      <td>new_whale w_3d67c3b w_9e18daa w_2a946f2 w_3ef0017</td>\n",
       "    </tr>\n",
       "  </tbody>\n",
       "</table>\n",
       "</div>"
      ],
      "text/plain": [
       "           Image                                                 Id\n",
       "0  00028a005.jpg  new_whale w_778e474 w_5a2634c w_5e8e218 w_dec7ffd\n",
       "1  000dcf7d8.jpg  new_whale w_dec7ffd w_7b989fb w_c875e45 w_596c806\n",
       "2  000e7c7df.jpg  new_whale w_2f5caa9 w_dee1053 w_4689352 w_c6c60c8\n",
       "3  0019c34f4.jpg  new_whale w_9c506f6 w_59052ad w_08630fd w_0135f5f\n",
       "4  001a4d292.jpg  new_whale w_3d67c3b w_9e18daa w_2a946f2 w_3ef0017"
      ]
     },
     "execution_count": 34,
     "metadata": {},
     "output_type": "execute_result"
    }
   ],
   "source": [
    "df = predict_and_save(\"submission1.csv\")\n",
    "df.head()"
   ]
  },
  {
   "cell_type": "code",
   "execution_count": 37,
   "metadata": {},
   "outputs": [
    {
     "data": {
      "text/html": [
       "<a href='submission1.csv' target='_blank'>submission1.csv</a><br>"
      ],
      "text/plain": [
       "/home/ubuntu/whales/submission1.csv"
      ]
     },
     "execution_count": 37,
     "metadata": {},
     "output_type": "execute_result"
    }
   ],
   "source": [
    "FileLink(\"submission1.csv\")"
   ]
  },
  {
   "cell_type": "code",
   "execution_count": 38,
   "metadata": {},
   "outputs": [
    {
     "name": "stdout",
     "output_type": "stream",
     "text": [
      "100%|█████████████████████████████████████████| 498k/498k [00:02<00:00, 186kB/s]\n",
      "Successfully submitted to Humpback Whale Identification"
     ]
    }
   ],
   "source": [
    "#submit_to_kaggle(\"submission1.csv\", \"second submission\")\n",
    "!kaggle competitions submit -c humpback-whale-identification -f submission1.csv -m \"second\""
   ]
  },
  {
   "cell_type": "code",
   "execution_count": 30,
   "metadata": {},
   "outputs": [],
   "source": [
    "learn.load(\"10_resnet19_im_4_20_10_cyc_0\")"
   ]
  },
  {
   "cell_type": "code",
   "execution_count": 31,
   "metadata": {},
   "outputs": [],
   "source": [
    "data = get_data(400,32)\n",
    "learn.set_data(data)"
   ]
  },
  {
   "cell_type": "code",
   "execution_count": 36,
   "metadata": {},
   "outputs": [
    {
     "data": {
      "application/vnd.jupyter.widget-view+json": {
       "model_id": "78f609fb1fde485ead81eb54f0b664a5",
       "version_major": 2,
       "version_minor": 0
      },
      "text/plain": [
       "HBox(children=(IntProgress(value=0, description='Epoch', max=1, style=ProgressStyle(description_width='initial…"
      ]
     },
     "metadata": {},
     "output_type": "display_data"
    },
    {
     "name": "stdout",
     "output_type": "stream",
     "text": [
      " 68%|██████▊   | 706/1039 [05:27<02:19,  2.38it/s, loss=17.2]"
     ]
    }
   ],
   "source": [
    "learn.lr_find()"
   ]
  },
  {
   "cell_type": "code",
   "execution_count": 37,
   "metadata": {},
   "outputs": [
    {
     "data": {
      "image/png": "[encoded data removed]",
      "text/plain": [
       "<Figure size 432x288 with 1 Axes>"
      ]
     },
     "metadata": {
      "needs_background": "light"
     },
     "output_type": "display_data"
    }
   ],
   "source": [
    "learn.sched.plot()"
   ]
  },
  {
   "cell_type": "code",
   "execution_count": 38,
   "metadata": {},
   "outputs": [],
   "source": [
    "data = get_data(400,48)\n",
    "learn.set_data(data)"
   ]
  },
  {
   "cell_type": "code",
   "execution_count": 40,
   "metadata": {},
   "outputs": [
    {
     "data": {
      "application/vnd.jupyter.widget-view+json": {
       "model_id": "b03a23d43ec348bba2ae8ba4b7447df0",
       "version_major": 2,
       "version_minor": 0
      },
      "text/plain": [
       "HBox(children=(IntProgress(value=0, description='Epoch', max=2, style=ProgressStyle(description_width='initial…"
      ]
     },
     "metadata": {},
     "output_type": "display_data"
    },
    {
     "name": "stdout",
     "output_type": "stream",
     "text": [
      "epoch      trn_loss   val_loss   accuracy                    \n",
      "    0      4.38168    4.822256   0.315941  \n",
      "    1      4.460079   4.960941   0.314378                    \n"
     ]
    },
    {
     "data": {
      "text/plain": [
       "[4.960941006742323, 0.3143784656393382]"
      ]
     },
     "execution_count": 40,
     "metadata": {},
     "output_type": "execute_result"
    }
   ],
   "source": [
    "lr = 5e-5\n",
    "lrs = np.array([lr/100, lr/10, lr/2])\n",
    "learn.fit(lrs, 1, cycle_len=2, use_clr=(20, 10), cycle_save_name=\"11_resnet19_im_4_20_10\")"
   ]
  },
  {
   "cell_type": "code",
   "execution_count": 45,
   "metadata": {},
   "outputs": [],
   "source": [
    "def get_data_aug(sz, bs):\n",
    "    aug_tfms = [RandomRotate(deg=30),\n",
    "                RandomZoom(2),\n",
    "                RandomCrop(sz),\n",
    "                RandomFlip()]\n",
    "    tfms = tfms_from_model(arch, sz, crop_type=CropType.RANDOM, aug_tfms=aug_tfms)\n",
    "    ds = ImageData.get_ds(HWIDataset, (tr_n[:-(len(tr_n) % bs)], TRAIN),\n",
    "                          (val_n, TRAIN), tfms, test=(test_names, TEST))\n",
    "    md = ImageData(\"./\", ds, bs, num_workers=nw, classes=None)\n",
    "    return md"
   ]
  },
  {
   "cell_type": "code",
   "execution_count": 42,
   "metadata": {},
   "outputs": [],
   "source": [
    "learn.unfreeze()"
   ]
  },
  {
   "cell_type": "code",
   "execution_count": 43,
   "metadata": {},
   "outputs": [],
   "source": [
    "learn.freeze_to(2)"
   ]
  },
  {
   "cell_type": "code",
   "execution_count": 51,
   "metadata": {},
   "outputs": [],
   "source": [
    "learn.set_data(get_data_aug(256,48))"
   ]
  },
  {
   "cell_type": "code",
   "execution_count": 52,
   "metadata": {},
   "outputs": [],
   "source": [
    "lr = 5e-5\n",
    "lrs = np.array([lr/100, lr/10, lr/2])"
   ]
  },
  {
   "cell_type": "code",
   "execution_count": 49,
   "metadata": {},
   "outputs": [
    {
     "data": {
      "application/vnd.jupyter.widget-view+json": {
       "model_id": "d6fef9d43d474616aa11af66143d8fa5",
       "version_major": 2,
       "version_minor": 0
      },
      "text/plain": [
       "HBox(children=(IntProgress(value=0, description='Epoch', max=4, style=ProgressStyle(description_width='initial…"
      ]
     },
     "metadata": {},
     "output_type": "display_data"
    },
    {
     "name": "stdout",
     "output_type": "stream",
     "text": [
      "epoch      trn_loss   val_loss   accuracy                    \n",
      "    0      5.73412    5.392563   0.300673  \n",
      "    1      5.694987   5.292472   0.29875                     \n",
      "    2      5.711766   5.057778   0.29911                     \n",
      "    3      5.625082   5.196982   0.298389                    \n"
     ]
    },
    {
     "data": {
      "text/plain": [
       "[5.196981538972994, 0.29838904511272174]"
      ]
     },
     "execution_count": 49,
     "metadata": {},
     "output_type": "execute_result"
    }
   ],
   "source": [
    "learn.fit(lrs, 2, cycle_len=2, use_clr=(10, 5), cycle_save_name=\"12_resnet19_im_4_20_10\")"
   ]
  },
  {
   "cell_type": "code",
   "execution_count": 53,
   "metadata": {},
   "outputs": [],
   "source": [
    "learn.set_data(get_data_aug(256,48))"
   ]
  },
  {
   "cell_type": "code",
   "execution_count": 54,
   "metadata": {},
   "outputs": [],
   "source": [
    "lr = 1e-4\n",
    "lrs = np.array([lr/10, lr/5, lr])"
   ]
  },
  {
   "cell_type": "code",
   "execution_count": 64,
   "metadata": {},
   "outputs": [],
   "source": [
    "children(learn.model)[4].p = 0.1"
   ]
  },
  {
   "cell_type": "code",
   "execution_count": 86,
   "metadata": {},
   "outputs": [],
   "source": [
    "learn.freeze_to(-1)"
   ]
  },
  {
   "cell_type": "code",
   "execution_count": 87,
   "metadata": {},
   "outputs": [
    {
     "data": {
      "application/vnd.jupyter.widget-view+json": {
       "model_id": "",
       "version_major": 2,
       "version_minor": 0
      },
      "text/plain": [
       "HBox(children=(IntProgress(value=0, description='Epoch', max=1, style=ProgressStyle(description_width='initial…"
      ]
     },
     "metadata": {},
     "output_type": "display_data"
    },
    {
     "name": "stdout",
     "output_type": "stream",
     "text": [
      "epoch      trn_loss   val_loss   accuracy                     \n",
      "    0      5.223393   4.166851   0.362948  \n"
     ]
    },
    {
     "data": {
      "text/plain": [
       "[4.166850732192021, 0.3629478240319816]"
      ]
     },
     "execution_count": 87,
     "metadata": {},
     "output_type": "execute_result"
    }
   ],
   "source": [
    "learn.fit(1e-5, 1)"
   ]
  },
  {
   "cell_type": "code",
   "execution_count": 89,
   "metadata": {},
   "outputs": [
    {
     "data": {
      "application/vnd.jupyter.widget-view+json": {
       "model_id": "a2c6d0b1fd974b23a99a9275c38ad2ec",
       "version_major": 2,
       "version_minor": 0
      },
      "text/plain": [
       "HBox(children=(IntProgress(value=0, description='Epoch', max=1, style=ProgressStyle(description_width='initial…"
      ]
     },
     "metadata": {},
     "output_type": "display_data"
    },
    {
     "name": "stdout",
     "output_type": "stream",
     "text": [
      "epoch      trn_loss   val_loss   accuracy                     \n",
      "    0      5.536394   5.240704   0.316422  \n"
     ]
    },
    {
     "data": {
      "text/plain": [
       "[5.240703754741488, 0.3164222169363834]"
      ]
     },
     "execution_count": 89,
     "metadata": {},
     "output_type": "execute_result"
    }
   ],
   "source": [
    "learn.unfreeze()\n",
    "learn.freeze_to(-2)\n",
    "lr = 5e-6\n",
    "lrs = np.array([lr/50, lr/10, lr])\n",
    "learn.fit(lrs, 1, cycle_len=1, use_clr=(10, 5), cycle_save_name=\"d3_resnet19_im_4_10_5\")"
   ]
  },
  {
   "cell_type": "code",
   "execution_count": 76,
   "metadata": {},
   "outputs": [],
   "source": [
    "preds = learn.predict(is_test=True)"
   ]
  },
  {
   "cell_type": "code",
   "execution_count": 80,
   "metadata": {},
   "outputs": [
    {
     "data": {
      "text/plain": [
       "['a82ba2f76.jpg',\n",
       " 'ab62db5a5.jpg',\n",
       " '6219200df.jpg',\n",
       " '0f3c1f2ca.jpg',\n",
       " '7d139670e.jpg',\n",
       " '5cf8f9089.jpg',\n",
       " '246a3b660.jpg',\n",
       " 'fac382a8a.jpg',\n",
       " '6b37a5e9e.jpg',\n",
       " '744caf1ad.jpg',\n",
       " 'e3abe8153.jpg',\n",
       " '99e6e5232.jpg',\n",
       " '77f0220dd.jpg',\n",
       " 'c26fa8510.jpg',\n",
       " '4956abeca.jpg',\n",
       " 'd6412a2a1.jpg',\n",
       " '395c2748c.jpg',\n",
       " 'e7c9ba511.jpg',\n",
       " 'b46b73a6f.jpg',\n",
       " 'd9b6e9293.jpg',\n",
       " '37683d93d.jpg',\n",
       " '8437fe93d.jpg',\n",
       " 'a34810714.jpg',\n",
       " '36d2df14c.jpg',\n",
       " 'c303faac6.jpg',\n",
       " '4ab6eb239.jpg',\n",
       " '430c15a2b.jpg',\n",
       " 'ee7e05813.jpg',\n",
       " '4961607e0.jpg',\n",
       " 'feb0dbc4a.jpg',\n",
       " 'b54ed95e0.jpg',\n",
       " '1d596e1d0.jpg',\n",
       " '4f8eec727.jpg',\n",
       " '534704661.jpg',\n",
       " '4acb90694.jpg',\n",
       " '86be3cb18.jpg',\n",
       " 'cf045caf2.jpg',\n",
       " '88495a329.jpg',\n",
       " 'dbce31605.jpg',\n",
       " 'd94bb20e9.jpg',\n",
       " '4a018dac2.jpg',\n",
       " '5ab7f8a5c.jpg',\n",
       " 'a8a18fd1a.jpg',\n",
       " '5a3a7c007.jpg',\n",
       " 'f6500c021.jpg',\n",
       " 'dfc41c3ce.jpg',\n",
       " '36b7fc036.jpg',\n",
       " 'b3c58e7b9.jpg',\n",
       " '9bf5c23f1.jpg',\n",
       " '497a8fed2.jpg',\n",
       " '2aeee8b9f.jpg',\n",
       " 'efac7e263.jpg',\n",
       " '2ef297872.jpg',\n",
       " '009dd6c96.jpg',\n",
       " 'a0d962939.jpg',\n",
       " 'ab9b6d8d8.jpg',\n",
       " 'd0927d433.jpg',\n",
       " 'b09029fc0.jpg',\n",
       " 'edaa0e8a0.jpg',\n",
       " '817e935f9.jpg',\n",
       " '8b336846d.jpg',\n",
       " '615384a6f.jpg',\n",
       " 'd42ed6888.jpg',\n",
       " 'ab74535ee.jpg',\n",
       " '780338f93.jpg',\n",
       " '1ca05e393.jpg',\n",
       " 'b70198437.jpg',\n",
       " 'c0ef727fb.jpg',\n",
       " '3756cac5a.jpg',\n",
       " 'ddea3581b.jpg',\n",
       " '736a568a4.jpg',\n",
       " 'e1a97d9db.jpg',\n",
       " '210755e65.jpg',\n",
       " '81f5f2a08.jpg',\n",
       " '45b6618f6.jpg',\n",
       " '6f96f8904.jpg',\n",
       " '9507c5c71.jpg',\n",
       " '61caaaed6.jpg',\n",
       " '046474ea6.jpg',\n",
       " '0d126530f.jpg',\n",
       " '2426118d7.jpg',\n",
       " '2b2a08f4f.jpg',\n",
       " '680389797.jpg',\n",
       " '4132bade6.jpg',\n",
       " '217c5bbbc.jpg',\n",
       " '7e34ab325.jpg',\n",
       " '5e4ad7f18.jpg',\n",
       " 'c5d566cde.jpg',\n",
       " 'ec12df126.jpg',\n",
       " 'e3673efff.jpg',\n",
       " '22b35f7b5.jpg',\n",
       " '3fadc4557.jpg',\n",
       " 'c5a78acc9.jpg',\n",
       " '4bd973b48.jpg',\n",
       " 'b5efaae83.jpg',\n",
       " 'a5a34f3fc.jpg',\n",
       " 'a61f17998.jpg',\n",
       " 'bd7e437f8.jpg',\n",
       " '0c9203352.jpg',\n",
       " '50a4d8475.jpg',\n",
       " 'd905f4b2a.jpg',\n",
       " '527cb476b.jpg',\n",
       " 'cdd929b81.jpg',\n",
       " 'c31eab5bb.jpg',\n",
       " 'd25989728.jpg',\n",
       " '7d2ffa0e5.jpg',\n",
       " 'e1aa5a2bb.jpg',\n",
       " 'b6b45b5ea.jpg',\n",
       " '0956ac81e.jpg',\n",
       " 'a24c0c817.jpg',\n",
       " '001a4d292.jpg',\n",
       " '68a15dd60.jpg',\n",
       " '2ee347bdb.jpg',\n",
       " '2b089b225.jpg',\n",
       " '36facba66.jpg',\n",
       " '58732091c.jpg',\n",
       " 'fd52aa7eb.jpg',\n",
       " '9cf136ab4.jpg',\n",
       " '09cf7a61a.jpg',\n",
       " '8a7fa76e9.jpg',\n",
       " '352597353.jpg',\n",
       " '09ae7a1c4.jpg',\n",
       " 'd74b390c9.jpg',\n",
       " 'e97912e92.jpg',\n",
       " 'ea26587a2.jpg',\n",
       " 'd9bfcc8d9.jpg',\n",
       " '9337bf764.jpg',\n",
       " '7cc19a435.jpg',\n",
       " 'a9b723d88.jpg',\n",
       " '91b4cc1c2.jpg',\n",
       " 'ed10a04d5.jpg',\n",
       " '9dc8ecc47.jpg',\n",
       " '9cf085044.jpg',\n",
       " '5e054ccb1.jpg',\n",
       " '0f44f16fd.jpg',\n",
       " '6c0dd68f7.jpg',\n",
       " 'c84b9f02b.jpg',\n",
       " '8a63e77b5.jpg',\n",
       " '852eebf2c.jpg',\n",
       " '254d357a7.jpg',\n",
       " '793ede92f.jpg',\n",
       " '2595349ea.jpg',\n",
       " '49cd8f929.jpg',\n",
       " '0e748ef8a.jpg',\n",
       " '324440ba7.jpg',\n",
       " '5d0ca9ac4.jpg',\n",
       " '882ca0708.jpg',\n",
       " '5a805b825.jpg',\n",
       " '59be4c4e1.jpg',\n",
       " 'ec866657d.jpg',\n",
       " '6b9807d10.jpg',\n",
       " '60fcac50e.jpg',\n",
       " '59fe206d4.jpg',\n",
       " 'f6ee1ca42.jpg',\n",
       " 'c93fc0552.jpg',\n",
       " '5679fe413.jpg',\n",
       " 'afd3c6a62.jpg',\n",
       " '9c4e209f5.jpg',\n",
       " '5065af91a.jpg',\n",
       " '85cfab706.jpg',\n",
       " 'a74f35931.jpg',\n",
       " 'd0b3fc9c5.jpg',\n",
       " '9025f2c3c.jpg',\n",
       " '6f66abff6.jpg',\n",
       " 'b8f950771.jpg',\n",
       " 'cd3f82aea.jpg',\n",
       " '2a13045d1.jpg',\n",
       " '42a640c8d.jpg',\n",
       " '8772b8fdc.jpg',\n",
       " '9b39a673c.jpg',\n",
       " '96a1590a6.jpg',\n",
       " '84e7fcaaa.jpg',\n",
       " '2a6d108cf.jpg',\n",
       " '0e45a186a.jpg',\n",
       " 'd7da6b5e7.jpg',\n",
       " '7f1330e00.jpg',\n",
       " '8fb3f46e4.jpg',\n",
       " '336d9bd8e.jpg',\n",
       " '033304f3f.jpg',\n",
       " 'a0bd632ed.jpg',\n",
       " 'c42adb177.jpg',\n",
       " '4a805e594.jpg',\n",
       " '64229c344.jpg',\n",
       " 'eeb2c13bb.jpg',\n",
       " '06af8bc75.jpg',\n",
       " '6cbf7a5a3.jpg',\n",
       " 'e3bab0fa3.jpg',\n",
       " '0b0628ce5.jpg',\n",
       " '37db1a73b.jpg',\n",
       " '75562818b.jpg',\n",
       " '78dd7058a.jpg',\n",
       " '155536e57.jpg',\n",
       " 'ecca098fb.jpg',\n",
       " '1581c707f.jpg',\n",
       " 'f9af5f919.jpg',\n",
       " '64489df49.jpg',\n",
       " '09243b84a.jpg',\n",
       " '6b82ec0ca.jpg',\n",
       " '90d3d881a.jpg',\n",
       " 'b60bc05c3.jpg',\n",
       " '15092bf57.jpg',\n",
       " '8ae279dbb.jpg',\n",
       " '0c8c3b13d.jpg',\n",
       " '88c230b0e.jpg',\n",
       " 'c2790e7c9.jpg',\n",
       " '7af4d3c79.jpg',\n",
       " '640185dda.jpg',\n",
       " '2f1c35443.jpg',\n",
       " '3d94f6180.jpg',\n",
       " '97ce8840c.jpg',\n",
       " '4d35014a3.jpg',\n",
       " '00a427ac6.jpg',\n",
       " '3e7e2537e.jpg',\n",
       " '5b0b37f12.jpg',\n",
       " 'fa099604b.jpg',\n",
       " 'f28e2a7e7.jpg',\n",
       " '2bbf0b333.jpg',\n",
       " 'fb07ce8f4.jpg',\n",
       " 'd184a547a.jpg',\n",
       " '859af97a6.jpg',\n",
       " '604cb41e5.jpg',\n",
       " 'f481b64c6.jpg',\n",
       " '5f85ec4f6.jpg',\n",
       " '04a763f43.jpg',\n",
       " '23e3c8d8e.jpg',\n",
       " 'eb48c38b4.jpg',\n",
       " 'e8812b33c.jpg',\n",
       " 'bb73cb5c3.jpg',\n",
       " 'd31bd1979.jpg',\n",
       " '2c4035b6b.jpg',\n",
       " 'fa30620d6.jpg',\n",
       " '221486ece.jpg',\n",
       " 'a45525f74.jpg',\n",
       " '4f9a12406.jpg',\n",
       " '2b9d6f5cb.jpg',\n",
       " 'd5037ded6.jpg',\n",
       " 'aa5e9313a.jpg',\n",
       " 'c1f48283c.jpg',\n",
       " 'b27befca4.jpg',\n",
       " '7faf69770.jpg',\n",
       " '945a80a66.jpg',\n",
       " 'a0ccfd95d.jpg',\n",
       " '20ea355d3.jpg',\n",
       " 'e48c9699b.jpg',\n",
       " 'e31f1cbb0.jpg',\n",
       " 'be809113a.jpg',\n",
       " '23167bf90.jpg',\n",
       " 'a0a25d853.jpg',\n",
       " '3db5ba77d.jpg',\n",
       " 'd2043902c.jpg',\n",
       " '841dde4bb.jpg',\n",
       " '051507abb.jpg',\n",
       " '4c61badb7.jpg',\n",
       " 'cfcc21b0e.jpg',\n",
       " '48e26bb1a.jpg',\n",
       " 'd0fe179db.jpg',\n",
       " '213a23f8a.jpg',\n",
       " '1dc2abc49.jpg',\n",
       " '9c45b5d80.jpg',\n",
       " '73618361a.jpg',\n",
       " '6b6953818.jpg',\n",
       " '3c46fee76.jpg',\n",
       " '67ac575c0.jpg',\n",
       " 'e7100b8c8.jpg',\n",
       " 'e0bff3e31.jpg',\n",
       " 'ab0326832.jpg',\n",
       " '702c05d67.jpg',\n",
       " 'b8d9bc71d.jpg',\n",
       " '1b5dcf04b.jpg',\n",
       " 'c3511afa0.jpg',\n",
       " '52024e357.jpg',\n",
       " '6c40e9463.jpg',\n",
       " 'e4b07a9a4.jpg',\n",
       " '02a7d8a15.jpg',\n",
       " '9e81272a7.jpg',\n",
       " '72ab4e7b6.jpg',\n",
       " 'b92adfa5d.jpg',\n",
       " '094d2354f.jpg',\n",
       " '175a08525.jpg',\n",
       " '4cdcac8a5.jpg',\n",
       " '3f4a2d1fa.jpg',\n",
       " '0247dd21a.jpg',\n",
       " 'f71089ec4.jpg',\n",
       " 'c148421d8.jpg',\n",
       " '1c9735945.jpg',\n",
       " 'f3fc6063d.jpg',\n",
       " 'bfd30de86.jpg',\n",
       " '9df4b4875.jpg',\n",
       " 'b8b23793f.jpg',\n",
       " '2efc099ae.jpg',\n",
       " 'dd962073b.jpg',\n",
       " '64cf41065.jpg',\n",
       " 'c5295d890.jpg',\n",
       " '3f7555197.jpg',\n",
       " '357093d50.jpg',\n",
       " 'f65e9345c.jpg',\n",
       " 'd1bc3f395.jpg',\n",
       " 'e3f4b66cf.jpg',\n",
       " '245f0fdb0.jpg',\n",
       " '4a254b107.jpg',\n",
       " 'e4d71742b.jpg',\n",
       " 'ccc20aebf.jpg',\n",
       " 'd8560ddd9.jpg',\n",
       " 'd45df6343.jpg',\n",
       " 'e052bff8b.jpg',\n",
       " '9ed8cf1db.jpg',\n",
       " 'fb78504b7.jpg',\n",
       " '758ce9a31.jpg',\n",
       " 'ac692b2c3.jpg',\n",
       " '28282c21d.jpg',\n",
       " '8dc0dba17.jpg',\n",
       " '56c19ff0f.jpg',\n",
       " 'a04d0a8c9.jpg',\n",
       " '55ac47d2c.jpg',\n",
       " 'f3daf9823.jpg',\n",
       " '051c05e52.jpg',\n",
       " '378869c0b.jpg',\n",
       " '3effca683.jpg',\n",
       " '6776ade2b.jpg',\n",
       " '7f0f51606.jpg',\n",
       " 'e6942529b.jpg',\n",
       " '91a1287c1.jpg',\n",
       " '400313c0b.jpg',\n",
       " '02aff2eda.jpg',\n",
       " '76a50681c.jpg',\n",
       " 'bfc8f5d7b.jpg',\n",
       " '9decaf671.jpg',\n",
       " 'fc7700558.jpg',\n",
       " 'ef4e7f5e9.jpg',\n",
       " '6cc9c8e7d.jpg',\n",
       " '77dba7ebc.jpg',\n",
       " '6c1c1d173.jpg',\n",
       " '0ef1395fd.jpg',\n",
       " '7eee62776.jpg',\n",
       " '5a5dfde16.jpg',\n",
       " '21bd9ddf4.jpg',\n",
       " '451d9aaec.jpg',\n",
       " 'f7c7c3a62.jpg',\n",
       " '38ce8506f.jpg',\n",
       " '7283ed735.jpg',\n",
       " '9ea71a302.jpg',\n",
       " '40eb9a5dd.jpg',\n",
       " '46c867eb5.jpg',\n",
       " '51f0f2d03.jpg',\n",
       " '54f0e3ee7.jpg',\n",
       " '0eda92f63.jpg',\n",
       " '0a17a66ea.jpg',\n",
       " 'f4bb70495.jpg',\n",
       " '578ef9675.jpg',\n",
       " 'e8d93b878.jpg',\n",
       " 'ceba934d4.jpg',\n",
       " 'e00b17e08.jpg',\n",
       " 'cee2c448f.jpg',\n",
       " '85a5c9507.jpg',\n",
       " 'c7403b488.jpg',\n",
       " '7541a5a86.jpg',\n",
       " 'eb5dcf7dc.jpg',\n",
       " '75598ec25.jpg',\n",
       " 'c4b81b9a7.jpg',\n",
       " 'd988e6b1e.jpg',\n",
       " '54b1b6db0.jpg',\n",
       " 'a9ae7c984.jpg',\n",
       " 'cf7fd57b9.jpg',\n",
       " '0048970f9.jpg',\n",
       " '210585070.jpg',\n",
       " 'c1048b3f4.jpg',\n",
       " 'ee0a49cb2.jpg',\n",
       " 'a1a6d917b.jpg',\n",
       " 'b4c5a7a0d.jpg',\n",
       " '4caef1b7c.jpg',\n",
       " '70f3c5a7e.jpg',\n",
       " '413c76d3f.jpg',\n",
       " '99a6756a0.jpg',\n",
       " 'ebb046894.jpg',\n",
       " '7225d8fba.jpg',\n",
       " '1e70d70b2.jpg',\n",
       " 'b7a783262.jpg',\n",
       " '45b89a418.jpg',\n",
       " '9d5b1dbbf.jpg',\n",
       " '854c2e823.jpg',\n",
       " '114030f79.jpg',\n",
       " '833f7dcf0.jpg',\n",
       " '16b5f7a5c.jpg',\n",
       " '9759c5c06.jpg',\n",
       " '239088895.jpg',\n",
       " 'a2a93e675.jpg',\n",
       " '6d47d0ac2.jpg',\n",
       " '78712aa9b.jpg',\n",
       " '220e1a2ee.jpg',\n",
       " 'e4474aad4.jpg',\n",
       " '3713dc323.jpg',\n",
       " '3081e4281.jpg',\n",
       " '8670262ea.jpg',\n",
       " '983dbe231.jpg',\n",
       " '5572f9fce.jpg',\n",
       " '41b715a70.jpg',\n",
       " 'f47b6fd38.jpg',\n",
       " '95b3d42c7.jpg',\n",
       " 'f0c6052fa.jpg',\n",
       " 'ffaa6c35d.jpg',\n",
       " 'c7b38d9d7.jpg',\n",
       " 'f165f8dc7.jpg',\n",
       " 'f62a69399.jpg',\n",
       " '2ec28a3c3.jpg',\n",
       " '203c0b5cf.jpg',\n",
       " '8c6d0f013.jpg',\n",
       " 'cfb42736b.jpg',\n",
       " '3027082c4.jpg',\n",
       " '9a73c964d.jpg',\n",
       " 'eac253bd8.jpg',\n",
       " 'd411d0ff4.jpg',\n",
       " '9c97db8e1.jpg',\n",
       " '8488b43c2.jpg',\n",
       " 'a5643363a.jpg',\n",
       " 'cfc0d4923.jpg',\n",
       " '027a8ca32.jpg',\n",
       " 'a28e6eb9b.jpg',\n",
       " '56c0f0f0c.jpg',\n",
       " 'dffee37b9.jpg',\n",
       " 'f50713f57.jpg',\n",
       " 'cc9de5379.jpg',\n",
       " '9d1d77dfe.jpg',\n",
       " 'ddb344592.jpg',\n",
       " '5791b9b27.jpg',\n",
       " '0432f301a.jpg',\n",
       " 'a1f7b8caf.jpg',\n",
       " 'a7e2cb2ad.jpg',\n",
       " '1e5d52a28.jpg',\n",
       " '6a359040c.jpg',\n",
       " '158d5273d.jpg',\n",
       " 'c5a8f42e6.jpg',\n",
       " '2829cd15e.jpg',\n",
       " 'ac8f92bb8.jpg',\n",
       " '0277b3be9.jpg',\n",
       " '0713b92c6.jpg',\n",
       " '47a97edb8.jpg',\n",
       " 'be0523c2f.jpg',\n",
       " '7dabd335d.jpg',\n",
       " 'c4329155b.jpg',\n",
       " '3f62ad59e.jpg',\n",
       " '4794ddb2e.jpg',\n",
       " 'ed3675a15.jpg',\n",
       " 'a608e2cbc.jpg',\n",
       " '87b11af7d.jpg',\n",
       " '8317aa4d6.jpg',\n",
       " '61ba0825a.jpg',\n",
       " 'bd9f115ad.jpg',\n",
       " 'd5e7d3caf.jpg',\n",
       " 'cc8312413.jpg',\n",
       " '4fb4bed8c.jpg',\n",
       " '075d45125.jpg',\n",
       " 'f5ed1886a.jpg',\n",
       " 'cb5ed9e92.jpg',\n",
       " '2c1a6c05c.jpg',\n",
       " 'd943a17f9.jpg',\n",
       " '8749f0fef.jpg',\n",
       " '65ee9bbf6.jpg',\n",
       " 'ec75cfeca.jpg',\n",
       " 'def97b990.jpg',\n",
       " '6d1191a39.jpg',\n",
       " '7492b3865.jpg',\n",
       " 'a768c1c5e.jpg',\n",
       " '53b7b1ff9.jpg',\n",
       " 'dd2d104e7.jpg',\n",
       " 'c7a00ca3c.jpg',\n",
       " 'e44fa05a5.jpg',\n",
       " '7cc4522cc.jpg',\n",
       " 'e01a74072.jpg',\n",
       " '7c15fcbba.jpg',\n",
       " '8d64a3f56.jpg',\n",
       " 'e3c54c60b.jpg',\n",
       " '32e4f9854.jpg',\n",
       " 'b86ee5851.jpg',\n",
       " '33971e6d5.jpg',\n",
       " 'fd485d8bd.jpg',\n",
       " '9d4955f56.jpg',\n",
       " 'e7d685096.jpg',\n",
       " 'be9004d7b.jpg',\n",
       " 'd007a4159.jpg',\n",
       " '4cbdbb886.jpg',\n",
       " 'd9b319b8c.jpg',\n",
       " 'e71a81f97.jpg',\n",
       " '670b200a4.jpg',\n",
       " '3aa15e687.jpg',\n",
       " 'dbcc64914.jpg',\n",
       " '4e3fdc4b1.jpg',\n",
       " '9daad0a82.jpg',\n",
       " 'e3076d37f.jpg',\n",
       " '8bee357c0.jpg',\n",
       " '8c92c78c8.jpg',\n",
       " '0a946e283.jpg',\n",
       " '268acde04.jpg',\n",
       " '1d43069b9.jpg',\n",
       " '09083e03b.jpg',\n",
       " '8eaca309b.jpg',\n",
       " '194221080.jpg',\n",
       " '5293cb010.jpg',\n",
       " '1c4787fc8.jpg',\n",
       " '79d533554.jpg',\n",
       " '1b0954425.jpg',\n",
       " '2f10c83bb.jpg',\n",
       " 'efc9c5469.jpg',\n",
       " '6ba010a46.jpg',\n",
       " 'a0f38fccb.jpg',\n",
       " '0cab0d7fd.jpg',\n",
       " '749bcebb5.jpg',\n",
       " '70a96d168.jpg',\n",
       " 'ed8a15a97.jpg',\n",
       " 'a432e954b.jpg',\n",
       " 'b1135fc29.jpg',\n",
       " '816520f12.jpg',\n",
       " '660049e53.jpg',\n",
       " 'f602ae910.jpg',\n",
       " 'b7e4c350c.jpg',\n",
       " 'b477baa0e.jpg',\n",
       " 'b18059877.jpg',\n",
       " 'e2badaf02.jpg',\n",
       " '2eead5e0f.jpg',\n",
       " '1a8302bee.jpg',\n",
       " '916088a0e.jpg',\n",
       " 'cc24a69a4.jpg',\n",
       " 'e0824cf8d.jpg',\n",
       " 'bfe8858e1.jpg',\n",
       " '1375b451c.jpg',\n",
       " '7c1b0691e.jpg',\n",
       " '95df03a73.jpg',\n",
       " 'a6fefe01e.jpg',\n",
       " '92046738d.jpg',\n",
       " '133f1728c.jpg',\n",
       " '01c91eadc.jpg',\n",
       " 'a1674bc85.jpg',\n",
       " '1fdb6c6f1.jpg',\n",
       " 'f814b99ac.jpg',\n",
       " 'ced32b78d.jpg',\n",
       " '718ac0c90.jpg',\n",
       " 'cf9feeb8e.jpg',\n",
       " '178910d15.jpg',\n",
       " '9b958741a.jpg',\n",
       " '89da1b025.jpg',\n",
       " '37954bd1d.jpg',\n",
       " '73214396a.jpg',\n",
       " '704a4bf34.jpg',\n",
       " '1fd3be518.jpg',\n",
       " 'bb77aafc4.jpg',\n",
       " '5bb1ea147.jpg',\n",
       " '5c28a4544.jpg',\n",
       " 'c73f9a80d.jpg',\n",
       " 'efd1ae9d2.jpg',\n",
       " 'cec7840be.jpg',\n",
       " '6244a77c0.jpg',\n",
       " '8a95eb8d4.jpg',\n",
       " 'e1089bf07.jpg',\n",
       " 'c1bcb36f7.jpg',\n",
       " 'f92e6568a.jpg',\n",
       " '6efe562e6.jpg',\n",
       " '374435a1f.jpg',\n",
       " '2c4d75bc2.jpg',\n",
       " 'b8045cf20.jpg',\n",
       " '2ac96451b.jpg',\n",
       " '398217eb2.jpg',\n",
       " 'd434e27ce.jpg',\n",
       " 'ce0104a19.jpg',\n",
       " 'd4162ccc2.jpg',\n",
       " 'ffd30b649.jpg',\n",
       " '8cda71a2c.jpg',\n",
       " '485c46f91.jpg',\n",
       " '9dc6cbd24.jpg',\n",
       " '7264774e2.jpg',\n",
       " 'f7fb7bdc6.jpg',\n",
       " '64fa02e44.jpg',\n",
       " '4ca1edeb0.jpg',\n",
       " 'c38f0c1c6.jpg',\n",
       " '045053a13.jpg',\n",
       " '70ba21e1b.jpg',\n",
       " '0fc351278.jpg',\n",
       " 'e07da7876.jpg',\n",
       " '39fe6a8cc.jpg',\n",
       " 'f498c2314.jpg',\n",
       " '606eae567.jpg',\n",
       " 'd24ba1178.jpg',\n",
       " '7ea2be99e.jpg',\n",
       " '18fc2747f.jpg',\n",
       " '3a11ed32b.jpg',\n",
       " '678358716.jpg',\n",
       " '5421e4234.jpg',\n",
       " '83dcc971e.jpg',\n",
       " '08ad4b867.jpg',\n",
       " '29e12fc8a.jpg',\n",
       " '5fd9f7be8.jpg',\n",
       " '89f4f524c.jpg',\n",
       " 'edd13844e.jpg',\n",
       " '5dd12c973.jpg',\n",
       " 'c2babd6be.jpg',\n",
       " '0e2f8d45b.jpg',\n",
       " '7eab2fc3c.jpg',\n",
       " '88a5f6f7e.jpg',\n",
       " 'f0e110b6e.jpg',\n",
       " '12d21fee8.jpg',\n",
       " '99780e707.jpg',\n",
       " '06d343d71.jpg',\n",
       " '87873f805.jpg',\n",
       " '12ef74152.jpg',\n",
       " 'de3b74da1.jpg',\n",
       " '7aa639c87.jpg',\n",
       " '00bb36bcf.jpg',\n",
       " 'd9ce71098.jpg',\n",
       " '888d15904.jpg',\n",
       " '118c7fad8.jpg',\n",
       " 'ddc81f5cb.jpg',\n",
       " '57a13373e.jpg',\n",
       " '3e158b18b.jpg',\n",
       " '5c602a3af.jpg',\n",
       " '92aaf3a25.jpg',\n",
       " '737c68b02.jpg',\n",
       " '0fef4a0f2.jpg',\n",
       " 'd08fd7c11.jpg',\n",
       " '187f8e3b0.jpg',\n",
       " 'fd240f35d.jpg',\n",
       " '0667cb9e4.jpg',\n",
       " '46b9a8b9f.jpg',\n",
       " 'a0cc14396.jpg',\n",
       " '0fde4f5b5.jpg',\n",
       " '52c2f87a0.jpg',\n",
       " '03bcfbafc.jpg',\n",
       " '072faed30.jpg',\n",
       " '0e85abc44.jpg',\n",
       " '3ea11c048.jpg',\n",
       " '105d4b6b7.jpg',\n",
       " 'ae92e304f.jpg',\n",
       " '97caed6ec.jpg',\n",
       " 'e979920ad.jpg',\n",
       " 'b855302bd.jpg',\n",
       " 'bc3795489.jpg',\n",
       " '7b635e279.jpg',\n",
       " '0cc139a82.jpg',\n",
       " '68681491d.jpg',\n",
       " 'eaadafa78.jpg',\n",
       " '7e5603bf0.jpg',\n",
       " '5cf2b3c01.jpg',\n",
       " '532adde4c.jpg',\n",
       " '86faae6a6.jpg',\n",
       " '9163d9795.jpg',\n",
       " '1bfe04a81.jpg',\n",
       " '3a0054a5a.jpg',\n",
       " 'c0b378682.jpg',\n",
       " '045306b81.jpg',\n",
       " 'd37179fd1.jpg',\n",
       " 'd7d522d40.jpg',\n",
       " '2b27515e4.jpg',\n",
       " '4ac21b9c5.jpg',\n",
       " 'd0e882d5b.jpg',\n",
       " '2fe4ec2d5.jpg',\n",
       " '5137e0f7f.jpg',\n",
       " 'd7bfb4ef7.jpg',\n",
       " '87ee37cfa.jpg',\n",
       " '744276ef3.jpg',\n",
       " '895ea772c.jpg',\n",
       " 'f2f6f2544.jpg',\n",
       " '510936131.jpg',\n",
       " 'b2198c611.jpg',\n",
       " '2261cd5b6.jpg',\n",
       " '3e0e3ec53.jpg',\n",
       " 'e60b3e96d.jpg',\n",
       " '299e8b8d6.jpg',\n",
       " '726569062.jpg',\n",
       " '5f993b380.jpg',\n",
       " 'faf353eda.jpg',\n",
       " 'ea5f86a2a.jpg',\n",
       " 'daf69ded7.jpg',\n",
       " '2efb3c9b4.jpg',\n",
       " 'babd8c446.jpg',\n",
       " '10e7f2656.jpg',\n",
       " 'edd8bf631.jpg',\n",
       " '77ce2b46a.jpg',\n",
       " '2b9ad3e83.jpg',\n",
       " 'b5d75f4dd.jpg',\n",
       " 'fafc8a352.jpg',\n",
       " 'b3cff1cc1.jpg',\n",
       " '6f3b5ffd4.jpg',\n",
       " '695ac6307.jpg',\n",
       " '12be9222e.jpg',\n",
       " 'bc605917b.jpg',\n",
       " '535bf59fa.jpg',\n",
       " 'f8f5e8ee4.jpg',\n",
       " '744133e51.jpg',\n",
       " '91c657859.jpg',\n",
       " '7260456f5.jpg',\n",
       " '11d4b7555.jpg',\n",
       " 'a3045c484.jpg',\n",
       " 'b4036f93e.jpg',\n",
       " 'a7374e038.jpg',\n",
       " '8a5e0df86.jpg',\n",
       " '1bf6235ba.jpg',\n",
       " '9f473c4dd.jpg',\n",
       " '01fb8d6d7.jpg',\n",
       " '4cf6d4672.jpg',\n",
       " 'b8ba4cc2a.jpg',\n",
       " '0ffda96bd.jpg',\n",
       " '8a27b9ea4.jpg',\n",
       " 'c5e83f557.jpg',\n",
       " 'de1429122.jpg',\n",
       " 'ba89e6a6a.jpg',\n",
       " '58b9b62e0.jpg',\n",
       " '7e19c043f.jpg',\n",
       " 'be4ac2193.jpg',\n",
       " '964e02b3c.jpg',\n",
       " 'f9dabf940.jpg',\n",
       " 'e075eff80.jpg',\n",
       " '9b25c9dce.jpg',\n",
       " '6fffe68d0.jpg',\n",
       " '5ba5f9552.jpg',\n",
       " 'c5cb264ef.jpg',\n",
       " '7961ffef5.jpg',\n",
       " '0d2cff3ea.jpg',\n",
       " '7ab5ec0dc.jpg',\n",
       " '0590607d3.jpg',\n",
       " '264afc332.jpg',\n",
       " '61645a25c.jpg',\n",
       " 'c00b5af3e.jpg',\n",
       " '1171cf967.jpg',\n",
       " 'ffce3d4a2.jpg',\n",
       " 'b75883f99.jpg',\n",
       " 'bda06bd79.jpg',\n",
       " 'a7e3c7baa.jpg',\n",
       " '39b0d1ea7.jpg',\n",
       " '3de1ca0ad.jpg',\n",
       " 'f02f06823.jpg',\n",
       " '93a523c92.jpg',\n",
       " 'a4b437e94.jpg',\n",
       " '96b32756e.jpg',\n",
       " '6aca24948.jpg',\n",
       " '22468e58e.jpg',\n",
       " '30138dbd1.jpg',\n",
       " '7b7ec6b81.jpg',\n",
       " 'ba297763d.jpg',\n",
       " '5baa42814.jpg',\n",
       " 'e1e9ecc6f.jpg',\n",
       " '1b17d410a.jpg',\n",
       " '3d1716ba8.jpg',\n",
       " '376a9819f.jpg',\n",
       " '1af7d183c.jpg',\n",
       " '74f798613.jpg',\n",
       " '4c4c984e5.jpg',\n",
       " 'd65b3dcbb.jpg',\n",
       " '147e54767.jpg',\n",
       " '2d9f0c8b8.jpg',\n",
       " '781c0ad2c.jpg',\n",
       " '9f63a23b1.jpg',\n",
       " '17e02f282.jpg',\n",
       " 'a13d9ae89.jpg',\n",
       " '9ecb8b3a9.jpg',\n",
       " '83ccbb7ff.jpg',\n",
       " '2a3812290.jpg',\n",
       " '11c3a6621.jpg',\n",
       " '89329c701.jpg',\n",
       " '446b3bb88.jpg',\n",
       " 'a62729b91.jpg',\n",
       " 'decd49949.jpg',\n",
       " 'c0bce1b53.jpg',\n",
       " 'd6665ce3d.jpg',\n",
       " '6914e04e7.jpg',\n",
       " '42403ad49.jpg',\n",
       " '379cfeea6.jpg',\n",
       " 'd33369034.jpg',\n",
       " '3b29e4b8c.jpg',\n",
       " '8473b9c07.jpg',\n",
       " '32bd7d9d7.jpg',\n",
       " 'a65a0df2c.jpg',\n",
       " 'ddc05b6b5.jpg',\n",
       " '1b8a8675d.jpg',\n",
       " 'e6311c90b.jpg',\n",
       " '1bb2d0067.jpg',\n",
       " 'ddc7397fd.jpg',\n",
       " '4afb9eb3c.jpg',\n",
       " '168258e8a.jpg',\n",
       " '5f93559ca.jpg',\n",
       " 'd855dc94b.jpg',\n",
       " 'a7c8fbf67.jpg',\n",
       " '474464104.jpg',\n",
       " '45f1f7f8e.jpg',\n",
       " '8eb4cc215.jpg',\n",
       " 'f3d1e4d68.jpg',\n",
       " '270e405fb.jpg',\n",
       " '197fd8582.jpg',\n",
       " '60c9a3a3e.jpg',\n",
       " 'c5d74c91f.jpg',\n",
       " '1ba42c6dd.jpg',\n",
       " '2dcb8578c.jpg',\n",
       " '585ff7fb8.jpg',\n",
       " '687626fdf.jpg',\n",
       " '34d8ba7cb.jpg',\n",
       " 'd042ac24f.jpg',\n",
       " 'a7a28e411.jpg',\n",
       " 'ca470617e.jpg',\n",
       " 'f6fc5921c.jpg',\n",
       " 'e4ac955e4.jpg',\n",
       " '0376802cf.jpg',\n",
       " '9eb83ef4b.jpg',\n",
       " '5138fcb6f.jpg',\n",
       " 'b6ff41274.jpg',\n",
       " 'e80fb0992.jpg',\n",
       " 'f479e37c3.jpg',\n",
       " '1877827c6.jpg',\n",
       " 'cc37808a9.jpg',\n",
       " '3ebd1c0db.jpg',\n",
       " '047b5bcb8.jpg',\n",
       " 'c9bfc88f3.jpg',\n",
       " '2a52b5d42.jpg',\n",
       " '78ce5c295.jpg',\n",
       " 'e72c1eed8.jpg',\n",
       " '0041a9867.jpg',\n",
       " 'a721e50d7.jpg',\n",
       " '1630ad18c.jpg',\n",
       " '910f8b77e.jpg',\n",
       " '6db72af84.jpg',\n",
       " 'dda9b2bd9.jpg',\n",
       " '80ba98fc7.jpg',\n",
       " 'e9c6b9f71.jpg',\n",
       " '3234bf468.jpg',\n",
       " '2bece1295.jpg',\n",
       " 'a558a4774.jpg',\n",
       " '70055f80b.jpg',\n",
       " '5ab00ee21.jpg',\n",
       " 'cca77f158.jpg',\n",
       " '1729983ba.jpg',\n",
       " '7b3893051.jpg',\n",
       " 'f2c2ced53.jpg',\n",
       " 'dd23f9bd0.jpg',\n",
       " 'c25715ee7.jpg',\n",
       " '5c9da740d.jpg',\n",
       " '713b9a678.jpg',\n",
       " '3d146bf74.jpg',\n",
       " '1550cb8b0.jpg',\n",
       " 'bff0f1a93.jpg',\n",
       " '0359ba961.jpg',\n",
       " 'd5acd43b4.jpg',\n",
       " 'b9f5fd430.jpg',\n",
       " '0fbe7a441.jpg',\n",
       " 'badcc1376.jpg',\n",
       " '61f108438.jpg',\n",
       " '722741d71.jpg',\n",
       " '98e1ea193.jpg',\n",
       " '0ce154fff.jpg',\n",
       " '7300646f9.jpg',\n",
       " 'f70e38162.jpg',\n",
       " '2f199ca48.jpg',\n",
       " 'ad5b1ed5f.jpg',\n",
       " 'ca6bd3486.jpg',\n",
       " '01830c9cf.jpg',\n",
       " 'd7664709b.jpg',\n",
       " 'f8b18f884.jpg',\n",
       " 'e016fe339.jpg',\n",
       " '105e33e2f.jpg',\n",
       " 'd86345917.jpg',\n",
       " '233f349cc.jpg',\n",
       " '35384adc0.jpg',\n",
       " '66eb1eb15.jpg',\n",
       " 'a4e17c500.jpg',\n",
       " 'cda5cebb0.jpg',\n",
       " '8dc50d85e.jpg',\n",
       " '4e74f1aea.jpg',\n",
       " 'ca43956aa.jpg',\n",
       " 'a4c604801.jpg',\n",
       " '3db223346.jpg',\n",
       " '96f13934d.jpg',\n",
       " '9429b7c9a.jpg',\n",
       " 'f481df0c4.jpg',\n",
       " 'b34688d4c.jpg',\n",
       " 'aba052ce4.jpg',\n",
       " '8c26a80f0.jpg',\n",
       " '43fef2b47.jpg',\n",
       " '3dd105781.jpg',\n",
       " '0648b2a7c.jpg',\n",
       " 'fc44e0c7b.jpg',\n",
       " '1bc53a956.jpg',\n",
       " '82e18b2e1.jpg',\n",
       " '7a62e5eb7.jpg',\n",
       " 'ab1fc64f7.jpg',\n",
       " 'ba63b7efe.jpg',\n",
       " 'cda932674.jpg',\n",
       " '945980741.jpg',\n",
       " 'bc36b4a99.jpg',\n",
       " '1adc83ebc.jpg',\n",
       " '23ec8dbf0.jpg',\n",
       " '4e9352e86.jpg',\n",
       " 'fb9a09616.jpg',\n",
       " 'e96e501ca.jpg',\n",
       " '2546a4873.jpg',\n",
       " '98c27c65e.jpg',\n",
       " '1aa7b651a.jpg',\n",
       " '29832f000.jpg',\n",
       " 'd60fb6598.jpg',\n",
       " '7295048ff.jpg',\n",
       " '583cd1fa4.jpg',\n",
       " 'f37b9019c.jpg',\n",
       " 'a5f623433.jpg',\n",
       " '502341c2b.jpg',\n",
       " '0d7e61a98.jpg',\n",
       " 'a1d43a1b4.jpg',\n",
       " 'c2dba5ab9.jpg',\n",
       " '42c3ac658.jpg',\n",
       " '0ffeef0e3.jpg',\n",
       " '29777c61c.jpg',\n",
       " '26f42b551.jpg',\n",
       " '6d5df87ce.jpg',\n",
       " '4b4cb7651.jpg',\n",
       " 'ddb684f0d.jpg',\n",
       " 'f9aaf6142.jpg',\n",
       " '438ebf566.jpg',\n",
       " 'dc732864d.jpg',\n",
       " 'bb4167184.jpg',\n",
       " 'a90c7acc9.jpg',\n",
       " '78bdc0575.jpg',\n",
       " '7738d186e.jpg',\n",
       " '1f67bc08f.jpg',\n",
       " 'd02c336f6.jpg',\n",
       " 'edc3ff5eb.jpg',\n",
       " 'af4639838.jpg',\n",
       " 'e0d1f6df3.jpg',\n",
       " '0538d3032.jpg',\n",
       " '477ed5052.jpg',\n",
       " '643fc6c2c.jpg',\n",
       " '7c041d03b.jpg',\n",
       " '803485430.jpg',\n",
       " '28b4898c9.jpg',\n",
       " 'c8d04235a.jpg',\n",
       " 'ec38fd3d4.jpg',\n",
       " '1bdb2a7d1.jpg',\n",
       " '777e2025a.jpg',\n",
       " 'a94f79dcd.jpg',\n",
       " 'a5de374ec.jpg',\n",
       " '156ef1cee.jpg',\n",
       " '546391bfe.jpg',\n",
       " 'fb5a3d6ea.jpg',\n",
       " '47380533f.jpg',\n",
       " '3f40351b0.jpg',\n",
       " '6990650de.jpg',\n",
       " 'ab5bac185.jpg',\n",
       " 'fc54d12aa.jpg',\n",
       " '6d169ac94.jpg',\n",
       " 'cc739b946.jpg',\n",
       " '5399e05ba.jpg',\n",
       " '33e21dd99.jpg',\n",
       " 'b0c15a0bd.jpg',\n",
       " '7cf648606.jpg',\n",
       " '0941de387.jpg',\n",
       " '6c9d0e242.jpg',\n",
       " 'c93096b85.jpg',\n",
       " 'd8b2d74df.jpg',\n",
       " '10b69f680.jpg',\n",
       " '8e2226b90.jpg',\n",
       " 'cd970d099.jpg',\n",
       " 'b70ef8338.jpg',\n",
       " '742497623.jpg',\n",
       " '9e8922834.jpg',\n",
       " 'd51ee9fb1.jpg',\n",
       " 'dec47e2f5.jpg',\n",
       " '7e27b8815.jpg',\n",
       " 'b6db315cd.jpg',\n",
       " '64eeed60b.jpg',\n",
       " 'f0211daed.jpg',\n",
       " '28a6540ea.jpg',\n",
       " 'fd4ea0c4b.jpg',\n",
       " '5b7133808.jpg',\n",
       " 'ef150e31f.jpg',\n",
       " 'a6936d1a8.jpg',\n",
       " 'f91a9e58a.jpg',\n",
       " 'da01d676b.jpg',\n",
       " '0547fccaa.jpg',\n",
       " '49641e593.jpg',\n",
       " '8ecb4b78b.jpg',\n",
       " '2bf940128.jpg',\n",
       " 'f3e30fe4d.jpg',\n",
       " '29ded7ea8.jpg',\n",
       " 'bec716ba6.jpg',\n",
       " '004344e9f.jpg',\n",
       " 'a679f847d.jpg',\n",
       " '9449dea2b.jpg',\n",
       " '426dec492.jpg',\n",
       " 'e83c211ec.jpg',\n",
       " '69ad4e7ee.jpg',\n",
       " 'ffa9418ad.jpg',\n",
       " '886403bf2.jpg',\n",
       " 'cc363ef0b.jpg',\n",
       " 'd58f5de78.jpg',\n",
       " 'b5dd0e294.jpg',\n",
       " '906ded69c.jpg',\n",
       " 'db697433c.jpg',\n",
       " '24b6f116f.jpg',\n",
       " 'e409024aa.jpg',\n",
       " '477d2e0f1.jpg',\n",
       " '770182f2c.jpg',\n",
       " 'bdd108816.jpg',\n",
       " '1c0be8135.jpg',\n",
       " '77ed6d2b9.jpg',\n",
       " '7670d7d5f.jpg',\n",
       " 'cb94336da.jpg',\n",
       " '0110a64a9.jpg',\n",
       " '8cab4875a.jpg',\n",
       " '9206bb258.jpg',\n",
       " ...]"
      ]
     },
     "execution_count": 80,
     "metadata": {},
     "output_type": "execute_result"
    }
   ],
   "source": [
    "data.test_ds"
   ]
  },
  {
   "cell_type": "code",
   "execution_count": 83,
   "metadata": {},
   "outputs": [
    {
     "ename": "TypeError",
     "evalue": "max() received an invalid combination of arguments - got (numpy.ndarray, dim=int), but expected one of:\n * (Tensor input)\n * (Tensor input, Tensor other, Tensor out)\n * (Tensor input, int dim, bool keepdim, tuple of Tensors out)\n",
     "output_type": "error",
     "traceback": [
      "\u001b[0;31m---------------------------------------------------------------------------\u001b[0m",
      "\u001b[0;31mTypeError\u001b[0m                                 Traceback (most recent call last)",
      "\u001b[0;32m<ipython-input-83-75c316fa7555>\u001b[0m in \u001b[0;36m<module>\u001b[0;34m\u001b[0m\n\u001b[0;32m----> 1\u001b[0;31m \u001b[0maccuracy\u001b[0m\u001b[0;34m(\u001b[0m\u001b[0mpreds\u001b[0m\u001b[0;34m,\u001b[0m \u001b[0mdata\u001b[0m\u001b[0;34m)\u001b[0m\u001b[0;34m\u001b[0m\u001b[0m\n\u001b[0m",
      "\u001b[0;32m~/whales/fastai/metrics.py\u001b[0m in \u001b[0;36maccuracy\u001b[0;34m(preds, targs)\u001b[0m\n\u001b[1;32m      8\u001b[0m \u001b[0;34m\u001b[0m\u001b[0m\n\u001b[1;32m      9\u001b[0m \u001b[0;32mdef\u001b[0m \u001b[0maccuracy\u001b[0m\u001b[0;34m(\u001b[0m\u001b[0mpreds\u001b[0m\u001b[0;34m,\u001b[0m \u001b[0mtargs\u001b[0m\u001b[0;34m)\u001b[0m\u001b[0;34m:\u001b[0m\u001b[0;34m\u001b[0m\u001b[0m\n\u001b[0;32m---> 10\u001b[0;31m     \u001b[0mpreds\u001b[0m \u001b[0;34m=\u001b[0m \u001b[0mtorch\u001b[0m\u001b[0;34m.\u001b[0m\u001b[0mmax\u001b[0m\u001b[0;34m(\u001b[0m\u001b[0mpreds\u001b[0m\u001b[0;34m,\u001b[0m \u001b[0mdim\u001b[0m\u001b[0;34m=\u001b[0m\u001b[0;36m1\u001b[0m\u001b[0;34m)\u001b[0m\u001b[0;34m[\u001b[0m\u001b[0;36m1\u001b[0m\u001b[0;34m]\u001b[0m\u001b[0;34m\u001b[0m\u001b[0m\n\u001b[0m\u001b[1;32m     11\u001b[0m     \u001b[0;32mreturn\u001b[0m \u001b[0;34m(\u001b[0m\u001b[0mpreds\u001b[0m\u001b[0;34m==\u001b[0m\u001b[0mtargs\u001b[0m\u001b[0;34m)\u001b[0m\u001b[0;34m.\u001b[0m\u001b[0mfloat\u001b[0m\u001b[0;34m(\u001b[0m\u001b[0;34m)\u001b[0m\u001b[0;34m.\u001b[0m\u001b[0mmean\u001b[0m\u001b[0;34m(\u001b[0m\u001b[0;34m)\u001b[0m\u001b[0;34m\u001b[0m\u001b[0m\n\u001b[1;32m     12\u001b[0m \u001b[0;34m\u001b[0m\u001b[0m\n",
      "\u001b[0;31mTypeError\u001b[0m: max() received an invalid combination of arguments - got (numpy.ndarray, dim=int), but expected one of:\n * (Tensor input)\n * (Tensor input, Tensor other, Tensor out)\n * (Tensor input, int dim, bool keepdim, tuple of Tensors out)\n"
     ]
    }
   ],
   "source": [
    "accuracy(preds, data)"
   ]
  },
  {
   "cell_type": "code",
   "execution_count": 68,
   "metadata": {},
   "outputs": [],
   "source": [
    "learn.unfreeze()"
   ]
  },
  {
   "cell_type": "code",
   "execution_count": 72,
   "metadata": {},
   "outputs": [],
   "source": [
    "learn.freeze_to(-2)"
   ]
  },
  {
   "cell_type": "code",
   "execution_count": 73,
   "metadata": {},
   "outputs": [
    {
     "data": {
      "application/vnd.jupyter.widget-view+json": {
       "model_id": "d6877df8f3b04447bb4c7281119c29f7",
       "version_major": 2,
       "version_minor": 0
      },
      "text/plain": [
       "HBox(children=(IntProgress(value=0, description='Epoch', max=1, style=ProgressStyle(description_width='initial…"
      ]
     },
     "metadata": {},
     "output_type": "display_data"
    },
    {
     "name": "stdout",
     "output_type": "stream",
     "text": [
      " 19%|█▉        | 134/693 [01:01<04:01,  2.32it/s, loss=4.46]"
     ]
    },
    {
     "ename": "KeyboardInterrupt",
     "evalue": "",
     "output_type": "error",
     "traceback": [
      "\u001b[0;31m---------------------------------------------------------------------------\u001b[0m",
      "\u001b[0;31mKeyboardInterrupt\u001b[0m                         Traceback (most recent call last)",
      "\u001b[0;32m<ipython-input-73-ef82743fb3e4>\u001b[0m in \u001b[0;36m<module>\u001b[0;34m\u001b[0m\n\u001b[0;32m----> 1\u001b[0;31m \u001b[0mlearn\u001b[0m\u001b[0;34m.\u001b[0m\u001b[0mfit\u001b[0m\u001b[0;34m(\u001b[0m\u001b[0;36m1e-4\u001b[0m\u001b[0;34m,\u001b[0m \u001b[0;36m1\u001b[0m\u001b[0;34m)\u001b[0m\u001b[0;34m\u001b[0m\u001b[0m\n\u001b[0m",
      "\u001b[0;32m~/whales/fastai/learner.py\u001b[0m in \u001b[0;36mfit\u001b[0;34m(self, lrs, n_cycle, wds, **kwargs)\u001b[0m\n\u001b[1;32m    300\u001b[0m         \u001b[0mself\u001b[0m\u001b[0;34m.\u001b[0m\u001b[0msched\u001b[0m \u001b[0;34m=\u001b[0m \u001b[0;32mNone\u001b[0m\u001b[0;34m\u001b[0m\u001b[0m\n\u001b[1;32m    301\u001b[0m         \u001b[0mlayer_opt\u001b[0m \u001b[0;34m=\u001b[0m \u001b[0mself\u001b[0m\u001b[0;34m.\u001b[0m\u001b[0mget_layer_opt\u001b[0m\u001b[0;34m(\u001b[0m\u001b[0mlrs\u001b[0m\u001b[0;34m,\u001b[0m \u001b[0mwds\u001b[0m\u001b[0;34m)\u001b[0m\u001b[0;34m\u001b[0m\u001b[0m\n\u001b[0;32m--> 302\u001b[0;31m         \u001b[0;32mreturn\u001b[0m \u001b[0mself\u001b[0m\u001b[0;34m.\u001b[0m\u001b[0mfit_gen\u001b[0m\u001b[0;34m(\u001b[0m\u001b[0mself\u001b[0m\u001b[0;34m.\u001b[0m\u001b[0mmodel\u001b[0m\u001b[0;34m,\u001b[0m \u001b[0mself\u001b[0m\u001b[0;34m.\u001b[0m\u001b[0mdata\u001b[0m\u001b[0;34m,\u001b[0m \u001b[0mlayer_opt\u001b[0m\u001b[0;34m,\u001b[0m \u001b[0mn_cycle\u001b[0m\u001b[0;34m,\u001b[0m \u001b[0;34m**\u001b[0m\u001b[0mkwargs\u001b[0m\u001b[0;34m)\u001b[0m\u001b[0;34m\u001b[0m\u001b[0m\n\u001b[0m\u001b[1;32m    303\u001b[0m \u001b[0;34m\u001b[0m\u001b[0m\n\u001b[1;32m    304\u001b[0m     \u001b[0;32mdef\u001b[0m \u001b[0mwarm_up\u001b[0m\u001b[0;34m(\u001b[0m\u001b[0mself\u001b[0m\u001b[0;34m,\u001b[0m \u001b[0mlr\u001b[0m\u001b[0;34m,\u001b[0m \u001b[0mwds\u001b[0m\u001b[0;34m=\u001b[0m\u001b[0;32mNone\u001b[0m\u001b[0;34m)\u001b[0m\u001b[0;34m:\u001b[0m\u001b[0;34m\u001b[0m\u001b[0m\n",
      "\u001b[0;32m~/whales/fastai/learner.py\u001b[0m in \u001b[0;36mfit_gen\u001b[0;34m(self, model, data, layer_opt, n_cycle, cycle_len, cycle_mult, cycle_save_name, best_save_name, use_clr, use_clr_beta, metrics, callbacks, use_wd_sched, norm_wds, wds_sched_mult, use_swa, swa_start, swa_eval_freq, **kwargs)\u001b[0m\n\u001b[1;32m    247\u001b[0m             \u001b[0mmetrics\u001b[0m\u001b[0;34m=\u001b[0m\u001b[0mmetrics\u001b[0m\u001b[0;34m,\u001b[0m \u001b[0mcallbacks\u001b[0m\u001b[0;34m=\u001b[0m\u001b[0mcallbacks\u001b[0m\u001b[0;34m,\u001b[0m \u001b[0mreg_fn\u001b[0m\u001b[0;34m=\u001b[0m\u001b[0mself\u001b[0m\u001b[0;34m.\u001b[0m\u001b[0mreg_fn\u001b[0m\u001b[0;34m,\u001b[0m \u001b[0mclip\u001b[0m\u001b[0;34m=\u001b[0m\u001b[0mself\u001b[0m\u001b[0;34m.\u001b[0m\u001b[0mclip\u001b[0m\u001b[0;34m,\u001b[0m \u001b[0mfp16\u001b[0m\u001b[0;34m=\u001b[0m\u001b[0mself\u001b[0m\u001b[0;34m.\u001b[0m\u001b[0mfp16\u001b[0m\u001b[0;34m,\u001b[0m\u001b[0;34m\u001b[0m\u001b[0m\n\u001b[1;32m    248\u001b[0m             \u001b[0mswa_model\u001b[0m\u001b[0;34m=\u001b[0m\u001b[0mself\u001b[0m\u001b[0;34m.\u001b[0m\u001b[0mswa_model\u001b[0m \u001b[0;32mif\u001b[0m \u001b[0muse_swa\u001b[0m \u001b[0;32melse\u001b[0m \u001b[0;32mNone\u001b[0m\u001b[0;34m,\u001b[0m \u001b[0mswa_start\u001b[0m\u001b[0;34m=\u001b[0m\u001b[0mswa_start\u001b[0m\u001b[0;34m,\u001b[0m\u001b[0;34m\u001b[0m\u001b[0m\n\u001b[0;32m--> 249\u001b[0;31m             swa_eval_freq=swa_eval_freq, **kwargs)\n\u001b[0m\u001b[1;32m    250\u001b[0m \u001b[0;34m\u001b[0m\u001b[0m\n\u001b[1;32m    251\u001b[0m     \u001b[0;32mdef\u001b[0m \u001b[0mget_layer_groups\u001b[0m\u001b[0;34m(\u001b[0m\u001b[0mself\u001b[0m\u001b[0;34m)\u001b[0m\u001b[0;34m:\u001b[0m \u001b[0;32mreturn\u001b[0m \u001b[0mself\u001b[0m\u001b[0;34m.\u001b[0m\u001b[0mmodels\u001b[0m\u001b[0;34m.\u001b[0m\u001b[0mget_layer_groups\u001b[0m\u001b[0;34m(\u001b[0m\u001b[0;34m)\u001b[0m\u001b[0;34m\u001b[0m\u001b[0m\n",
      "\u001b[0;32m~/whales/fastai/model.py\u001b[0m in \u001b[0;36mfit\u001b[0;34m(model, data, n_epochs, opt, crit, metrics, callbacks, stepper, swa_model, swa_start, swa_eval_freq, visualize, **kwargs)\u001b[0m\n\u001b[1;32m    136\u001b[0m         \u001b[0;32mif\u001b[0m \u001b[0mall_val\u001b[0m\u001b[0;34m:\u001b[0m \u001b[0mval_iter\u001b[0m \u001b[0;34m=\u001b[0m \u001b[0mIterBatch\u001b[0m\u001b[0;34m(\u001b[0m\u001b[0mcur_data\u001b[0m\u001b[0;34m.\u001b[0m\u001b[0mval_dl\u001b[0m\u001b[0;34m)\u001b[0m\u001b[0;34m\u001b[0m\u001b[0m\n\u001b[1;32m    137\u001b[0m \u001b[0;34m\u001b[0m\u001b[0m\n\u001b[0;32m--> 138\u001b[0;31m         \u001b[0;32mfor\u001b[0m \u001b[0;34m(\u001b[0m\u001b[0;34m*\u001b[0m\u001b[0mx\u001b[0m\u001b[0;34m,\u001b[0m\u001b[0my\u001b[0m\u001b[0;34m)\u001b[0m \u001b[0;32min\u001b[0m \u001b[0mt\u001b[0m\u001b[0;34m:\u001b[0m\u001b[0;34m\u001b[0m\u001b[0m\n\u001b[0m\u001b[1;32m    139\u001b[0m             \u001b[0mbatch_num\u001b[0m \u001b[0;34m+=\u001b[0m \u001b[0;36m1\u001b[0m\u001b[0;34m\u001b[0m\u001b[0m\n\u001b[1;32m    140\u001b[0m             \u001b[0;32mfor\u001b[0m \u001b[0mcb\u001b[0m \u001b[0;32min\u001b[0m \u001b[0mcallbacks\u001b[0m\u001b[0;34m:\u001b[0m \u001b[0mcb\u001b[0m\u001b[0;34m.\u001b[0m\u001b[0mon_batch_begin\u001b[0m\u001b[0;34m(\u001b[0m\u001b[0;34m)\u001b[0m\u001b[0;34m\u001b[0m\u001b[0m\n",
      "\u001b[0;32m~/src/anaconda3/envs/fastai/lib/python3.6/site-packages/tqdm/_tqdm.py\u001b[0m in \u001b[0;36m__iter__\u001b[0;34m(self)\u001b[0m\n\u001b[1;32m   1000\u001b[0m                                 \u001b[0mself\u001b[0m\u001b[0;34m.\u001b[0m\u001b[0mmoveto\u001b[0m\u001b[0;34m(\u001b[0m\u001b[0mabs\u001b[0m\u001b[0;34m(\u001b[0m\u001b[0mself\u001b[0m\u001b[0;34m.\u001b[0m\u001b[0mpos\u001b[0m\u001b[0;34m)\u001b[0m\u001b[0;34m)\u001b[0m\u001b[0;34m\u001b[0m\u001b[0m\n\u001b[1;32m   1001\u001b[0m                             \u001b[0;31m# Print bar update\u001b[0m\u001b[0;34m\u001b[0m\u001b[0;34m\u001b[0m\u001b[0m\n\u001b[0;32m-> 1002\u001b[0;31m                             \u001b[0msp\u001b[0m\u001b[0;34m(\u001b[0m\u001b[0mself\u001b[0m\u001b[0;34m.\u001b[0m\u001b[0m__repr__\u001b[0m\u001b[0;34m(\u001b[0m\u001b[0;34m)\u001b[0m\u001b[0;34m)\u001b[0m\u001b[0;34m\u001b[0m\u001b[0m\n\u001b[0m\u001b[1;32m   1003\u001b[0m                             \u001b[0;32mif\u001b[0m \u001b[0mself\u001b[0m\u001b[0;34m.\u001b[0m\u001b[0mpos\u001b[0m\u001b[0;34m:\u001b[0m\u001b[0;34m\u001b[0m\u001b[0m\n\u001b[1;32m   1004\u001b[0m                                 \u001b[0mself\u001b[0m\u001b[0;34m.\u001b[0m\u001b[0mmoveto\u001b[0m\u001b[0;34m(\u001b[0m\u001b[0;34m-\u001b[0m\u001b[0mabs\u001b[0m\u001b[0;34m(\u001b[0m\u001b[0mself\u001b[0m\u001b[0;34m.\u001b[0m\u001b[0mpos\u001b[0m\u001b[0;34m)\u001b[0m\u001b[0;34m)\u001b[0m\u001b[0;34m\u001b[0m\u001b[0m\n",
      "\u001b[0;32m~/src/anaconda3/envs/fastai/lib/python3.6/site-packages/tqdm/_tqdm.py\u001b[0m in \u001b[0;36mprint_status\u001b[0;34m(s)\u001b[0m\n\u001b[1;32m    229\u001b[0m         \u001b[0;32mdef\u001b[0m \u001b[0mprint_status\u001b[0m\u001b[0;34m(\u001b[0m\u001b[0ms\u001b[0m\u001b[0;34m)\u001b[0m\u001b[0;34m:\u001b[0m\u001b[0;34m\u001b[0m\u001b[0m\n\u001b[1;32m    230\u001b[0m             \u001b[0mlen_s\u001b[0m \u001b[0;34m=\u001b[0m \u001b[0mlen\u001b[0m\u001b[0;34m(\u001b[0m\u001b[0ms\u001b[0m\u001b[0;34m)\u001b[0m\u001b[0;34m\u001b[0m\u001b[0m\n\u001b[0;32m--> 231\u001b[0;31m             \u001b[0mfp_write\u001b[0m\u001b[0;34m(\u001b[0m\u001b[0;34m'\\r'\u001b[0m \u001b[0;34m+\u001b[0m \u001b[0ms\u001b[0m \u001b[0;34m+\u001b[0m \u001b[0;34m(\u001b[0m\u001b[0;34m' '\u001b[0m \u001b[0;34m*\u001b[0m \u001b[0mmax\u001b[0m\u001b[0;34m(\u001b[0m\u001b[0mlast_len\u001b[0m\u001b[0;34m[\u001b[0m\u001b[0;36m0\u001b[0m\u001b[0;34m]\u001b[0m \u001b[0;34m-\u001b[0m \u001b[0mlen_s\u001b[0m\u001b[0;34m,\u001b[0m \u001b[0;36m0\u001b[0m\u001b[0;34m)\u001b[0m\u001b[0;34m)\u001b[0m\u001b[0;34m)\u001b[0m\u001b[0;34m\u001b[0m\u001b[0m\n\u001b[0m\u001b[1;32m    232\u001b[0m             \u001b[0mlast_len\u001b[0m\u001b[0;34m[\u001b[0m\u001b[0;36m0\u001b[0m\u001b[0;34m]\u001b[0m \u001b[0;34m=\u001b[0m \u001b[0mlen_s\u001b[0m\u001b[0;34m\u001b[0m\u001b[0m\n\u001b[1;32m    233\u001b[0m \u001b[0;34m\u001b[0m\u001b[0m\n",
      "\u001b[0;32m~/src/anaconda3/envs/fastai/lib/python3.6/site-packages/tqdm/_tqdm.py\u001b[0m in \u001b[0;36mfp_write\u001b[0;34m(s)\u001b[0m\n\u001b[1;32m    223\u001b[0m         \u001b[0;32mdef\u001b[0m \u001b[0mfp_write\u001b[0m\u001b[0;34m(\u001b[0m\u001b[0ms\u001b[0m\u001b[0;34m)\u001b[0m\u001b[0;34m:\u001b[0m\u001b[0;34m\u001b[0m\u001b[0m\n\u001b[1;32m    224\u001b[0m             \u001b[0mfp\u001b[0m\u001b[0;34m.\u001b[0m\u001b[0mwrite\u001b[0m\u001b[0;34m(\u001b[0m\u001b[0m_unicode\u001b[0m\u001b[0;34m(\u001b[0m\u001b[0ms\u001b[0m\u001b[0;34m)\u001b[0m\u001b[0;34m)\u001b[0m\u001b[0;34m\u001b[0m\u001b[0m\n\u001b[0;32m--> 225\u001b[0;31m             \u001b[0mfp_flush\u001b[0m\u001b[0;34m(\u001b[0m\u001b[0;34m)\u001b[0m\u001b[0;34m\u001b[0m\u001b[0m\n\u001b[0m\u001b[1;32m    226\u001b[0m \u001b[0;34m\u001b[0m\u001b[0m\n\u001b[1;32m    227\u001b[0m         \u001b[0mlast_len\u001b[0m \u001b[0;34m=\u001b[0m \u001b[0;34m[\u001b[0m\u001b[0;36m0\u001b[0m\u001b[0;34m]\u001b[0m\u001b[0;34m\u001b[0m\u001b[0m\n",
      "\u001b[0;32m~/src/anaconda3/envs/fastai/lib/python3.6/site-packages/ipykernel/iostream.py\u001b[0m in \u001b[0;36mflush\u001b[0;34m(self)\u001b[0m\n\u001b[1;32m    347\u001b[0m                 \u001b[0mself\u001b[0m\u001b[0;34m.\u001b[0m\u001b[0mpub_thread\u001b[0m\u001b[0;34m.\u001b[0m\u001b[0mschedule\u001b[0m\u001b[0;34m(\u001b[0m\u001b[0mevt\u001b[0m\u001b[0;34m.\u001b[0m\u001b[0mset\u001b[0m\u001b[0;34m)\u001b[0m\u001b[0;34m\u001b[0m\u001b[0m\n\u001b[1;32m    348\u001b[0m                 \u001b[0;31m# and give a timeout to avoid\u001b[0m\u001b[0;34m\u001b[0m\u001b[0;34m\u001b[0m\u001b[0m\n\u001b[0;32m--> 349\u001b[0;31m                 \u001b[0;32mif\u001b[0m \u001b[0;32mnot\u001b[0m \u001b[0mevt\u001b[0m\u001b[0;34m.\u001b[0m\u001b[0mwait\u001b[0m\u001b[0;34m(\u001b[0m\u001b[0mself\u001b[0m\u001b[0;34m.\u001b[0m\u001b[0mflush_timeout\u001b[0m\u001b[0;34m)\u001b[0m\u001b[0;34m:\u001b[0m\u001b[0;34m\u001b[0m\u001b[0m\n\u001b[0m\u001b[1;32m    350\u001b[0m                     \u001b[0;31m# write directly to __stderr__ instead of warning because\u001b[0m\u001b[0;34m\u001b[0m\u001b[0;34m\u001b[0m\u001b[0m\n\u001b[1;32m    351\u001b[0m                     \u001b[0;31m# if this is happening sys.stderr may be the problem.\u001b[0m\u001b[0;34m\u001b[0m\u001b[0;34m\u001b[0m\u001b[0m\n",
      "\u001b[0;32m~/src/anaconda3/envs/fastai/lib/python3.6/threading.py\u001b[0m in \u001b[0;36mwait\u001b[0;34m(self, timeout)\u001b[0m\n\u001b[1;32m    549\u001b[0m             \u001b[0msignaled\u001b[0m \u001b[0;34m=\u001b[0m \u001b[0mself\u001b[0m\u001b[0;34m.\u001b[0m\u001b[0m_flag\u001b[0m\u001b[0;34m\u001b[0m\u001b[0m\n\u001b[1;32m    550\u001b[0m             \u001b[0;32mif\u001b[0m \u001b[0;32mnot\u001b[0m \u001b[0msignaled\u001b[0m\u001b[0;34m:\u001b[0m\u001b[0;34m\u001b[0m\u001b[0m\n\u001b[0;32m--> 551\u001b[0;31m                 \u001b[0msignaled\u001b[0m \u001b[0;34m=\u001b[0m \u001b[0mself\u001b[0m\u001b[0;34m.\u001b[0m\u001b[0m_cond\u001b[0m\u001b[0;34m.\u001b[0m\u001b[0mwait\u001b[0m\u001b[0;34m(\u001b[0m\u001b[0mtimeout\u001b[0m\u001b[0;34m)\u001b[0m\u001b[0;34m\u001b[0m\u001b[0m\n\u001b[0m\u001b[1;32m    552\u001b[0m             \u001b[0;32mreturn\u001b[0m \u001b[0msignaled\u001b[0m\u001b[0;34m\u001b[0m\u001b[0m\n\u001b[1;32m    553\u001b[0m \u001b[0;34m\u001b[0m\u001b[0m\n",
      "\u001b[0;32m~/src/anaconda3/envs/fastai/lib/python3.6/threading.py\u001b[0m in \u001b[0;36mwait\u001b[0;34m(self, timeout)\u001b[0m\n\u001b[1;32m    297\u001b[0m             \u001b[0;32melse\u001b[0m\u001b[0;34m:\u001b[0m\u001b[0;34m\u001b[0m\u001b[0m\n\u001b[1;32m    298\u001b[0m                 \u001b[0;32mif\u001b[0m \u001b[0mtimeout\u001b[0m \u001b[0;34m>\u001b[0m \u001b[0;36m0\u001b[0m\u001b[0;34m:\u001b[0m\u001b[0;34m\u001b[0m\u001b[0m\n\u001b[0;32m--> 299\u001b[0;31m                     \u001b[0mgotit\u001b[0m \u001b[0;34m=\u001b[0m \u001b[0mwaiter\u001b[0m\u001b[0;34m.\u001b[0m\u001b[0macquire\u001b[0m\u001b[0;34m(\u001b[0m\u001b[0;32mTrue\u001b[0m\u001b[0;34m,\u001b[0m \u001b[0mtimeout\u001b[0m\u001b[0;34m)\u001b[0m\u001b[0;34m\u001b[0m\u001b[0m\n\u001b[0m\u001b[1;32m    300\u001b[0m                 \u001b[0;32melse\u001b[0m\u001b[0;34m:\u001b[0m\u001b[0;34m\u001b[0m\u001b[0m\n\u001b[1;32m    301\u001b[0m                     \u001b[0mgotit\u001b[0m \u001b[0;34m=\u001b[0m \u001b[0mwaiter\u001b[0m\u001b[0;34m.\u001b[0m\u001b[0macquire\u001b[0m\u001b[0;34m(\u001b[0m\u001b[0;32mFalse\u001b[0m\u001b[0;34m)\u001b[0m\u001b[0;34m\u001b[0m\u001b[0m\n",
      "\u001b[0;31mKeyboardInterrupt\u001b[0m: "
     ]
    }
   ],
   "source": [
    "learn.fit(1e-4, 1)"
   ]
  },
  {
   "cell_type": "code",
   "execution_count": null,
   "metadata": {},
   "outputs": [],
   "source": [
    "learn.fit(lrs, 2, cycle_len=2, use_clr=(10, 5), cycle_save_name=\"12_resnet19_im_4_20_10\")"
   ]
  }
 ],
 "metadata": {
  "kernelspec": {
   "display_name": "Python 3",
   "language": "python",
   "name": "python3"
  },
  "language_info": {
   "codemirror_mode": {
    "name": "ipython",
    "version": 3
   },
   "file_extension": ".py",
   "mimetype": "text/x-python",
   "name": "python",
   "nbconvert_exporter": "python",
   "pygments_lexer": "ipython3",
   "version": "3.6.6"
  }
 },
 "nbformat": 4,
 "nbformat_minor": 2
}
