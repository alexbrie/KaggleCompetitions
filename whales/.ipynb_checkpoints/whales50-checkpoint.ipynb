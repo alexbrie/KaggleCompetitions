{
 "cells": [
  {
   "cell_type": "code",
   "execution_count": 1,
   "metadata": {},
   "outputs": [
    {
     "name": "stderr",
     "output_type": "stream",
     "text": [
      "/home/ubuntu/src/anaconda3/envs/fastai/lib/python3.6/site-packages/sklearn/ensemble/weight_boosting.py:29: DeprecationWarning: numpy.core.umath_tests is an internal NumPy module and should not be imported. It will be removed in a future NumPy release.\n",
      "  from numpy.core.umath_tests import inner1d\n"
     ]
    }
   ],
   "source": [
    "from fastai.conv_learner import *\n",
    "from fastai.dataset import *\n",
    "from tqdm import tqdm\n",
    "import pandas as pd\n",
    "import numpy as np\n",
    "import os\n",
    "from sklearn.model_selection import train_test_split, StratifiedShuffleSplit\n",
    "import matplotlib.pyplot as plt\n",
    "import math\n"
   ]
  },
  {
   "cell_type": "code",
   "execution_count": 5,
   "metadata": {},
   "outputs": [],
   "source": [
    "MODEL_NAME = 'Resnet50'\n",
    "PATH  = \"./input\"\n",
    "TRAIN = f'{PATH}/train/'\n",
    "TEST = f'{PATH}/test/'\n",
    "LABELS = f'{PATH}/train.csv'\n",
    "SAMPLE_SUB = f'{PATH}/sample_submission.csv'"
   ]
  },
  {
   "cell_type": "code",
   "execution_count": 6,
   "metadata": {},
   "outputs": [],
   "source": [
    "# Backbone architecture\n",
    "arch = resnet50\n",
    "# Number of workers for data preprocessing\n",
    "num_workers = 4"
   ]
  },
  {
   "cell_type": "code",
   "execution_count": 8,
   "metadata": {},
   "outputs": [
    {
     "name": "stdout",
     "output_type": "stream",
     "text": [
      "Number of classes: 5005\n"
     ]
    }
   ],
   "source": [
    "train_df = pd.read_csv(LABELS).set_index('Image')\n",
    "unique_labels = np.unique(train_df.Id.values)\n",
    "labels_dict = dict()\n",
    "labels_list = []\n",
    "for i in range(len(unique_labels)):\n",
    "    labels_dict[unique_labels[i]] = i\n",
    "    labels_list.append(unique_labels[i])\n",
    "print(\"Number of classes: {}\".format(len(unique_labels)))\n",
    "train_df.Id = train_df.Id.apply(lambda x: labels_dict[x])\n",
    "train_labels = np.asarray(train_df.Id.values)\n",
    "test_names = [f for f in os.listdir(TEST)]"
   ]
  },
  {
   "cell_type": "code",
   "execution_count": 9,
   "metadata": {},
   "outputs": [
    {
     "name": "stdout",
     "output_type": "stream",
     "text": [
      "Count for class new_whale: 9664\n"
     ]
    },
    {
     "data": {
      "image/png": "[encoded data removed]",
      "text/plain": [
       "<Figure size 1296x288 with 2 Axes>"
      ]
     },
     "metadata": {
      "needs_background": "light"
     },
     "output_type": "display_data"
    }
   ],
   "source": [
    "labels_count = train_df.Id.value_counts()\n",
    "\n",
    "plt.figure(figsize=(18, 4))\n",
    "plt.subplot(121)\n",
    "_, _,_ = plt.hist(labels_count.values)\n",
    "plt.ylabel(\"frequency\")\n",
    "plt.xlabel(\"class size\")\n",
    "\n",
    "plt.title('class distribution; log scale')\n",
    "labels_count.head()\n",
    "\n",
    "print(\"Count for class new_whale: {}\".format(labels_count[0]))\n",
    "plt.subplot(122)\n",
    "_ = plt.plot(labels_count[1:].values)\n",
    "plt.title('w/o class new_whale; log scale')\n",
    "plt.xlabel(\"class\")\n",
    "plt.ylabel(\"log(size)\")\n",
    "plt.gca().set_yscale('log')"
   ]
  },
  {
   "cell_type": "code",
   "execution_count": 10,
   "metadata": {},
   "outputs": [
    {
     "name": "stdout",
     "output_type": "stream",
     "text": [
      "Train/val: 25361 1000\n",
      "Train classes 5005\n",
      "Val classes 511\n"
     ]
    }
   ],
   "source": [
    "train_df['image_name'] = train_df.index\n",
    "\n",
    "rs = np.random.RandomState(42) # set random seed to be equal to the sense of life\n",
    "perm = rs.permutation(len(train_df))\n",
    "\n",
    "tr_n = train_df['image_name'].values\n",
    "# Yes, we will validate on the subset of training data\n",
    "val_n = train_df['image_name'].values[perm][:1000]\n",
    "\n",
    "print('Train/val:', len(tr_n), len(val_n))\n",
    "print('Train classes', len(train_df.loc[tr_n].Id.unique()))\n",
    "print('Val classes', len(train_df.loc[val_n].Id.unique()))"
   ]
  },
  {
   "cell_type": "code",
   "execution_count": 11,
   "metadata": {},
   "outputs": [],
   "source": [
    "class HWIDataset(FilesDataset):\n",
    "    def __init__(self, fnames, path, transform):\n",
    "        self.train_df = train_df\n",
    "        super().__init__(fnames, transform, path)\n",
    "\n",
    "    def get_x(self, i):\n",
    "        img = open_image(os.path.join(self.path, self.fnames[i]))\n",
    "        img = cv2.resize(img, (self.sz, self.sz))\n",
    "        return img\n",
    "\n",
    "    def get_y(self, i):\n",
    "        if (self.path == TEST): return 0\n",
    "        return self.train_df.loc[self.fnames[i]]['Id']\n",
    "\n",
    "    def get_c(self):\n",
    "        return len(unique_labels)"
   ]
  },
  {
   "cell_type": "code",
   "execution_count": 12,
   "metadata": {},
   "outputs": [],
   "source": [
    "def get_data(sz, batch_size):\n",
    "    \"\"\"\n",
    "    Read data and do augmentations\n",
    "    \"\"\"\n",
    "    aug_tfms = [RandomRotateZoom(deg=20, zoom=2, stretch=1),\n",
    "                RandomLighting(0.2, 0.2, tfm_y=TfmType.NO),\n",
    "                RandomBlur(blur_strengths=3,tfm_y=TfmType.NO),\n",
    "                RandomFlip(tfm_y=TfmType.NO)]\n",
    "    tfms = tfms_from_model(arch, sz, crop_type=CropType.NO, tfm_y=TfmType.NO,\n",
    "                           aug_tfms=aug_tfms)\n",
    "    ds = ImageData.get_ds(HWIDataset, (tr_n[:-(len(tr_n) % batch_size)], TRAIN),\n",
    "                          (val_n, TRAIN), tfms, test=(test_names, TEST))\n",
    "    md = ImageData(\"./\", ds, batch_size, num_workers=num_workers, classes=None)\n",
    "    return md"
   ]
  },
  {
   "cell_type": "code",
   "execution_count": 13,
   "metadata": {},
   "outputs": [
    {
     "name": "stderr",
     "output_type": "stream",
     "text": [
      "Downloading: \"https://download.pytorch.org/models/resnet50-19c8e357.pth\" to /home/ubuntu/.torch/models/resnet50-19c8e357.pth\n",
      "100%|██████████| 102502400/102502400 [00:14<00:00, 7177720.22it/s] \n"
     ]
    }
   ],
   "source": [
    "image_size = 224\n",
    "batch_size = 96\n",
    "md = get_data(image_size, batch_size)\n",
    "extra_fc_layers_size = []\n",
    "learn = ConvLearner.pretrained(arch, md, xtra_fc=extra_fc_layers_size) \n",
    "learn.opt_fn = optim.Adam"
   ]
  },
  {
   "cell_type": "code",
   "execution_count": 14,
   "metadata": {},
   "outputs": [
    {
     "name": "stdout",
     "output_type": "stream",
     "text": [
      "Number of layer groups: 3 \t(first 2 groups is pretrained backbone)\n",
      "This is our extra thin on top of the backbone Resnet50 architecture:\n"
     ]
    },
    {
     "data": {
      "text/plain": [
       "Sequential(\n",
       "  (0): BatchNorm1d(4096, eps=1e-05, momentum=0.1, affine=True, track_running_stats=True)\n",
       "  (1): Dropout(p=0.5)\n",
       "  (2): Linear(in_features=4096, out_features=5005, bias=True)\n",
       "  (3): LogSoftmax()\n",
       ")"
      ]
     },
     "execution_count": 14,
     "metadata": {},
     "output_type": "execute_result"
    }
   ],
   "source": [
    "print('Number of layer groups:', len(learn.get_layer_groups()), '\\t(first 2 groups is pretrained backbone)')\n",
    "print('This is our extra thin on top of the backbone Resnet50 architecture:')\n",
    "learn.get_layer_groups()[2]"
   ]
  },
  {
   "cell_type": "code",
   "execution_count": 15,
   "metadata": {},
   "outputs": [
    {
     "data": {
      "application/vnd.jupyter.widget-view+json": {
       "model_id": "9901a166a43c42faa2bc23eda65bc9a8",
       "version_major": 2,
       "version_minor": 0
      },
      "text/plain": [
       "HBox(children=(IntProgress(value=0, description='Epoch', max=2, style=ProgressStyle(description_width='initial…"
      ]
     },
     "metadata": {},
     "output_type": "display_data"
    },
    {
     "name": "stdout",
     "output_type": "stream",
     "text": [
      "epoch      trn_loss   val_loss   accuracy                   \n",
      "    0      5.79415    4.172326   0.424     \n",
      "    1      5.10974    3.094691   0.47                       \n",
      "\n"
     ]
    },
    {
     "data": {
      "text/plain": [
       "[3.0946910591125487, 0.470000009059906]"
      ]
     },
     "execution_count": 15,
     "metadata": {},
     "output_type": "execute_result"
    }
   ],
   "source": [
    "base_lr = 1e-4 # lr for the backbone\n",
    "fc_lr = 1e-3 # lr for the classifer\n",
    "\n",
    "lrs = [base_lr, base_lr, fc_lr]\n",
    "# Freeze backbone and train the classifier for 2 epochs\n",
    "learn.fit(lrs=lrs, n_cycle=2, cycle_len=None)\n"
   ]
  },
  {
   "cell_type": "code",
   "execution_count": 16,
   "metadata": {},
   "outputs": [
    {
     "data": {
      "application/vnd.jupyter.widget-view+json": {
       "model_id": "e6f609df224e4b71b46d29a6f0a5174c",
       "version_major": 2,
       "version_minor": 0
      },
      "text/plain": [
       "HBox(children=(IntProgress(value=0, description='Epoch', max=1, style=ProgressStyle(description_width='initial…"
      ]
     },
     "metadata": {},
     "output_type": "display_data"
    },
    {
     "name": "stdout",
     "output_type": "stream",
     "text": [
      "epoch      trn_loss   val_loss   accuracy                   \n",
      "    0      5.310114   3.50486    0.475     \n",
      "\n"
     ]
    },
    {
     "data": {
      "text/plain": [
       "[3.5048604431152346, 0.4750000140666962]"
      ]
     },
     "execution_count": 16,
     "metadata": {},
     "output_type": "execute_result"
    }
   ],
   "source": [
    "# Unfreeze backbone and continue training for 9 epochs\n",
    "learn.unfreeze()\n",
    "learn.fit(lrs, n_cycle=1, cycle_len=None)"
   ]
  },
  {
   "cell_type": "code",
   "execution_count": 18,
   "metadata": {},
   "outputs": [
    {
     "data": {
      "application/vnd.jupyter.widget-view+json": {
       "model_id": "7a35f7e447f64353bbd9bb22d6b4687d",
       "version_major": 2,
       "version_minor": 0
      },
      "text/plain": [
       "HBox(children=(IntProgress(value=0, description='Epoch', max=1, style=ProgressStyle(description_width='initial…"
      ]
     },
     "metadata": {},
     "output_type": "display_data"
    },
    {
     "name": "stdout",
     "output_type": "stream",
     "text": [
      "epoch      trn_loss   val_loss   accuracy                   \n",
      "    0      4.659643   2.999784   0.58      \n",
      "\n"
     ]
    },
    {
     "data": {
      "text/plain": [
       "[2.9997837619781493, 0.5800000233650208]"
      ]
     },
     "execution_count": 18,
     "metadata": {},
     "output_type": "execute_result"
    }
   ],
   "source": [
    "learn.fit(lrs, n_cycle=1, cycle_len=1, use_clr=(10, 5), cycle_save_name=\"1_resnet50\")"
   ]
  },
  {
   "cell_type": "code",
   "execution_count": 19,
   "metadata": {},
   "outputs": [
    {
     "data": {
      "application/vnd.jupyter.widget-view+json": {
       "model_id": "1c4d24dc767841c8a68cc7634a2b0f89",
       "version_major": 2,
       "version_minor": 0
      },
      "text/plain": [
       "HBox(children=(IntProgress(value=0, description='Epoch', max=3, style=ProgressStyle(description_width='initial…"
      ]
     },
     "metadata": {},
     "output_type": "display_data"
    },
    {
     "name": "stdout",
     "output_type": "stream",
     "text": [
      "epoch      trn_loss   val_loss   accuracy                   \n",
      "    0      4.495872   2.825029   0.604     \n",
      "    1      3.702984   1.87126    0.717                      \n",
      "    2      2.873236   1.120982   0.811                      \n",
      "\n"
     ]
    },
    {
     "data": {
      "text/plain": [
       "[1.1209816703796387, 0.8110000123977661]"
      ]
     },
     "execution_count": 19,
     "metadata": {},
     "output_type": "execute_result"
    }
   ],
   "source": [
    "learn.fit(lrs, n_cycle=3, cycle_len=1, use_clr=(10, 5), cycle_save_name=\"2_resnet50\")"
   ]
  },
  {
   "cell_type": "code",
   "execution_count": 20,
   "metadata": {},
   "outputs": [
    {
     "data": {
      "application/vnd.jupyter.widget-view+json": {
       "model_id": "",
       "version_major": 2,
       "version_minor": 0
      },
      "text/plain": [
       "HBox(children=(IntProgress(value=0, description='Epoch', max=3, style=ProgressStyle(description_width='initial…"
      ]
     },
     "metadata": {},
     "output_type": "display_data"
    },
    {
     "name": "stdout",
     "output_type": "stream",
     "text": [
      "epoch      trn_loss   val_loss   accuracy                   \n",
      "    0      3.434063   1.666347   0.741     \n",
      "    1      2.788105   1.049749   0.833                      \n",
      "    2      2.14814    0.571867   0.892                      \n",
      "\n"
     ]
    },
    {
     "data": {
      "text/plain": [
       "[0.5718671827316284, 0.8920000147819519]"
      ]
     },
     "execution_count": 20,
     "metadata": {},
     "output_type": "execute_result"
    }
   ],
   "source": [
    "learn.fit(lrs, n_cycle=3, cycle_len=1, use_clr=(10, 5), cycle_save_name=\"3_resnet50\")"
   ]
  },
  {
   "cell_type": "code",
   "execution_count": 21,
   "metadata": {},
   "outputs": [
    {
     "data": {
      "application/vnd.jupyter.widget-view+json": {
       "model_id": "",
       "version_major": 2,
       "version_minor": 0
      },
      "text/plain": [
       "HBox(children=(IntProgress(value=0, description='Epoch', max=6, style=ProgressStyle(description_width='initial…"
      ]
     },
     "metadata": {},
     "output_type": "display_data"
    },
    {
     "name": "stdout",
     "output_type": "stream",
     "text": [
      "epoch      trn_loss   val_loss   accuracy                   \n",
      "    0      2.956882   1.012938   0.836     \n",
      "    1      1.88819    0.522162   0.899                      \n",
      "    2      1.930236   0.381375   0.913                      \n",
      "    3      0.955006   0.110373   0.976                       \n",
      "    4      1.051642   0.116775   0.966                       \n",
      "    5      0.538573   0.020373   0.999                       \n",
      "\n"
     ]
    },
    {
     "data": {
      "text/plain": [
       "[0.02037325496226549, 0.9990000038146972]"
      ]
     },
     "execution_count": 21,
     "metadata": {},
     "output_type": "execute_result"
    }
   ],
   "source": [
    "learn.fit(lrs, n_cycle=3, cycle_len=2, use_clr=(10, 5), cycle_save_name=\"4_resnet50\")"
   ]
  },
  {
   "cell_type": "code",
   "execution_count": 23,
   "metadata": {},
   "outputs": [
    {
     "name": "stdout",
     "output_type": "stream",
     "text": [
      "                                                           \r"
     ]
    }
   ],
   "source": [
    "preds_t,y_t = learn.TTA(is_test=True,n_aug=8)\n",
    "preds_t = np.stack(preds_t, axis=-1)\n",
    "preds_t = np.exp(preds_t)\n",
    "preds_t = preds_t.mean(axis=-1)"
   ]
  },
  {
   "cell_type": "code",
   "execution_count": 24,
   "metadata": {},
   "outputs": [
    {
     "data": {
      "text/html": [
       "<div>\n",
       "<style scoped>\n",
       "    .dataframe tbody tr th:only-of-type {\n",
       "        vertical-align: middle;\n",
       "    }\n",
       "\n",
       "    .dataframe tbody tr th {\n",
       "        vertical-align: top;\n",
       "    }\n",
       "\n",
       "    .dataframe thead th {\n",
       "        text-align: right;\n",
       "    }\n",
       "</style>\n",
       "<table border=\"1\" class=\"dataframe\">\n",
       "  <thead>\n",
       "    <tr style=\"text-align: right;\">\n",
       "      <th></th>\n",
       "      <th>Image</th>\n",
       "      <th>Id</th>\n",
       "    </tr>\n",
       "  </thead>\n",
       "  <tbody>\n",
       "    <tr>\n",
       "      <th>0</th>\n",
       "      <td>00028a005.jpg</td>\n",
       "      <td>new_whale w_dec7ffd w_69b5ace w_f442602 w_97d60b9</td>\n",
       "    </tr>\n",
       "    <tr>\n",
       "      <th>1</th>\n",
       "      <td>000dcf7d8.jpg</td>\n",
       "      <td>w_4132bb8 new_whale w_e3956f5 w_94f41dc w_3108dce</td>\n",
       "    </tr>\n",
       "    <tr>\n",
       "      <th>2</th>\n",
       "      <td>000e7c7df.jpg</td>\n",
       "      <td>new_whale w_a743e09 w_9ba4a9a w_b5e6c80 w_94c3bf0</td>\n",
       "    </tr>\n",
       "    <tr>\n",
       "      <th>3</th>\n",
       "      <td>0019c34f4.jpg</td>\n",
       "      <td>new_whale w_59052ad w_8b86b95 w_91b678a w_71fa596</td>\n",
       "    </tr>\n",
       "    <tr>\n",
       "      <th>4</th>\n",
       "      <td>001a4d292.jpg</td>\n",
       "      <td>new_whale w_9e18daa w_5688262 w_3ef0017 w_16c264e</td>\n",
       "    </tr>\n",
       "  </tbody>\n",
       "</table>\n",
       "</div>"
      ],
      "text/plain": [
       "           Image                                                 Id\n",
       "0  00028a005.jpg  new_whale w_dec7ffd w_69b5ace w_f442602 w_97d60b9\n",
       "1  000dcf7d8.jpg  w_4132bb8 new_whale w_e3956f5 w_94f41dc w_3108dce\n",
       "2  000e7c7df.jpg  new_whale w_a743e09 w_9ba4a9a w_b5e6c80 w_94c3bf0\n",
       "3  0019c34f4.jpg  new_whale w_59052ad w_8b86b95 w_91b678a w_71fa596\n",
       "4  001a4d292.jpg  new_whale w_9e18daa w_5688262 w_3ef0017 w_16c264e"
      ]
     },
     "execution_count": 24,
     "metadata": {},
     "output_type": "execute_result"
    }
   ],
   "source": [
    "sample_df = pd.read_csv(SAMPLE_SUB)\n",
    "sample_list = list(sample_df.Image)\n",
    "pred_list = [[labels_list[i] for i in p.argsort()[-5:][::-1]] for p in preds_t]\n",
    "pred_dic = dict((key, value) for (key, value) in zip(learn.data.test_ds.fnames,pred_list))\n",
    "pred_list_cor = [' '.join(pred_dic[id]) for id in sample_list]\n",
    "df = pd.DataFrame({'Image':sample_list,'Id': pred_list_cor})\n",
    "df.to_csv('submission_{}.csv'.format(MODEL_NAME), header=True, index=False)\n",
    "df.head()"
   ]
  },
  {
   "cell_type": "code",
   "execution_count": 25,
   "metadata": {},
   "outputs": [
    {
     "name": "stdout",
     "output_type": "stream",
     "text": [
      "fastai\t\t    submission1.csv\t     whales50.ipynb\r\n",
      "input\t\t    submission.csv\t     Whales-Copy1.ipynb\r\n",
      "learn_whales.ipynb  submission_Resnet50.csv  Whales.ipynb\r\n",
      "models\t\t    tmp\r\n"
     ]
    }
   ],
   "source": [
    "!ls"
   ]
  },
  {
   "cell_type": "code",
   "execution_count": 26,
   "metadata": {},
   "outputs": [
    {
     "name": "stdout",
     "output_type": "stream",
     "text": [
      "100%|█████████████████████████████████████████| 498k/498k [00:02<00:00, 200kB/s]\n",
      "Successfully submitted to Humpback Whale Identification"
     ]
    }
   ],
   "source": [
    "!kaggle competitions submit -c humpback-whale-identification -f \"submission_Resnet50.csv\" -m \"resnet50 no val sampling\""
   ]
  },
  {
   "cell_type": "code",
   "execution_count": 29,
   "metadata": {},
   "outputs": [
    {
     "name": "stdout",
     "output_type": "stream",
     "text": [
      "fileName                 date                 description               status    publicScore  privateScore  \r\n",
      "-----------------------  -------------------  ------------------------  --------  -----------  ------------  \r\n",
      "submission_Resnet50.csv  2018-12-06 12:30:39  resnet50 no val sampling  complete  0.587        None          \r\n",
      "submission1.csv          2018-12-04 19:40:43  second                    complete  0.362        None          \r\n",
      "submission.csv           2018-12-03 18:02:32  \"1st\"                     complete  0.324        None          \r\n"
     ]
    }
   ],
   "source": [
    "!kaggle competitions submissions humpback-whale-identification"
   ]
  },
  {
   "cell_type": "code",
   "execution_count": 31,
   "metadata": {},
   "outputs": [
    {
     "name": "stdout",
     "output_type": "stream",
     "text": [
      " teamId  teamName                      submissionDate       score  \r\n",
      "-------  ----------------------------  -------------------  -----  \r\n",
      "2471928  NPU-ASGO                      2018-12-06 01:11:36  0.889  \r\n",
      "2471984  Zihan Huang                   2018-12-05 09:22:39  0.826  \r\n",
      "2479830  pi-null-mezon                 2018-12-06 06:57:27  0.823  \r\n",
      "2466533  yvan                          2018-12-06 04:33:28  0.821  \r\n",
      "2486517  Philip                        2018-12-06 03:12:27  0.775  \r\n",
      "2471947  Yifei Yang                    2018-12-04 11:57:48  0.732  \r\n",
      "2473929  Orest Kupyn                   2018-12-05 18:09:27  0.719  \r\n",
      "2471589  Hansoluo                      2018-12-06 06:14:54  0.701  \r\n",
      "2468444  [ods.ai] Artem.Sanakoev       2018-12-06 04:27:23  0.695  \r\n",
      "2465705  YoungMin Ro                   2018-12-06 02:33:46  0.679  \r\n",
      "2483259  yao                           2018-12-05 11:06:27  0.640  \r\n",
      "2471819  Siarhei Fedartsou             2018-12-05 05:21:27  0.628  \r\n",
      "2475771  Chih Hao Ma                   2018-12-06 10:02:19  0.620  \r\n",
      "2467340  Alexander Teplyuk             2018-12-06 11:32:32  0.608  \r\n",
      "2471127  LiangdeLi                     2018-12-06 08:36:40  0.594  \r\n",
      "2484157  Hung Nguyen The               2018-12-06 10:08:50  0.592  \r\n",
      "2466797  Ankit Sati                    2018-12-06 02:52:59  0.590  \r\n",
      "2476732  Hoàng Tùng Lâm                2018-12-06 07:53:16  0.590  \r\n",
      "2474760  Matthew Anderson              2018-12-06 04:01:03  0.590  \r\n",
      "2466714  JGJP                          2018-12-06 06:39:54  0.590  \r\n",
      "2466330  Chandan Verma                 2018-12-06 05:47:37  0.590  \r\n",
      "2481021  zhengbin                      2018-12-06 10:54:33  0.590  \r\n",
      "2472808  lsfszyf                       2018-12-06 07:37:18  0.590  \r\n",
      "2469038  Patryk Binkowski              2018-12-06 07:49:02  0.590  \r\n",
      "2476916  ZeroCode3                     2018-12-06 07:51:11  0.590  \r\n",
      "2479706  Elisey Gusev                  2018-12-06 07:56:23  0.590  \r\n",
      "2466696  Arunkumar V Ramanan           2018-12-06 08:18:43  0.590  \r\n",
      "2470829  Vladimir Osin                 2018-12-06 08:31:17  0.590  \r\n",
      "2470218  [ods.ai] Konstantin Maksimov  2018-12-06 08:34:37  0.590  \r\n",
      "2472203  Saurabh Kumar                 2018-12-06 08:54:53  0.590  \r\n",
      "2493698  Sergeeva Sofiya               2018-12-06 09:30:54  0.590  \r\n",
      "2468788  KevinGarda                    2018-12-06 10:48:24  0.590  \r\n",
      "2467891  See--                         2018-12-06 10:51:26  0.590  \r\n",
      "2471655  Shubh                         2018-12-06 11:48:50  0.590  \r\n",
      "2468508  BingchenZhao                  2018-12-06 12:17:40  0.590  \r\n",
      "2478433  Alexandru Brie                2018-12-06 12:30:39  0.587  \r\n",
      "2467629  MSJose                        2018-12-05 01:55:53  0.584  \r\n",
      "2477676  zhh                           2018-12-06 06:51:19  0.574  \r\n",
      "2470027  Martin Bonardi                2018-12-06 01:34:08  0.573  \r\n",
      "2489029  ~桃子~                          2018-12-05 11:53:17  0.573  \r\n",
      "2471112  ZuoVJ                         2018-12-06 10:33:37  0.570  \r\n",
      "2486858  kyuer                         2018-12-06 08:21:31  0.562  \r\n",
      "2473964  🇻🇳 SAMI-HUST                  2018-12-06 10:06:36  0.558  \r\n",
      "2465676  Simon Moisselin               2018-12-05 08:42:30  0.557  \r\n",
      "2492629  大黑楼                           2018-12-06 11:00:07  0.556  \r\n",
      "2464955  Khoi Nguyen                   2018-12-06 10:26:39  0.549  \r\n",
      "2492919  Vladimir Savinov              2018-12-06 09:08:13  0.548  \r\n",
      "2466969  YH Lin                        2018-12-06 11:11:47  0.545  \r\n",
      "2471697  AnilPandey                    2018-12-06 06:33:41  0.544  \r\n",
      "2483945  Epochs of Fury                2018-12-06 12:16:59  0.539  \r\n"
     ]
    }
   ],
   "source": [
    "!kaggle competitions leaderboard --show humpback-whale-identification"
   ]
  }
 ],
 "metadata": {
  "kernelspec": {
   "display_name": "Python 3",
   "language": "python",
   "name": "python3"
  },
  "language_info": {
   "codemirror_mode": {
    "name": "ipython",
    "version": 3
   },
   "file_extension": ".py",
   "mimetype": "text/x-python",
   "name": "python",
   "nbconvert_exporter": "python",
   "pygments_lexer": "ipython3",
   "version": "3.6.6"
  }
 },
 "nbformat": 4,
 "nbformat_minor": 2
}
