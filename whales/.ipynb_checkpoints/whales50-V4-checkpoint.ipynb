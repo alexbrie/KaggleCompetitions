{
 "cells": [
  {
   "cell_type": "code",
   "execution_count": 2,
   "metadata": {
    "scrolled": true
   },
   "outputs": [
    {
     "name": "stderr",
     "output_type": "stream",
     "text": [
      "/home/ubuntu/src/anaconda3/envs/fastai/lib/python3.6/site-packages/sklearn/ensemble/weight_boosting.py:29: DeprecationWarning: numpy.core.umath_tests is an internal NumPy module and should not be imported. It will be removed in a future NumPy release.\n",
      "  from numpy.core.umath_tests import inner1d\n"
     ]
    }
   ],
   "source": [
    "from fastai.conv_learner import *\n",
    "from fastai.dataset import *\n",
    "from tqdm import tqdm\n",
    "import pandas as pd\n",
    "import numpy as np\n",
    "import os\n",
    "from sklearn.model_selection import train_test_split, StratifiedShuffleSplit\n",
    "import matplotlib.pyplot as plt\n",
    "import math\n"
   ]
  },
  {
   "cell_type": "code",
   "execution_count": 1,
   "metadata": {},
   "outputs": [],
   "source": [
    "MODEL_NAME = 'Resnet50'\n",
    "PATH  = \"./input\"\n",
    "TRAIN = f'{PATH}/train/'\n",
    "TEST = f'{PATH}/test/'\n",
    "LABELS = f'{PATH}/train.csv'\n",
    "SAMPLE_SUB = f'{PATH}/sample_submission.csv'\n",
    "BBOX = f'{PATH}/bboxes.csv'"
   ]
  },
  {
   "cell_type": "code",
   "execution_count": 3,
   "metadata": {},
   "outputs": [],
   "source": [
    "# Backbone architecture\n",
    "arch = resnet50\n",
    "# Number of workers for data preprocessing\n",
    "num_workers = 6"
   ]
  },
  {
   "cell_type": "code",
   "execution_count": 4,
   "metadata": {},
   "outputs": [
    {
     "name": "stdout",
     "output_type": "stream",
     "text": [
      "Number of classes: 5004\n"
     ]
    },
    {
     "name": "stderr",
     "output_type": "stream",
     "text": [
      "/home/ubuntu/src/anaconda3/envs/fastai/lib/python3.6/site-packages/pandas/core/generic.py:4405: SettingWithCopyWarning: \n",
      "A value is trying to be set on a copy of a slice from a DataFrame.\n",
      "Try using .loc[row_indexer,col_indexer] = value instead\n",
      "\n",
      "See the caveats in the documentation: http://pandas.pydata.org/pandas-docs/stable/indexing.html#indexing-view-versus-copy\n",
      "  self[name] = value\n"
     ]
    }
   ],
   "source": [
    "df = pd.read_csv(LABELS).set_index('Image')\n",
    "new_whale_df = df[df.Id == \"new_whale\"] # only new_whale dataset\n",
    "\n",
    "train_df = df[~(df.Id == \"new_whale\")] # no new_whale dataset, used for training\n",
    "unique_labels = np.unique(train_df.Id.values)\n",
    "\n",
    "labels_dict = dict()\n",
    "labels_list = []\n",
    "for i in range(len(unique_labels)):\n",
    "    labels_dict[unique_labels[i]] = i\n",
    "    labels_list.append(unique_labels[i])\n",
    "print(\"Number of classes: {}\".format(len(unique_labels)))\n",
    "train_names = train_df.index.values\n",
    "train_df.Id = train_df.Id.apply(lambda x: labels_dict[x])\n",
    "train_labels = np.asarray(train_df.Id.values)\n",
    "\n",
    "test_names = [f for f in os.listdir(TEST)]"
   ]
  },
  {
   "cell_type": "code",
   "execution_count": 5,
   "metadata": {
    "scrolled": true
   },
   "outputs": [
    {
     "name": "stdout",
     "output_type": "stream",
     "text": [
      "Count for class new_whale: 1\n"
     ]
    },
    {
     "data": {
      "image/png": "[encoded data removed]",
      "text/plain": [
       "<Figure size 1296x288 with 2 Axes>"
      ]
     },
     "metadata": {
      "needs_background": "light"
     },
     "output_type": "display_data"
    }
   ],
   "source": [
    "labels_count = train_df.Id.value_counts()\n",
    "\n",
    "plt.figure(figsize=(18, 4))\n",
    "plt.subplot(121)\n",
    "_, _,_ = plt.hist(labels_count.values)\n",
    "plt.ylabel(\"frequency\")\n",
    "plt.xlabel(\"class size\")\n",
    "\n",
    "plt.title('class distribution; log scale')\n",
    "labels_count.head()\n",
    "\n",
    "print(\"Count for class new_whale: {}\".format(labels_count[0]))\n",
    "plt.subplot(122)\n",
    "_ = plt.plot(labels_count[1:].values)\n",
    "plt.title('w/o class new_whale; log scale')\n",
    "plt.xlabel(\"class\")\n",
    "plt.ylabel(\"log(size)\")\n",
    "plt.gca().set_yscale('log')"
   ]
  },
  {
   "cell_type": "code",
   "execution_count": 15,
   "metadata": {
    "scrolled": true
   },
   "outputs": [
    {
     "name": "stdout",
     "output_type": "stream",
     "text": [
      "Train/val: 15697 1000\n",
      "Train classes 5004\n",
      "Val classes 819\n"
     ]
    },
    {
     "name": "stderr",
     "output_type": "stream",
     "text": [
      "/home/ubuntu/src/anaconda3/envs/fastai/lib/python3.6/site-packages/ipykernel_launcher.py:1: SettingWithCopyWarning: \n",
      "A value is trying to be set on a copy of a slice from a DataFrame.\n",
      "Try using .loc[row_indexer,col_indexer] = value instead\n",
      "\n",
      "See the caveats in the documentation: http://pandas.pydata.org/pandas-docs/stable/indexing.html#indexing-view-versus-copy\n",
      "  \"\"\"Entry point for launching an IPython kernel.\n"
     ]
    }
   ],
   "source": [
    "train_df['image_name'] = train_df.index\n",
    "bbox_df = pd.read_csv(BBOX).set_index('Image')\n",
    "\n",
    "rs = np.random.RandomState(42) # set random seed to be equal to the sense of life\n",
    "perm = rs.permutation(len(train_df))\n",
    "\n",
    "tr_n = train_df['image_name'].values\n",
    "# Yes, we will validate on the subset of training data\n",
    "val_n = train_df['image_name'].values[perm][:1000]\n",
    "\n",
    "print('Train/val:', len(tr_n), len(val_n))\n",
    "print('Train classes', len(train_df.loc[tr_n].Id.unique()))\n",
    "print('Val classes', len(train_df.loc[val_n].Id.unique()))"
   ]
  },
  {
   "cell_type": "code",
   "execution_count": 7,
   "metadata": {},
   "outputs": [],
   "source": [
    "class HWIDataset(FilesDataset):\n",
    "    def __init__(self, fnames, path, transform):\n",
    "        self.train_df = train_df\n",
    "        super().__init__(fnames, transform, path)\n",
    "\n",
    "    def get_x(self, i):\n",
    "        img = open_image(os.path.join(self.path, self.fnames[i]))\n",
    "        img = cv2.resize(img, (self.sz, self.sz))\n",
    "        return img\n",
    "\n",
    "    def get_y(self, i):\n",
    "        if (self.path == TEST): return 0\n",
    "        return self.train_df.loc[self.fnames[i]]['Id']\n",
    "\n",
    "    def get_c(self):\n",
    "        return len(unique_labels)"
   ]
  },
  {
   "cell_type": "code",
   "execution_count": 8,
   "metadata": {},
   "outputs": [],
   "source": [
    "class HWIDataset1(FilesDataset):\n",
    "    def __init__(self, fnames, path, transform):\n",
    "        self.train_df = train_df\n",
    "        super().__init__(fnames, transform, path)\n",
    "\n",
    "    def get_x(self, i):\n",
    "        img = open_image(os.path.join(self.path, self.fnames[i]))\n",
    "        bbox = bbox_df.loc[self.fnames[i]]\n",
    "        x0, y0, x1, y1 = bbox['x0'], bbox['y0'], bbox['x1'],  bbox['y1']\n",
    "        if not (x0 >= x1 or y0 >= y1):\n",
    "            img = img[y0:y1, x0:x1,:]\n",
    "        img = cv2.resize(img, (self.sz, self.sz))\n",
    "        return img\n",
    "\n",
    "    def get_y(self, i):\n",
    "        if (self.path == TEST): return 0\n",
    "        return self.train_df.loc[self.fnames[i]]['Id']\n",
    "\n",
    "    def get_c(self):\n",
    "        return len(unique_labels)\n",
    "\n"
   ]
  },
  {
   "cell_type": "code",
   "execution_count": 9,
   "metadata": {},
   "outputs": [],
   "source": [
    "def get_data(sz, batch_size):\n",
    "    \"\"\"\n",
    "    Read data and do augmentations\n",
    "    \"\"\"\n",
    "    aug_tfms = [RandomRotateZoom(deg=20, zoom=2, stretch=1),\n",
    "                RandomLighting(0.2, 0.2, tfm_y=TfmType.NO),\n",
    "                RandomBlur(blur_strengths=3,tfm_y=TfmType.NO),\n",
    "                RandomFlip(tfm_y=TfmType.NO)]\n",
    "    tfms = tfms_from_model(arch, sz, crop_type=CropType.NO, tfm_y=TfmType.NO,\n",
    "                           aug_tfms=aug_tfms)\n",
    "    ds = ImageData.get_ds(HWIDataset1, (tr_n[:-(len(tr_n) % batch_size)], TRAIN),\n",
    "                          (val_n, TRAIN), tfms, test=(test_names, TEST))\n",
    "    md = ImageData(\"./\", ds, batch_size, num_workers=num_workers, classes=None)\n",
    "    return md"
   ]
  },
  {
   "cell_type": "code",
   "execution_count": 9,
   "metadata": {},
   "outputs": [
    {
     "name": "stdout",
     "output_type": "stream",
     "text": [
      "10_resnet19_im_4_20_10_cyc_0.h5  3_resnet50_cyc_2.h5\r\n",
      "11_resnet19_im_4_20_10_cyc_0.h5  4_resnet19_im_4_20_10_cyc_0.h5\r\n",
      "12_resnet19_im_4_20_10_cyc_0.h5  4_resnet50_cyc_0.h5\r\n",
      "12_resnet19_im_4_20_10_cyc_1.h5  4_resnet50_cyc_1.h5\r\n",
      "1_resnet50_2_cyc_0.h5\t\t 4_resnet50_cyc_2.h5\r\n",
      "1_resnet50_cyc_0.h5\t\t 5_resnet19_im_4_20_10_cyc_0.h5\r\n",
      "1_resnet53_cyc_0.h5\t\t 6_resnet19_im_4_20_10_cyc_0.h5\r\n",
      "1_resnet53_cyc_1.h5\t\t 7_resnet19_im_4_20_10_cyc_0.h5\r\n",
      "1_resnet53_cyc_2.h5\t\t 8_resnet19_im_4_20_10_cyc_0.h5\r\n",
      "2_resnet34_1_10_5_cyc_0.h5\t 9_resnet19_im_4_20_10_cyc_0.h5\r\n",
      "2_resnet34_2_10_5_cyc_0.h5\t acc_0_30_tta_subm1.h5\r\n",
      "2_resnet50_2_cyc_0.h5\t\t d3_resnet19_im_4_10_5_cyc_0.h5\r\n",
      "2_resnet50_2_cyc_1.h5\t\t first_trainings.h5\r\n",
      "2_resnet50_2_cyc_2.h5\t\t resnet19_1_20_16.h5\r\n",
      "2_resnet50_cyc_0.h5\t\t resnet19_im_4_20_16_2_cyc_0.h5\r\n",
      "2_resnet50_cyc_1.h5\t\t resnet19_im_4_20_16_cyc_0.h5\r\n",
      "2_resnet50_cyc_2.h5\t\t resnet19_im_4_20_16_cyc_1.h5\r\n",
      "34_fit_2.h5\t\t\t rn34_im_2_10_5_2_cyc_0.h5\r\n",
      "3_resnet19_im_4_20_10_cyc_0.h5\t rn34_im_2_10_5_3_cyc_0.h5\r\n",
      "3_resnet50_2_cyc_0.h5\t\t rn34_im_2_10_5_cyc_0.h5\r\n",
      "3_resnet50_2_cyc_1.h5\t\t subm1_resnet50_2.h5\r\n",
      "3_resnet50_cyc_0.h5\t\t tmp.h5\r\n",
      "3_resnet50_cyc_1.h5\t\t weird_loss.h5\r\n"
     ]
    }
   ],
   "source": [
    "!ls models"
   ]
  },
  {
   "cell_type": "code",
   "execution_count": 18,
   "metadata": {},
   "outputs": [],
   "source": [
    "image_size = 224\n",
    "batch_size = 96\n",
    "md = get_data(image_size, batch_size)\n",
    "extra_fc_layers_size = []\n",
    "learn = ConvLearner.pretrained(arch, md, xtra_fc=extra_fc_layers_size) \n",
    "learn.opt_fn = optim.Adam"
   ]
  },
  {
   "cell_type": "code",
   "execution_count": 11,
   "metadata": {},
   "outputs": [
    {
     "name": "stdout",
     "output_type": "stream",
     "text": [
      "Number of layer groups: 3 \t(first 2 groups is pretrained backbone)\n",
      "This is our extra thin on top of the backbone Resnet50 architecture:\n"
     ]
    },
    {
     "data": {
      "text/plain": [
       "Sequential(\n",
       "  (0): BatchNorm1d(4096, eps=1e-05, momentum=0.1, affine=True, track_running_stats=True)\n",
       "  (1): Dropout(p=0.5)\n",
       "  (2): Linear(in_features=4096, out_features=5004, bias=True)\n",
       "  (3): LogSoftmax()\n",
       ")"
      ]
     },
     "execution_count": 11,
     "metadata": {},
     "output_type": "execute_result"
    }
   ],
   "source": [
    "print('Number of layer groups:', len(learn.get_layer_groups()), '\\t(first 2 groups is pretrained backbone)')\n",
    "print('This is our extra thin on top of the backbone Resnet50 architecture:')\n",
    "learn.get_layer_groups()[2]"
   ]
  },
  {
   "cell_type": "code",
   "execution_count": 10,
   "metadata": {},
   "outputs": [
    {
     "name": "stdout",
     "output_type": "stream",
     "text": [
      "10_resnet19_im_4_20_10_cyc_0.h5  3_resnet50_cyc_2.h5\r\n",
      "11_resnet19_im_4_20_10_cyc_0.h5  4_resnet19_im_4_20_10_cyc_0.h5\r\n",
      "12_resnet19_im_4_20_10_cyc_0.h5  4_resnet50_cyc_0.h5\r\n",
      "12_resnet19_im_4_20_10_cyc_1.h5  4_resnet50_cyc_1.h5\r\n",
      "1_resnet50_2_cyc_0.h5\t\t 4_resnet50_cyc_2.h5\r\n",
      "1_resnet50_cyc_0.h5\t\t 5_resnet19_im_4_20_10_cyc_0.h5\r\n",
      "1_resnet53_cyc_0.h5\t\t 6_resnet19_im_4_20_10_cyc_0.h5\r\n",
      "1_resnet53_cyc_1.h5\t\t 7_resnet19_im_4_20_10_cyc_0.h5\r\n",
      "1_resnet53_cyc_2_new1.h5\t 8_resnet19_im_4_20_10_cyc_0.h5\r\n",
      "1_resnet53_cyc_2_orig.h5\t 9_resnet19_im_4_20_10_cyc_0.h5\r\n",
      "2_resnet34_1_10_5_cyc_0.h5\t acc_0_30_tta_subm1.h5\r\n",
      "2_resnet34_2_10_5_cyc_0.h5\t d3_resnet19_im_4_10_5_cyc_0.h5\r\n",
      "2_resnet50_2_cyc_0.h5\t\t first_trainings.h5\r\n",
      "2_resnet50_2_cyc_1.h5\t\t resnet19_1_20_16.h5\r\n",
      "2_resnet50_2_cyc_2.h5\t\t resnet19_im_4_20_16_2_cyc_0.h5\r\n",
      "2_resnet50_cyc_0.h5\t\t resnet19_im_4_20_16_cyc_0.h5\r\n",
      "2_resnet50_cyc_1.h5\t\t resnet19_im_4_20_16_cyc_1.h5\r\n",
      "2_resnet50_cyc_2.h5\t\t rn34_im_2_10_5_2_cyc_0.h5\r\n",
      "34_fit_2.h5\t\t\t rn34_im_2_10_5_3_cyc_0.h5\r\n",
      "3_resnet19_im_4_20_10_cyc_0.h5\t rn34_im_2_10_5_cyc_0.h5\r\n",
      "3_resnet50_2_cyc_0.h5\t\t subm1_resnet50_2.h5\r\n",
      "3_resnet50_2_cyc_1.h5\t\t tmp.h5\r\n",
      "3_resnet50_cyc_0.h5\t\t weird_loss.h5\r\n",
      "3_resnet50_cyc_1.h5\r\n"
     ]
    }
   ],
   "source": [
    "!ls \"models\""
   ]
  },
  {
   "cell_type": "markdown",
   "metadata": {},
   "source": [
    "learn.load(\"1_resnet53_cyc_2_orig\")"
   ]
  },
  {
   "cell_type": "code",
   "execution_count": 19,
   "metadata": {},
   "outputs": [
    {
     "data": {
      "application/vnd.jupyter.widget-view+json": {
       "model_id": "4e71f8ba1d9c492ba37fb2d564ad598a",
       "version_major": 2,
       "version_minor": 0
      },
      "text/plain": [
       "HBox(children=(IntProgress(value=0, description='Epoch', max=2, style=ProgressStyle(description_width='initial…"
      ]
     },
     "metadata": {},
     "output_type": "display_data"
    },
    {
     "name": "stdout",
     "output_type": "stream",
     "text": [
      "epoch      trn_loss   val_loss   accuracy                   \n",
      "    0      7.921878   5.958249   0.141     \n",
      "    1      6.783223   4.133805   0.348                      \n"
     ]
    },
    {
     "data": {
      "text/plain": [
       "[4.133804647445679, 0.34800001311302187]"
      ]
     },
     "execution_count": 19,
     "metadata": {},
     "output_type": "execute_result"
    }
   ],
   "source": [
    "base_lr = 1e-4 # lr for the backbone\n",
    "fc_lr = 1e-3 # lr for the classifer\n",
    "\n",
    "lrs = [base_lr, base_lr, fc_lr]\n",
    "# Freeze backbone and train the classifier for 2 epochs\n",
    "learn.fit(lrs=lrs, n_cycle=2, cycle_len=None)\n"
   ]
  },
  {
   "cell_type": "code",
   "execution_count": 20,
   "metadata": {},
   "outputs": [],
   "source": [
    "image_size = 384\n",
    "batch_size = 32\n",
    "md = get_data(image_size, batch_size)\n",
    "learn.set_data(md)"
   ]
  },
  {
   "cell_type": "code",
   "execution_count": 21,
   "metadata": {},
   "outputs": [
    {
     "data": {
      "application/vnd.jupyter.widget-view+json": {
       "model_id": "cfe86cba3b4e47cfa35c3edfd335ef0f",
       "version_major": 2,
       "version_minor": 0
      },
      "text/plain": [
       "HBox(children=(IntProgress(value=0, description='Epoch', max=2, style=ProgressStyle(description_width='initial…"
      ]
     },
     "metadata": {},
     "output_type": "display_data"
    },
    {
     "name": "stdout",
     "output_type": "stream",
     "text": [
      "epoch      trn_loss   val_loss   accuracy                   \n",
      "    0      7.361127   4.610442   0.299     \n",
      "    1      6.326503   2.764786   0.526                      \n"
     ]
    },
    {
     "data": {
      "text/plain": [
       "[2.764785575866699, 0.526]"
      ]
     },
     "execution_count": 21,
     "metadata": {},
     "output_type": "execute_result"
    }
   ],
   "source": [
    "base_lr = 1e-4 # lr for the backbone\n",
    "fc_lr = 1e-3 # lr for the classifer\n",
    "\n",
    "lrs = [base_lr, base_lr, fc_lr]\n",
    "# Freeze backbone and train the classifier for 2 epochs\n",
    "learn.fit(lrs=lrs, n_cycle=2, cycle_len=None)\n"
   ]
  },
  {
   "cell_type": "code",
   "execution_count": null,
   "metadata": {},
   "outputs": [
    {
     "data": {
      "application/vnd.jupyter.widget-view+json": {
       "model_id": "fb3b8a5fdd9c4df9b16292c3bc339056",
       "version_major": 2,
       "version_minor": 0
      },
      "text/plain": [
       "HBox(children=(IntProgress(value=0, description='Epoch', max=6, style=ProgressStyle(description_width='initial…"
      ]
     },
     "metadata": {},
     "output_type": "display_data"
    },
    {
     "name": "stdout",
     "output_type": "stream",
     "text": [
      "epoch      trn_loss   val_loss   accuracy                   \n",
      "    0      5.849788   2.992251   0.55      \n",
      "    1      4.00602    1.572949   0.769                      \n",
      "    2      3.807507   0.956489   0.845                      \n",
      "    3      1.810677   0.29039    0.95                       \n",
      "    4      2.044308   0.172337   0.965                      \n",
      " 62%|██████▏   | 305/490 [10:52<06:57,  2.26s/it, loss=0.821]"
     ]
    }
   ],
   "source": [
    "# Unfreeze backbone and continue training for 9 epochs\n",
    "learn.unfreeze()\n",
    "learn.fit(lrs, n_cycle=3, cycle_len=2, use_clr=(10, 5), cycle_save_name=\"1_resnet54\")"
   ]
  },
  {
   "cell_type": "markdown",
   "metadata": {},
   "source": [
    "base_lr = 1e-4 # lr for the backbone\n",
    "fc_lr = 1e-3 # lr for the classifer\n",
    "\n",
    "lrs = [base_lr, base_lr, fc_lr]"
   ]
  },
  {
   "cell_type": "markdown",
   "metadata": {},
   "source": [
    "# Unfreeze backbone and continue training for 9 epochs\n",
    "learn.unfreeze()\n",
    "learn.fit(lrs, n_cycle=3, cycle_len=2, use_clr=(10, 5), cycle_save_name=\"1_resnet53\")"
   ]
  },
  {
   "cell_type": "code",
   "execution_count": 17,
   "metadata": {},
   "outputs": [],
   "source": [
    "best_th = 0.38"
   ]
  },
  {
   "cell_type": "code",
   "execution_count": 18,
   "metadata": {},
   "outputs": [
    {
     "name": "stdout",
     "output_type": "stream",
     "text": [
      "                                             \r"
     ]
    }
   ],
   "source": [
    "preds_t,y_t = learn.TTA(is_test=True,n_aug=8)\n",
    "preds_t = np.stack(preds_t, axis=-1)\n",
    "preds_t = np.exp(preds_t)\n",
    "preds_t = preds_t.mean(axis=-1)\n",
    "preds_t = np.concatenate([np.zeros((preds_t.shape[0],1))+best_th, preds_t],axis=1)"
   ]
  },
  {
   "cell_type": "code",
   "execution_count": 19,
   "metadata": {},
   "outputs": [
    {
     "data": {
      "text/html": [
       "<div>\n",
       "<style scoped>\n",
       "    .dataframe tbody tr th:only-of-type {\n",
       "        vertical-align: middle;\n",
       "    }\n",
       "\n",
       "    .dataframe tbody tr th {\n",
       "        vertical-align: top;\n",
       "    }\n",
       "\n",
       "    .dataframe thead th {\n",
       "        text-align: right;\n",
       "    }\n",
       "</style>\n",
       "<table border=\"1\" class=\"dataframe\">\n",
       "  <thead>\n",
       "    <tr style=\"text-align: right;\">\n",
       "      <th></th>\n",
       "      <th>Image</th>\n",
       "      <th>Id</th>\n",
       "    </tr>\n",
       "  </thead>\n",
       "  <tbody>\n",
       "    <tr>\n",
       "      <th>0</th>\n",
       "      <td>00028a005.jpg</td>\n",
       "      <td>w_bb2c919 new_whale w_dec7ffd w_04003e9 w_f5bf6df</td>\n",
       "    </tr>\n",
       "    <tr>\n",
       "      <th>1</th>\n",
       "      <td>000dcf7d8.jpg</td>\n",
       "      <td>w_4132bb8 new_whale w_e3956f5 w_030e2cf w_adedd1f</td>\n",
       "    </tr>\n",
       "    <tr>\n",
       "      <th>2</th>\n",
       "      <td>000e7c7df.jpg</td>\n",
       "      <td>w_a743e09 new_whale w_4c218b5 w_c3bed1a w_b44e89d</td>\n",
       "    </tr>\n",
       "    <tr>\n",
       "      <th>3</th>\n",
       "      <td>0019c34f4.jpg</td>\n",
       "      <td>w_9c506f6 new_whale w_59052ad w_8b86b95 w_f8511e9</td>\n",
       "    </tr>\n",
       "    <tr>\n",
       "      <th>4</th>\n",
       "      <td>001a4d292.jpg</td>\n",
       "      <td>new_whale w_9e18daa w_c20b4e0 w_9712235 w_92ac4b2</td>\n",
       "    </tr>\n",
       "  </tbody>\n",
       "</table>\n",
       "</div>"
      ],
      "text/plain": [
       "           Image                                                 Id\n",
       "0  00028a005.jpg  w_bb2c919 new_whale w_dec7ffd w_04003e9 w_f5bf6df\n",
       "1  000dcf7d8.jpg  w_4132bb8 new_whale w_e3956f5 w_030e2cf w_adedd1f\n",
       "2  000e7c7df.jpg  w_a743e09 new_whale w_4c218b5 w_c3bed1a w_b44e89d\n",
       "3  0019c34f4.jpg  w_9c506f6 new_whale w_59052ad w_8b86b95 w_f8511e9\n",
       "4  001a4d292.jpg  new_whale w_9e18daa w_c20b4e0 w_9712235 w_92ac4b2"
      ]
     },
     "execution_count": 19,
     "metadata": {},
     "output_type": "execute_result"
    }
   ],
   "source": [
    "sample_df = pd.read_csv(SAMPLE_SUB)\n",
    "sample_list = list(sample_df.Image)\n",
    "labels_list = [\"new_whale\"]+labels_list\n",
    "pred_list = [[labels_list[i] for i in p.argsort()[-5:][::-1]] for p in preds_t]\n",
    "pred_dic = dict((key, value) for (key, value) in zip(learn.data.test_ds.fnames,pred_list))\n",
    "pred_list_cor = [' '.join(pred_dic[id]) for id in sample_list]\n",
    "df = pd.DataFrame({'Image':sample_list,'Id': pred_list_cor})\n",
    "df.to_csv('submission_{}.csv'.format(MODEL_NAME), header=True, index=False)\n",
    "df.head()"
   ]
  },
  {
   "cell_type": "code",
   "execution_count": 20,
   "metadata": {},
   "outputs": [
    {
     "name": "stdout",
     "output_type": "stream",
     "text": [
      "fastai\t\t    submission.csv\t     whales50-V2.ipynb\r\n",
      "input\t\t    submission_Resnet50.csv  whales50-V3.ipynb\r\n",
      "learn_whales.ipynb  submission_rn_2.csv      Whales-Copy1.ipynb\r\n",
      "models\t\t    tmp\t\t\t     Whales.ipynb\r\n",
      "submission1.csv     whales50.ipynb\r\n"
     ]
    }
   ],
   "source": [
    "!ls"
   ]
  },
  {
   "cell_type": "code",
   "execution_count": 21,
   "metadata": {},
   "outputs": [
    {
     "name": "stdout",
     "output_type": "stream",
     "text": [
      "100%|█████████████████████████████████████████| 498k/498k [00:02<00:00, 197kB/s]\n",
      "Successfully submitted to Humpback Whale Identification"
     ]
    }
   ],
   "source": [
    "!kaggle competitions submit -c humpback-whale-identification -f \"submission_Resnet50.csv\" -m \"resnet50 v3 train no whale, threshold\""
   ]
  }
 ],
 "metadata": {
  "kernelspec": {
   "display_name": "Python 3",
   "language": "python",
   "name": "python3"
  },
  "language_info": {
   "codemirror_mode": {
    "name": "ipython",
    "version": 3
   },
   "file_extension": ".py",
   "mimetype": "text/x-python",
   "name": "python",
   "nbconvert_exporter": "python",
   "pygments_lexer": "ipython3",
   "version": "3.6.6"
  }
 },
 "nbformat": 4,
 "nbformat_minor": 2
}
