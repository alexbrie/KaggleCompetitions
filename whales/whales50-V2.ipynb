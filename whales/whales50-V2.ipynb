{
 "cells": [
  {
   "cell_type": "code",
   "execution_count": 1,
   "metadata": {},
   "outputs": [
    {
     "name": "stderr",
     "output_type": "stream",
     "text": [
      "/home/ubuntu/src/anaconda3/envs/fastai/lib/python3.6/site-packages/sklearn/ensemble/weight_boosting.py:29: DeprecationWarning: numpy.core.umath_tests is an internal NumPy module and should not be imported. It will be removed in a future NumPy release.\n",
      "  from numpy.core.umath_tests import inner1d\n"
     ]
    }
   ],
   "source": [
    "from fastai.conv_learner import *\n",
    "from fastai.dataset import *\n",
    "from tqdm import tqdm\n",
    "import pandas as pd\n",
    "import numpy as np\n",
    "import os\n",
    "from sklearn.model_selection import train_test_split, StratifiedShuffleSplit\n",
    "import matplotlib.pyplot as plt\n",
    "import math\n"
   ]
  },
  {
   "cell_type": "code",
   "execution_count": 2,
   "metadata": {},
   "outputs": [],
   "source": [
    "MODEL_NAME = 'Resnet50'\n",
    "PATH  = \"./input\"\n",
    "TRAIN = f'{PATH}/train/'\n",
    "TEST = f'{PATH}/test/'\n",
    "LABELS = f'{PATH}/train.csv'\n",
    "SAMPLE_SUB = f'{PATH}/sample_submission.csv'"
   ]
  },
  {
   "cell_type": "code",
   "execution_count": 3,
   "metadata": {},
   "outputs": [],
   "source": [
    "# Backbone architecture\n",
    "arch = resnet50\n",
    "# Number of workers for data preprocessing\n",
    "num_workers = 6"
   ]
  },
  {
   "cell_type": "code",
   "execution_count": 4,
   "metadata": {},
   "outputs": [
    {
     "name": "stdout",
     "output_type": "stream",
     "text": [
      "Number of classes: 5004\n"
     ]
    },
    {
     "name": "stderr",
     "output_type": "stream",
     "text": [
      "/home/ubuntu/src/anaconda3/envs/fastai/lib/python3.6/site-packages/pandas/core/generic.py:4405: SettingWithCopyWarning: \n",
      "A value is trying to be set on a copy of a slice from a DataFrame.\n",
      "Try using .loc[row_indexer,col_indexer] = value instead\n",
      "\n",
      "See the caveats in the documentation: http://pandas.pydata.org/pandas-docs/stable/indexing.html#indexing-view-versus-copy\n",
      "  self[name] = value\n"
     ]
    }
   ],
   "source": [
    "df = pd.read_csv(LABELS).set_index('Image')\n",
    "new_whale_df = df[df.Id == \"new_whale\"] # only new_whale dataset\n",
    "\n",
    "train_df = df[~(df.Id == \"new_whale\")] # no new_whale dataset, used for training\n",
    "unique_labels = np.unique(train_df.Id.values)\n",
    "\n",
    "labels_dict = dict()\n",
    "labels_list = []\n",
    "for i in range(len(unique_labels)):\n",
    "    labels_dict[unique_labels[i]] = i\n",
    "    labels_list.append(unique_labels[i])\n",
    "print(\"Number of classes: {}\".format(len(unique_labels)))\n",
    "train_names = train_df.index.values\n",
    "train_df.Id = train_df.Id.apply(lambda x: labels_dict[x])\n",
    "train_labels = np.asarray(train_df.Id.values)\n",
    "\n",
    "test_names = [f for f in os.listdir(TEST)]"
   ]
  },
  {
   "cell_type": "code",
   "execution_count": 5,
   "metadata": {},
   "outputs": [
    {
     "name": "stdout",
     "output_type": "stream",
     "text": [
      "Count for class new_whale: 1\n"
     ]
    },
    {
     "data": {
      "image/png": "[encoded data removed]",
      "text/plain": [
       "<Figure size 1296x288 with 2 Axes>"
      ]
     },
     "metadata": {
      "needs_background": "light"
     },
     "output_type": "display_data"
    }
   ],
   "source": [
    "labels_count = train_df.Id.value_counts()\n",
    "\n",
    "plt.figure(figsize=(18, 4))\n",
    "plt.subplot(121)\n",
    "_, _,_ = plt.hist(labels_count.values)\n",
    "plt.ylabel(\"frequency\")\n",
    "plt.xlabel(\"class size\")\n",
    "\n",
    "plt.title('class distribution; log scale')\n",
    "labels_count.head()\n",
    "\n",
    "print(\"Count for class new_whale: {}\".format(labels_count[0]))\n",
    "plt.subplot(122)\n",
    "_ = plt.plot(labels_count[1:].values)\n",
    "plt.title('w/o class new_whale; log scale')\n",
    "plt.xlabel(\"class\")\n",
    "plt.ylabel(\"log(size)\")\n",
    "plt.gca().set_yscale('log')"
   ]
  },
  {
   "cell_type": "code",
   "execution_count": 6,
   "metadata": {},
   "outputs": [
    {
     "data": {
      "text/plain": [
       "31925"
      ]
     },
     "execution_count": 6,
     "metadata": {},
     "output_type": "execute_result"
    }
   ],
   "source": [
    "dup = []\n",
    "for idx,row in train_df.iterrows():\n",
    "    if labels_count[row['Id']] < 5:\n",
    "        dup.extend([idx]*math.ceil((5 - labels_count[row['Id']])/labels_count[row['Id']]))\n",
    "train_names = np.concatenate([train_names, dup])\n",
    "train_names = train_names[np.random.RandomState(seed=42).permutation(train_names.shape[0])]\n",
    "len(train_names)"
   ]
  },
  {
   "cell_type": "code",
   "execution_count": 7,
   "metadata": {},
   "outputs": [
    {
     "name": "stdout",
     "output_type": "stream",
     "text": [
      "25540 6385\n"
     ]
    }
   ],
   "source": [
    "sss = StratifiedShuffleSplit(n_splits=1, test_size=0.2, random_state=42069)\n",
    "for train_idx, val_idx in sss.split(train_names, np.zeros(train_names.shape)):\n",
    "    tr_n, val_n = train_names[train_idx], train_names[val_idx]\n",
    "print(len(tr_n), len(val_n))"
   ]
  },
  {
   "cell_type": "code",
   "execution_count": 8,
   "metadata": {},
   "outputs": [],
   "source": [
    "class HWIDataset(FilesDataset):\n",
    "    def __init__(self, fnames, path, transform):\n",
    "        self.train_df = train_df\n",
    "        super().__init__(fnames, transform, path)\n",
    "\n",
    "    def get_x(self, i):\n",
    "        img = open_image(os.path.join(self.path, self.fnames[i]))\n",
    "        img = cv2.resize(img, (self.sz, self.sz))\n",
    "        return img\n",
    "\n",
    "    def get_y(self, i):\n",
    "        if (self.path == TEST): return 0\n",
    "        return self.train_df.loc[self.fnames[i]]['Id']\n",
    "\n",
    "    def get_c(self):\n",
    "        return len(unique_labels)"
   ]
  },
  {
   "cell_type": "code",
   "execution_count": 9,
   "metadata": {},
   "outputs": [],
   "source": [
    "def get_data(sz, batch_size, test_names=test_names, test_dir=TEST):\n",
    "    \"\"\"\n",
    "    Read data and do augmentations\n",
    "    \"\"\"\n",
    "    aug_tfms = [RandomRotateZoom(deg=20, zoom=2, stretch=1),\n",
    "                RandomLighting(0.2, 0.2, tfm_y=TfmType.NO),\n",
    "                RandomBlur(blur_strengths=3,tfm_y=TfmType.NO),\n",
    "                RandomFlip(tfm_y=TfmType.NO)]\n",
    "    tfms = tfms_from_model(arch, sz, crop_type=CropType.NO, tfm_y=TfmType.NO,\n",
    "                           aug_tfms=aug_tfms)\n",
    "    ds = ImageData.get_ds(HWIDataset, (tr_n[:-(len(tr_n) % batch_size)], TRAIN),\n",
    "                          (val_n, TRAIN), tfms, test=(test_names, test_dir))\n",
    "    md = ImageData(\"./\", ds, batch_size, num_workers=num_workers, classes=None)\n",
    "    return md"
   ]
  },
  {
   "cell_type": "code",
   "execution_count": 10,
   "metadata": {},
   "outputs": [],
   "source": [
    "image_size = 224\n",
    "batch_size = 96\n",
    "md = get_data(image_size, batch_size)\n",
    "extra_fc_layers_size = []\n",
    "learn = ConvLearner.pretrained(arch, md, xtra_fc=extra_fc_layers_size) \n",
    "learn.opt_fn = optim.Adam"
   ]
  },
  {
   "cell_type": "code",
   "execution_count": 12,
   "metadata": {},
   "outputs": [
    {
     "name": "stdout",
     "output_type": "stream",
     "text": [
      "Number of layer groups: 3 \t(first 2 groups is pretrained backbone)\n",
      "This is our extra thin on top of the backbone Resnet50 architecture:\n"
     ]
    },
    {
     "data": {
      "text/plain": [
       "Sequential(\n",
       "  (0): BatchNorm1d(4096, eps=1e-05, momentum=0.1, affine=True, track_running_stats=True)\n",
       "  (1): Dropout(p=0.5)\n",
       "  (2): Linear(in_features=4096, out_features=5004, bias=True)\n",
       "  (3): LogSoftmax()\n",
       ")"
      ]
     },
     "execution_count": 12,
     "metadata": {},
     "output_type": "execute_result"
    }
   ],
   "source": [
    "print('Number of layer groups:', len(learn.get_layer_groups()), '\\t(first 2 groups is pretrained backbone)')\n",
    "print('This is our extra thin on top of the backbone Resnet50 architecture:')\n",
    "learn.get_layer_groups()[2]"
   ]
  },
  {
   "cell_type": "code",
   "execution_count": 16,
   "metadata": {},
   "outputs": [
    {
     "data": {
      "application/vnd.jupyter.widget-view+json": {
       "model_id": "df05b0d244a34bff89ff5de8b3d26006",
       "version_major": 2,
       "version_minor": 0
      },
      "text/plain": [
       "HBox(children=(IntProgress(value=0, description='Epoch', max=2, style=ProgressStyle(description_width='initial…"
      ]
     },
     "metadata": {},
     "output_type": "display_data"
    },
    {
     "name": "stdout",
     "output_type": "stream",
     "text": [
      "epoch      trn_loss   val_loss   accuracy                   \n",
      "    0      7.087653   5.833532   0.185591  \n",
      "    1      4.420158   3.687444   0.454816                   \n",
      "\n"
     ]
    },
    {
     "data": {
      "text/plain": [
       "[3.6874438127130853, 0.4548159858726764]"
      ]
     },
     "execution_count": 16,
     "metadata": {},
     "output_type": "execute_result"
    }
   ],
   "source": [
    "base_lr = 1e-4 # lr for the backbone\n",
    "fc_lr = 1e-3 # lr for the classifer\n",
    "\n",
    "lrs = [base_lr, base_lr, fc_lr]\n",
    "# Freeze backbone and train the classifier for 2 epochs\n",
    "learn.fit(lrs=lrs, n_cycle=2, cycle_len=None)\n"
   ]
  },
  {
   "cell_type": "code",
   "execution_count": 17,
   "metadata": {},
   "outputs": [
    {
     "data": {
      "application/vnd.jupyter.widget-view+json": {
       "model_id": "fe0d907a67714fc996f8d24e04998a46",
       "version_major": 2,
       "version_minor": 0
      },
      "text/plain": [
       "HBox(children=(IntProgress(value=0, description='Epoch', max=1, style=ProgressStyle(description_width='initial…"
      ]
     },
     "metadata": {},
     "output_type": "display_data"
    },
    {
     "name": "stdout",
     "output_type": "stream",
     "text": [
      "epoch      trn_loss   val_loss   accuracy                   \n",
      "    0      4.487634   3.303788   0.493344  \n",
      "\n"
     ]
    },
    {
     "data": {
      "text/plain": [
       "[3.3037881392282533, 0.49334378712048454]"
      ]
     },
     "execution_count": 17,
     "metadata": {},
     "output_type": "execute_result"
    }
   ],
   "source": [
    "# Unfreeze backbone and continue training for 9 epochs\n",
    "learn.unfreeze()\n",
    "learn.fit(lrs, n_cycle=1, cycle_len=None)"
   ]
  },
  {
   "cell_type": "code",
   "execution_count": 18,
   "metadata": {},
   "outputs": [
    {
     "data": {
      "application/vnd.jupyter.widget-view+json": {
       "model_id": "379aac2671c44330a2952ee852b50342",
       "version_major": 2,
       "version_minor": 0
      },
      "text/plain": [
       "HBox(children=(IntProgress(value=0, description='Epoch', max=3, style=ProgressStyle(description_width='initial…"
      ]
     },
     "metadata": {},
     "output_type": "display_data"
    },
    {
     "name": "stdout",
     "output_type": "stream",
     "text": [
      "epoch      trn_loss   val_loss   accuracy                   \n",
      "    0      3.206746   2.540809   0.610493  \n",
      "    1      1.194542   1.122965   0.810807                   \n",
      "    2      0.506933   0.875718   0.854503                    \n",
      "\n"
     ]
    },
    {
     "data": {
      "text/plain": [
       "[0.8757183048439474, 0.854502760197095]"
      ]
     },
     "execution_count": 18,
     "metadata": {},
     "output_type": "execute_result"
    }
   ],
   "source": [
    "learn.fit(lrs, n_cycle=1, cycle_len=3, use_clr=(10, 5), cycle_save_name=\"1_resnet50_2\")"
   ]
  },
  {
   "cell_type": "code",
   "execution_count": 19,
   "metadata": {},
   "outputs": [
    {
     "data": {
      "application/vnd.jupyter.widget-view+json": {
       "model_id": "eb70060ef34d47cc86aa85f72374f54d",
       "version_major": 2,
       "version_minor": 0
      },
      "text/plain": [
       "HBox(children=(IntProgress(value=0, description='Epoch', max=3, style=ProgressStyle(description_width='initial…"
      ]
     },
     "metadata": {},
     "output_type": "display_data"
    },
    {
     "name": "stdout",
     "output_type": "stream",
     "text": [
      "epoch      trn_loss   val_loss   accuracy                   \n",
      "    0      1.694076   1.410766   0.806108  \n",
      "    1      0.745337   0.909022   0.850274                    \n",
      "    2      0.464716   0.779244   0.865779                    \n",
      "\n"
     ]
    },
    {
     "data": {
      "text/plain": [
       "[0.7792441409084138, 0.8657791884317002]"
      ]
     },
     "execution_count": 19,
     "metadata": {},
     "output_type": "execute_result"
    }
   ],
   "source": [
    "learn.fit(lrs, n_cycle=3, cycle_len=1, use_clr=(10, 5), cycle_save_name=\"2_resnet50_2\")"
   ]
  },
  {
   "cell_type": "code",
   "execution_count": 11,
   "metadata": {},
   "outputs": [],
   "source": [
    "learn.load(\"subm1_resnet50_2\")"
   ]
  },
  {
   "cell_type": "code",
   "execution_count": 21,
   "metadata": {},
   "outputs": [],
   "source": [
    "learn.save(\"subm1_resnet50_2\")"
   ]
  },
  {
   "cell_type": "code",
   "execution_count": 22,
   "metadata": {},
   "outputs": [
    {
     "name": "stdout",
     "output_type": "stream",
     "text": [
      "                                                           \r"
     ]
    }
   ],
   "source": [
    "preds_v,y_v = learn.TTA(is_test=False,n_aug=2)\n",
    "preds_v = np.stack(preds_v, axis=-1)\n",
    "preds_v = np.exp(preds_v)\n",
    "preds_v = preds_v.mean(axis=-1)\n",
    "y_v += 1"
   ]
  },
  {
   "cell_type": "code",
   "execution_count": 23,
   "metadata": {},
   "outputs": [
    {
     "data": {
      "image/png": "[encoded data removed]",
      "text/plain": [
       "<Figure size 432x288 with 1 Axes>"
      ]
     },
     "metadata": {
      "needs_background": "light"
     },
     "output_type": "display_data"
    }
   ],
   "source": [
    "preds_v_max = np.max(preds_v,axis=1)\n",
    "_,_,_ = plt.hist(preds_v_max)"
   ]
  },
  {
   "cell_type": "code",
   "execution_count": 25,
   "metadata": {},
   "outputs": [
    {
     "name": "stdout",
     "output_type": "stream",
     "text": [
      "                                             \r"
     ]
    }
   ],
   "source": [
    "TEST=TRAIN # sorry\n",
    "total_new_whale = len(new_whale_df.index.values)\n",
    "md = get_data(image_size, batch_size, test_names=new_whale_df.index.values[:int(total_new_whale*0.2)], test_dir=TRAIN)\n",
    "learn.set_data(md)\n",
    "preds_w,y_w = learn.TTA(is_test=True,n_aug=2)\n",
    "preds_w = np.stack(preds_w, axis=-1)\n",
    "preds_w = np.exp(preds_w)\n",
    "preds_w = preds_w.mean(axis=-1)"
   ]
  },
  {
   "cell_type": "code",
   "execution_count": 26,
   "metadata": {},
   "outputs": [
    {
     "data": {
      "image/png": "[encoded data removed]",
      "text/plain": [
       "<Figure size 432x288 with 1 Axes>"
      ]
     },
     "metadata": {
      "needs_background": "light"
     },
     "output_type": "display_data"
    }
   ],
   "source": [
    "preds_w_max = np.max(preds_w,axis=1)\n",
    "_,_,_ = plt.hist(preds_w_max)"
   ]
  },
  {
   "cell_type": "code",
   "execution_count": 27,
   "metadata": {},
   "outputs": [],
   "source": [
    "y = np.concatenate([y_v,y_w])\n",
    "preds = np.concatenate([preds_v, preds_w],axis=0)\n",
    "preds = np.concatenate([np.zeros((preds.shape[0],1)), preds],axis=1)"
   ]
  },
  {
   "cell_type": "code",
   "execution_count": 28,
   "metadata": {},
   "outputs": [
    {
     "name": "stdout",
     "output_type": "stream",
     "text": [
      "Threshold = 0.100, MAP5 = 0.856\n",
      "Threshold = 0.110, MAP5 = 0.859\n",
      "Threshold = 0.120, MAP5 = 0.862\n",
      "Threshold = 0.130, MAP5 = 0.863\n",
      "Threshold = 0.140, MAP5 = 0.864\n",
      "Threshold = 0.150, MAP5 = 0.865\n",
      "Threshold = 0.160, MAP5 = 0.866\n",
      "Threshold = 0.170, MAP5 = 0.867\n",
      "Threshold = 0.180, MAP5 = 0.868\n",
      "Threshold = 0.190, MAP5 = 0.868\n",
      "Threshold = 0.200, MAP5 = 0.868\n",
      "Threshold = 0.210, MAP5 = 0.869\n",
      "Threshold = 0.220, MAP5 = 0.869\n",
      "Threshold = 0.230, MAP5 = 0.869\n",
      "Threshold = 0.240, MAP5 = 0.869\n",
      "Threshold = 0.250, MAP5 = 0.870\n",
      "Threshold = 0.260, MAP5 = 0.870\n",
      "Threshold = 0.270, MAP5 = 0.870\n",
      "Threshold = 0.280, MAP5 = 0.870\n",
      "Threshold = 0.290, MAP5 = 0.870\n",
      "Threshold = 0.300, MAP5 = 0.870\n",
      "Threshold = 0.310, MAP5 = 0.870\n",
      "Threshold = 0.320, MAP5 = 0.869\n",
      "Threshold = 0.330, MAP5 = 0.869\n",
      "Threshold = 0.340, MAP5 = 0.869\n",
      "Threshold = 0.350, MAP5 = 0.869\n",
      "Threshold = 0.360, MAP5 = 0.868\n",
      "Threshold = 0.370, MAP5 = 0.868\n",
      "Threshold = 0.380, MAP5 = 0.867\n",
      "Threshold = 0.390, MAP5 = 0.867\n",
      "Threshold = 0.400, MAP5 = 0.867\n",
      "Threshold = 0.410, MAP5 = 0.866\n",
      "Threshold = 0.420, MAP5 = 0.866\n",
      "Threshold = 0.430, MAP5 = 0.866\n",
      "Threshold = 0.440, MAP5 = 0.865\n",
      "Threshold = 0.450, MAP5 = 0.865\n",
      "Threshold = 0.460, MAP5 = 0.864\n",
      "Threshold = 0.470, MAP5 = 0.864\n",
      "Threshold = 0.480, MAP5 = 0.863\n",
      "Threshold = 0.490, MAP5 = 0.863\n",
      "Threshold = 0.500, MAP5 = 0.862\n",
      "Threshold = 0.510, MAP5 = 0.862\n"
     ]
    },
    {
     "ename": "KeyboardInterrupt",
     "evalue": "",
     "output_type": "error",
     "traceback": [
      "\u001b[0;31m---------------------------------------------------------------------------\u001b[0m",
      "\u001b[0;31mKeyboardInterrupt\u001b[0m                         Traceback (most recent call last)",
      "\u001b[0;32m<ipython-input-28-acefd53b38d2>\u001b[0m in \u001b[0;36m<module>\u001b[0;34m\u001b[0m\n\u001b[1;32m     13\u001b[0m \u001b[0;32mfor\u001b[0m \u001b[0mth\u001b[0m \u001b[0;32min\u001b[0m \u001b[0mnp\u001b[0m\u001b[0;34m.\u001b[0m\u001b[0marange\u001b[0m\u001b[0;34m(\u001b[0m\u001b[0;36m0.1\u001b[0m\u001b[0;34m,\u001b[0m \u001b[0;36m0.801\u001b[0m\u001b[0;34m,\u001b[0m \u001b[0;36m0.01\u001b[0m\u001b[0;34m)\u001b[0m\u001b[0;34m:\u001b[0m\u001b[0;34m\u001b[0m\u001b[0m\n\u001b[1;32m     14\u001b[0m     \u001b[0mpreds\u001b[0m\u001b[0;34m[\u001b[0m\u001b[0;34m:\u001b[0m\u001b[0;34m,\u001b[0m\u001b[0;36m0\u001b[0m\u001b[0;34m]\u001b[0m \u001b[0;34m=\u001b[0m \u001b[0mth\u001b[0m\u001b[0;34m\u001b[0m\u001b[0m\n\u001b[0;32m---> 15\u001b[0;31m     \u001b[0mscore\u001b[0m \u001b[0;34m=\u001b[0m \u001b[0mmap5\u001b[0m\u001b[0;34m(\u001b[0m\u001b[0mpreds\u001b[0m\u001b[0;34m,\u001b[0m \u001b[0my\u001b[0m\u001b[0;34m)\u001b[0m\u001b[0;34m\u001b[0m\u001b[0m\n\u001b[0m\u001b[1;32m     16\u001b[0m     \u001b[0;32mif\u001b[0m \u001b[0mscore\u001b[0m \u001b[0;34m>\u001b[0m \u001b[0mbest_score\u001b[0m\u001b[0;34m:\u001b[0m\u001b[0;34m\u001b[0m\u001b[0m\n\u001b[1;32m     17\u001b[0m         \u001b[0mbest_score\u001b[0m \u001b[0;34m=\u001b[0m \u001b[0mscore\u001b[0m\u001b[0;34m\u001b[0m\u001b[0m\n",
      "\u001b[0;32m<ipython-input-28-acefd53b38d2>\u001b[0m in \u001b[0;36mmap5\u001b[0;34m(X, y)\u001b[0m\n\u001b[1;32m      2\u001b[0m     \u001b[0mscore\u001b[0m \u001b[0;34m=\u001b[0m \u001b[0;36m0\u001b[0m\u001b[0;34m\u001b[0m\u001b[0m\n\u001b[1;32m      3\u001b[0m     \u001b[0;32mfor\u001b[0m \u001b[0mi\u001b[0m \u001b[0;32min\u001b[0m \u001b[0mrange\u001b[0m\u001b[0;34m(\u001b[0m\u001b[0mX\u001b[0m\u001b[0;34m.\u001b[0m\u001b[0mshape\u001b[0m\u001b[0;34m[\u001b[0m\u001b[0;36m0\u001b[0m\u001b[0;34m]\u001b[0m\u001b[0;34m)\u001b[0m\u001b[0;34m:\u001b[0m\u001b[0;34m\u001b[0m\u001b[0m\n\u001b[0;32m----> 4\u001b[0;31m         \u001b[0mpred\u001b[0m \u001b[0;34m=\u001b[0m \u001b[0mX\u001b[0m\u001b[0;34m[\u001b[0m\u001b[0mi\u001b[0m\u001b[0;34m]\u001b[0m\u001b[0;34m.\u001b[0m\u001b[0margsort\u001b[0m\u001b[0;34m(\u001b[0m\u001b[0;34m)\u001b[0m\u001b[0;34m[\u001b[0m\u001b[0;34m-\u001b[0m\u001b[0;36m5\u001b[0m\u001b[0;34m:\u001b[0m\u001b[0;34m]\u001b[0m\u001b[0;34m[\u001b[0m\u001b[0;34m:\u001b[0m\u001b[0;34m:\u001b[0m\u001b[0;34m-\u001b[0m\u001b[0;36m1\u001b[0m\u001b[0;34m]\u001b[0m\u001b[0;34m\u001b[0m\u001b[0m\n\u001b[0m\u001b[1;32m      5\u001b[0m         \u001b[0;32mfor\u001b[0m \u001b[0mj\u001b[0m \u001b[0;32min\u001b[0m \u001b[0mrange\u001b[0m\u001b[0;34m(\u001b[0m\u001b[0mpred\u001b[0m\u001b[0;34m.\u001b[0m\u001b[0mshape\u001b[0m\u001b[0;34m[\u001b[0m\u001b[0;36m0\u001b[0m\u001b[0;34m]\u001b[0m\u001b[0;34m)\u001b[0m\u001b[0;34m:\u001b[0m\u001b[0;34m\u001b[0m\u001b[0m\n\u001b[1;32m      6\u001b[0m             \u001b[0;32mif\u001b[0m \u001b[0mpred\u001b[0m\u001b[0;34m[\u001b[0m\u001b[0mj\u001b[0m\u001b[0;34m]\u001b[0m \u001b[0;34m==\u001b[0m \u001b[0my\u001b[0m\u001b[0;34m[\u001b[0m\u001b[0mi\u001b[0m\u001b[0;34m]\u001b[0m\u001b[0;34m:\u001b[0m\u001b[0;34m\u001b[0m\u001b[0m\n",
      "\u001b[0;31mKeyboardInterrupt\u001b[0m: "
     ]
    }
   ],
   "source": [
    "def map5(X, y):\n",
    "    score = 0\n",
    "    for i in range(X.shape[0]):\n",
    "        pred = X[i].argsort()[-5:][::-1]\n",
    "        for j in range(pred.shape[0]):\n",
    "            if pred[j] == y[i]:\n",
    "                score += (5 - j)/5\n",
    "                break\n",
    "    return score/X.shape[0]\n",
    "\n",
    "best_th = 0\n",
    "best_score = 0\n",
    "for th in np.arange(0.1, 0.801, 0.01):\n",
    "    preds[:,0] = th\n",
    "    score = map5(preds, y)\n",
    "    if score > best_score:\n",
    "        best_score = score\n",
    "        best_th = th\n",
    "    print(\"Threshold = {:.3f}, MAP5 = {:.3f}\".format(th,score))"
   ]
  },
  {
   "cell_type": "code",
   "execution_count": 13,
   "metadata": {},
   "outputs": [],
   "source": [
    "best_th = 0.31"
   ]
  },
  {
   "cell_type": "code",
   "execution_count": 12,
   "metadata": {},
   "outputs": [
    {
     "name": "stdout",
     "output_type": "stream",
     "text": [
      "                                             \r"
     ]
    },
    {
     "ename": "NameError",
     "evalue": "name 'best_th' is not defined",
     "output_type": "error",
     "traceback": [
      "\u001b[0;31m---------------------------------------------------------------------------\u001b[0m",
      "\u001b[0;31mNameError\u001b[0m                                 Traceback (most recent call last)",
      "\u001b[0;32m<ipython-input-12-d96d0ee8f56c>\u001b[0m in \u001b[0;36m<module>\u001b[0;34m\u001b[0m\n\u001b[1;32m      6\u001b[0m \u001b[0mpreds_t\u001b[0m \u001b[0;34m=\u001b[0m \u001b[0mnp\u001b[0m\u001b[0;34m.\u001b[0m\u001b[0mexp\u001b[0m\u001b[0;34m(\u001b[0m\u001b[0mpreds_t\u001b[0m\u001b[0;34m)\u001b[0m\u001b[0;34m\u001b[0m\u001b[0m\n\u001b[1;32m      7\u001b[0m \u001b[0mpreds_t\u001b[0m \u001b[0;34m=\u001b[0m \u001b[0mpreds_t\u001b[0m\u001b[0;34m.\u001b[0m\u001b[0mmean\u001b[0m\u001b[0;34m(\u001b[0m\u001b[0maxis\u001b[0m\u001b[0;34m=\u001b[0m\u001b[0;34m-\u001b[0m\u001b[0;36m1\u001b[0m\u001b[0;34m)\u001b[0m\u001b[0;34m\u001b[0m\u001b[0m\n\u001b[0;32m----> 8\u001b[0;31m \u001b[0mpreds_t\u001b[0m \u001b[0;34m=\u001b[0m \u001b[0mnp\u001b[0m\u001b[0;34m.\u001b[0m\u001b[0mconcatenate\u001b[0m\u001b[0;34m(\u001b[0m\u001b[0;34m[\u001b[0m\u001b[0mnp\u001b[0m\u001b[0;34m.\u001b[0m\u001b[0mzeros\u001b[0m\u001b[0;34m(\u001b[0m\u001b[0;34m(\u001b[0m\u001b[0mpreds_t\u001b[0m\u001b[0;34m.\u001b[0m\u001b[0mshape\u001b[0m\u001b[0;34m[\u001b[0m\u001b[0;36m0\u001b[0m\u001b[0;34m]\u001b[0m\u001b[0;34m,\u001b[0m\u001b[0;36m1\u001b[0m\u001b[0;34m)\u001b[0m\u001b[0;34m)\u001b[0m\u001b[0;34m+\u001b[0m\u001b[0mbest_th\u001b[0m\u001b[0;34m,\u001b[0m \u001b[0mpreds_t\u001b[0m\u001b[0;34m]\u001b[0m\u001b[0;34m,\u001b[0m\u001b[0maxis\u001b[0m\u001b[0;34m=\u001b[0m\u001b[0;36m1\u001b[0m\u001b[0;34m)\u001b[0m\u001b[0;34m\u001b[0m\u001b[0m\n\u001b[0m",
      "\u001b[0;31mNameError\u001b[0m: name 'best_th' is not defined"
     ]
    }
   ],
   "source": [
    "TEST = './input/test/'\n",
    "md = get_data(image_size, batch_size, test_names=test_names, test_dir=TEST)\n",
    "learn.set_data(md)\n",
    "preds_t,y_t = learn.TTA(is_test=True,n_aug=8)"
   ]
  },
  {
   "cell_type": "code",
   "execution_count": null,
   "metadata": {},
   "outputs": [],
   "source": [
    "preds_t = np.stack(preds_t, axis=-1)\n",
    "preds_t = np.exp(preds_t)\n",
    "preds_t = preds_t.mean(axis=-1)\n"
   ]
  },
  {
   "cell_type": "code",
   "execution_count": 14,
   "metadata": {},
   "outputs": [],
   "source": [
    "preds_t = np.concatenate([np.zeros((preds_t.shape[0],1))+best_th, preds_t],axis=1)"
   ]
  },
  {
   "cell_type": "code",
   "execution_count": 15,
   "metadata": {},
   "outputs": [],
   "source": [
    "np.save(\"preds_whale50_2_preds\", preds_t)"
   ]
  },
  {
   "cell_type": "code",
   "execution_count": 16,
   "metadata": {},
   "outputs": [],
   "source": [
    "aa = 0 if labels_list[0] != \"new_whale\" else 1"
   ]
  },
  {
   "cell_type": "code",
   "execution_count": 17,
   "metadata": {},
   "outputs": [
    {
     "data": {
      "text/plain": [
       "0"
      ]
     },
     "execution_count": 17,
     "metadata": {},
     "output_type": "execute_result"
    }
   ],
   "source": [
    "aa"
   ]
  },
  {
   "cell_type": "code",
   "execution_count": null,
   "metadata": {},
   "outputs": [],
   "source": []
  },
  {
   "cell_type": "code",
   "execution_count": 20,
   "metadata": {},
   "outputs": [
    {
     "data": {
      "text/html": [
       "<div>\n",
       "<style scoped>\n",
       "    .dataframe tbody tr th:only-of-type {\n",
       "        vertical-align: middle;\n",
       "    }\n",
       "\n",
       "    .dataframe tbody tr th {\n",
       "        vertical-align: top;\n",
       "    }\n",
       "\n",
       "    .dataframe thead th {\n",
       "        text-align: right;\n",
       "    }\n",
       "</style>\n",
       "<table border=\"1\" class=\"dataframe\">\n",
       "  <thead>\n",
       "    <tr style=\"text-align: right;\">\n",
       "      <th></th>\n",
       "      <th>Image</th>\n",
       "      <th>Id</th>\n",
       "    </tr>\n",
       "  </thead>\n",
       "  <tbody>\n",
       "    <tr>\n",
       "      <th>0</th>\n",
       "      <td>00028a005.jpg</td>\n",
       "      <td>new_whale w_bb2c919 w_0e9f07a w_f5bf6df w_04003e9</td>\n",
       "    </tr>\n",
       "    <tr>\n",
       "      <th>1</th>\n",
       "      <td>000dcf7d8.jpg</td>\n",
       "      <td>w_4132bb8 new_whale w_f2075ef w_adedd1f w_df86a42</td>\n",
       "    </tr>\n",
       "    <tr>\n",
       "      <th>2</th>\n",
       "      <td>000e7c7df.jpg</td>\n",
       "      <td>new_whale w_9ba4a9a w_a743e09 w_15951db w_0a84ac5</td>\n",
       "    </tr>\n",
       "    <tr>\n",
       "      <th>3</th>\n",
       "      <td>0019c34f4.jpg</td>\n",
       "      <td>new_whale w_8b86b95 w_9c506f6 w_f765256 w_f8511e9</td>\n",
       "    </tr>\n",
       "    <tr>\n",
       "      <th>4</th>\n",
       "      <td>001a4d292.jpg</td>\n",
       "      <td>new_whale w_9e18daa w_3ef0017 w_92ac4b2 w_d210085</td>\n",
       "    </tr>\n",
       "  </tbody>\n",
       "</table>\n",
       "</div>"
      ],
      "text/plain": [
       "           Image                                                 Id\n",
       "0  00028a005.jpg  new_whale w_bb2c919 w_0e9f07a w_f5bf6df w_04003e9\n",
       "1  000dcf7d8.jpg  w_4132bb8 new_whale w_f2075ef w_adedd1f w_df86a42\n",
       "2  000e7c7df.jpg  new_whale w_9ba4a9a w_a743e09 w_15951db w_0a84ac5\n",
       "3  0019c34f4.jpg  new_whale w_8b86b95 w_9c506f6 w_f765256 w_f8511e9\n",
       "4  001a4d292.jpg  new_whale w_9e18daa w_3ef0017 w_92ac4b2 w_d210085"
      ]
     },
     "execution_count": 20,
     "metadata": {},
     "output_type": "execute_result"
    }
   ],
   "source": [
    "sample_df = pd.read_csv(SAMPLE_SUB)\n",
    "sample_list = list(sample_df.Image)\n",
    "labels_list = [\"new_whale\"]+labels_list if labels_list[0] != \"new_whale\" else labels_list\n",
    "pred_list = [[labels_list[i] for i in p.argsort()[-5:][::-1]] for p in preds_t]\n",
    "pred_dic = dict((key, value) for (key, value) in zip(learn.data.test_ds.fnames,pred_list))\n",
    "pred_list_cor = [' '.join(pred_dic[id]) for id in sample_list]\n",
    "df = pd.DataFrame({'Image':sample_list,'Id': pred_list_cor})\n",
    "df.to_csv('submission_rn_2.csv', header=True, index=False)\n",
    "df.head()"
   ]
  },
  {
   "cell_type": "code",
   "execution_count": null,
   "metadata": {},
   "outputs": [
    {
     "data": {
      "application/vnd.jupyter.widget-view+json": {
       "model_id": "a6d93261c53d4830a4302c86687a8ae3",
       "version_major": 2,
       "version_minor": 0
      },
      "text/plain": [
       "HBox(children=(IntProgress(value=0, description='Epoch', max=3, style=ProgressStyle(description_width='initial…"
      ]
     },
     "metadata": {},
     "output_type": "display_data"
    },
    {
     "name": "stdout",
     "output_type": "stream",
     "text": [
      "epoch      trn_loss   val_loss   accuracy                   \n",
      "    0      1.180431   1.151356   0.843383  \n",
      " 16%|█▌        | 43/266 [00:37<02:59,  1.24it/s, loss=0.842]"
     ]
    }
   ],
   "source": [
    "learn.fit(lrs, n_cycle=3, cycle_len=1, use_clr=(10, 5), cycle_save_name=\"3_resnet50_2\")"
   ]
  },
  {
   "cell_type": "code",
   "execution_count": 21,
   "metadata": {},
   "outputs": [
    {
     "data": {
      "application/vnd.jupyter.widget-view+json": {
       "model_id": "",
       "version_major": 2,
       "version_minor": 0
      },
      "text/plain": [
       "HBox(children=(IntProgress(value=0, description='Epoch', max=6, style=ProgressStyle(description_width='initial…"
      ]
     },
     "metadata": {},
     "output_type": "display_data"
    },
    {
     "name": "stdout",
     "output_type": "stream",
     "text": [
      "epoch      trn_loss   val_loss   accuracy                   \n",
      "    0      2.956882   1.012938   0.836     \n",
      "    1      1.88819    0.522162   0.899                      \n",
      "    2      1.930236   0.381375   0.913                      \n",
      "    3      0.955006   0.110373   0.976                       \n",
      "    4      1.051642   0.116775   0.966                       \n",
      "    5      0.538573   0.020373   0.999                       \n",
      "\n"
     ]
    },
    {
     "data": {
      "text/plain": [
       "[0.02037325496226549, 0.9990000038146972]"
      ]
     },
     "execution_count": 21,
     "metadata": {},
     "output_type": "execute_result"
    }
   ],
   "source": [
    "learn.fit(lrs, n_cycle=3, cycle_len=2, use_clr=(10, 5), cycle_save_name=\"4_resnet50_2\")"
   ]
  },
  {
   "cell_type": "code",
   "execution_count": 23,
   "metadata": {},
   "outputs": [
    {
     "name": "stdout",
     "output_type": "stream",
     "text": [
      "                                                           \r"
     ]
    }
   ],
   "source": [
    "preds_t,y_t = learn.TTA(is_test=True,n_aug=8)\n",
    "preds_t = np.stack(preds_t, axis=-1)\n",
    "preds_t = np.exp(preds_t)\n",
    "preds_t = preds_t.mean(axis=-1)"
   ]
  },
  {
   "cell_type": "code",
   "execution_count": 24,
   "metadata": {},
   "outputs": [
    {
     "data": {
      "text/html": [
       "<div>\n",
       "<style scoped>\n",
       "    .dataframe tbody tr th:only-of-type {\n",
       "        vertical-align: middle;\n",
       "    }\n",
       "\n",
       "    .dataframe tbody tr th {\n",
       "        vertical-align: top;\n",
       "    }\n",
       "\n",
       "    .dataframe thead th {\n",
       "        text-align: right;\n",
       "    }\n",
       "</style>\n",
       "<table border=\"1\" class=\"dataframe\">\n",
       "  <thead>\n",
       "    <tr style=\"text-align: right;\">\n",
       "      <th></th>\n",
       "      <th>Image</th>\n",
       "      <th>Id</th>\n",
       "    </tr>\n",
       "  </thead>\n",
       "  <tbody>\n",
       "    <tr>\n",
       "      <th>0</th>\n",
       "      <td>00028a005.jpg</td>\n",
       "      <td>new_whale w_dec7ffd w_69b5ace w_f442602 w_97d60b9</td>\n",
       "    </tr>\n",
       "    <tr>\n",
       "      <th>1</th>\n",
       "      <td>000dcf7d8.jpg</td>\n",
       "      <td>w_4132bb8 new_whale w_e3956f5 w_94f41dc w_3108dce</td>\n",
       "    </tr>\n",
       "    <tr>\n",
       "      <th>2</th>\n",
       "      <td>000e7c7df.jpg</td>\n",
       "      <td>new_whale w_a743e09 w_9ba4a9a w_b5e6c80 w_94c3bf0</td>\n",
       "    </tr>\n",
       "    <tr>\n",
       "      <th>3</th>\n",
       "      <td>0019c34f4.jpg</td>\n",
       "      <td>new_whale w_59052ad w_8b86b95 w_91b678a w_71fa596</td>\n",
       "    </tr>\n",
       "    <tr>\n",
       "      <th>4</th>\n",
       "      <td>001a4d292.jpg</td>\n",
       "      <td>new_whale w_9e18daa w_5688262 w_3ef0017 w_16c264e</td>\n",
       "    </tr>\n",
       "  </tbody>\n",
       "</table>\n",
       "</div>"
      ],
      "text/plain": [
       "           Image                                                 Id\n",
       "0  00028a005.jpg  new_whale w_dec7ffd w_69b5ace w_f442602 w_97d60b9\n",
       "1  000dcf7d8.jpg  w_4132bb8 new_whale w_e3956f5 w_94f41dc w_3108dce\n",
       "2  000e7c7df.jpg  new_whale w_a743e09 w_9ba4a9a w_b5e6c80 w_94c3bf0\n",
       "3  0019c34f4.jpg  new_whale w_59052ad w_8b86b95 w_91b678a w_71fa596\n",
       "4  001a4d292.jpg  new_whale w_9e18daa w_5688262 w_3ef0017 w_16c264e"
      ]
     },
     "execution_count": 24,
     "metadata": {},
     "output_type": "execute_result"
    }
   ],
   "source": [
    "sample_df = pd.read_csv(SAMPLE_SUB)\n",
    "sample_list = list(sample_df.Image)\n",
    "pred_list = [[labels_list[i] for i in p.argsort()[-5:][::-1]] for p in preds_t]\n",
    "pred_dic = dict((key, value) for (key, value) in zip(learn.data.test_ds.fnames,pred_list))\n",
    "pred_list_cor = [' '.join(pred_dic[id]) for id in sample_list]\n",
    "df = pd.DataFrame({'Image':sample_list,'Id': pred_list_cor})\n",
    "df.to_csv('submission_2{}.csv'.format(MODEL_NAME), header=True, index=False)\n",
    "df.head()"
   ]
  },
  {
   "cell_type": "code",
   "execution_count": 31,
   "metadata": {},
   "outputs": [
    {
     "name": "stdout",
     "output_type": "stream",
     "text": [
      "fastai\t\t    submission1.csv\t     tmp\t\t Whales.ipynb\r\n",
      "input\t\t    submission.csv\t     whales50.ipynb\r\n",
      "learn_whales.ipynb  submission_Resnet50.csv  whales50-V2.ipynb\r\n",
      "models\t\t    submission_rn_2.csv      Whales-Copy1.ipynb\r\n"
     ]
    }
   ],
   "source": [
    "!ls"
   ]
  },
  {
   "cell_type": "code",
   "execution_count": 32,
   "metadata": {},
   "outputs": [
    {
     "name": "stdout",
     "output_type": "stream",
     "text": [
      "100%|█████████████████████████████████████████| 498k/498k [00:02<00:00, 211kB/s]\n",
      "Successfully submitted to Humpback Whale Identification"
     ]
    }
   ],
   "source": [
    "!kaggle competitions submit -c humpback-whale-identification -f \"submission_rn_2.csv\" -m \"resnet50 v2 train no whale, threshold, strat sampl\""
   ]
  },
  {
   "cell_type": "code",
   "execution_count": 33,
   "metadata": {},
   "outputs": [
    {
     "name": "stdout",
     "output_type": "stream",
     "text": [
      "fileName                 date                 description                                         status    publicScore  privateScore  \r\n",
      "-----------------------  -------------------  --------------------------------------------------  --------  -----------  ------------  \r\n",
      "submission_rn_2.csv      2018-12-06 15:57:14  resnet50 v2 train no whale, threshold, strat sampl  complete  0.446        None          \r\n",
      "submission_Resnet50.csv  2018-12-06 12:30:39  resnet50 no val sampling                            complete  0.587        None          \r\n",
      "submission1.csv          2018-12-04 19:40:43  second                                              complete  0.362        None          \r\n",
      "submission.csv           2018-12-03 18:02:32  \"1st\"                                               complete  0.324        None          \r\n"
     ]
    }
   ],
   "source": [
    "!kaggle competitions submissions humpback-whale-identification"
   ]
  },
  {
   "cell_type": "code",
   "execution_count": 31,
   "metadata": {},
   "outputs": [
    {
     "name": "stdout",
     "output_type": "stream",
     "text": [
      " teamId  teamName                      submissionDate       score  \r\n",
      "-------  ----------------------------  -------------------  -----  \r\n",
      "2471928  NPU-ASGO                      2018-12-06 01:11:36  0.889  \r\n",
      "2471984  Zihan Huang                   2018-12-05 09:22:39  0.826  \r\n",
      "2479830  pi-null-mezon                 2018-12-06 06:57:27  0.823  \r\n",
      "2466533  yvan                          2018-12-06 04:33:28  0.821  \r\n",
      "2486517  Philip                        2018-12-06 03:12:27  0.775  \r\n",
      "2471947  Yifei Yang                    2018-12-04 11:57:48  0.732  \r\n",
      "2473929  Orest Kupyn                   2018-12-05 18:09:27  0.719  \r\n",
      "2471589  Hansoluo                      2018-12-06 06:14:54  0.701  \r\n",
      "2468444  [ods.ai] Artem.Sanakoev       2018-12-06 04:27:23  0.695  \r\n",
      "2465705  YoungMin Ro                   2018-12-06 02:33:46  0.679  \r\n",
      "2483259  yao                           2018-12-05 11:06:27  0.640  \r\n",
      "2471819  Siarhei Fedartsou             2018-12-05 05:21:27  0.628  \r\n",
      "2475771  Chih Hao Ma                   2018-12-06 10:02:19  0.620  \r\n",
      "2467340  Alexander Teplyuk             2018-12-06 11:32:32  0.608  \r\n",
      "2471127  LiangdeLi                     2018-12-06 08:36:40  0.594  \r\n",
      "2484157  Hung Nguyen The               2018-12-06 10:08:50  0.592  \r\n",
      "2466797  Ankit Sati                    2018-12-06 02:52:59  0.590  \r\n",
      "2476732  Hoàng Tùng Lâm                2018-12-06 07:53:16  0.590  \r\n",
      "2474760  Matthew Anderson              2018-12-06 04:01:03  0.590  \r\n",
      "2466714  JGJP                          2018-12-06 06:39:54  0.590  \r\n",
      "2466330  Chandan Verma                 2018-12-06 05:47:37  0.590  \r\n",
      "2481021  zhengbin                      2018-12-06 10:54:33  0.590  \r\n",
      "2472808  lsfszyf                       2018-12-06 07:37:18  0.590  \r\n",
      "2469038  Patryk Binkowski              2018-12-06 07:49:02  0.590  \r\n",
      "2476916  ZeroCode3                     2018-12-06 07:51:11  0.590  \r\n",
      "2479706  Elisey Gusev                  2018-12-06 07:56:23  0.590  \r\n",
      "2466696  Arunkumar V Ramanan           2018-12-06 08:18:43  0.590  \r\n",
      "2470829  Vladimir Osin                 2018-12-06 08:31:17  0.590  \r\n",
      "2470218  [ods.ai] Konstantin Maksimov  2018-12-06 08:34:37  0.590  \r\n",
      "2472203  Saurabh Kumar                 2018-12-06 08:54:53  0.590  \r\n",
      "2493698  Sergeeva Sofiya               2018-12-06 09:30:54  0.590  \r\n",
      "2468788  KevinGarda                    2018-12-06 10:48:24  0.590  \r\n",
      "2467891  See--                         2018-12-06 10:51:26  0.590  \r\n",
      "2471655  Shubh                         2018-12-06 11:48:50  0.590  \r\n",
      "2468508  BingchenZhao                  2018-12-06 12:17:40  0.590  \r\n",
      "2478433  Alexandru Brie                2018-12-06 12:30:39  0.587  \r\n",
      "2467629  MSJose                        2018-12-05 01:55:53  0.584  \r\n",
      "2477676  zhh                           2018-12-06 06:51:19  0.574  \r\n",
      "2470027  Martin Bonardi                2018-12-06 01:34:08  0.573  \r\n",
      "2489029  ~桃子~                          2018-12-05 11:53:17  0.573  \r\n",
      "2471112  ZuoVJ                         2018-12-06 10:33:37  0.570  \r\n",
      "2486858  kyuer                         2018-12-06 08:21:31  0.562  \r\n",
      "2473964  🇻🇳 SAMI-HUST                  2018-12-06 10:06:36  0.558  \r\n",
      "2465676  Simon Moisselin               2018-12-05 08:42:30  0.557  \r\n",
      "2492629  大黑楼                           2018-12-06 11:00:07  0.556  \r\n",
      "2464955  Khoi Nguyen                   2018-12-06 10:26:39  0.549  \r\n",
      "2492919  Vladimir Savinov              2018-12-06 09:08:13  0.548  \r\n",
      "2466969  YH Lin                        2018-12-06 11:11:47  0.545  \r\n",
      "2471697  AnilPandey                    2018-12-06 06:33:41  0.544  \r\n",
      "2483945  Epochs of Fury                2018-12-06 12:16:59  0.539  \r\n"
     ]
    }
   ],
   "source": [
    "!kaggle competitions leaderboard --show humpback-whale-identification"
   ]
  }
 ],
 "metadata": {
  "kernelspec": {
   "display_name": "Python 3",
   "language": "python",
   "name": "python3"
  },
  "language_info": {
   "codemirror_mode": {
    "name": "ipython",
    "version": 3
   },
   "file_extension": ".py",
   "mimetype": "text/x-python",
   "name": "python",
   "nbconvert_exporter": "python",
   "pygments_lexer": "ipython3",
   "version": "3.6.6"
  }
 },
 "nbformat": 4,
 "nbformat_minor": 2
}
